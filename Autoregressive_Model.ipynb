{
 "cells": [
  {
   "cell_type": "code",
   "execution_count": 2,
   "metadata": {
    "colab": {
     "base_uri": "https://localhost:8080/"
    },
    "id": "cg7Cwiwp5HWk",
    "outputId": "cff5cb88-2255-4d57-d40a-7d1578ecc1b9"
   },
   "outputs": [
    {
     "name": "stdout",
     "output_type": "stream",
     "text": [
      "Collecting wget\n",
      "  Downloading wget-3.2.zip (10 kB)\n",
      "  Preparing metadata (setup.py) ... \u001b[?25l\u001b[?25hdone\n",
      "Building wheels for collected packages: wget\n",
      "  Building wheel for wget (setup.py) ... \u001b[?25l\u001b[?25hdone\n",
      "  Created wheel for wget: filename=wget-3.2-py3-none-any.whl size=9655 sha256=a2f02adb0ded61ab2c7274393d37dbb653e0e78eecb44e2590b3ad1bdf3d0239\n",
      "  Stored in directory: /root/.cache/pip/wheels/8b/f1/7f/5c94f0a7a505ca1c81cd1d9208ae2064675d97582078e6c769\n",
      "Successfully built wget\n",
      "Installing collected packages: wget\n",
      "Successfully installed wget-3.2\n"
     ]
    }
   ],
   "source": [
    "!pip install wget"
   ]
  },
  {
   "cell_type": "code",
   "execution_count": 3,
   "metadata": {
    "id": "A3Yw4Iwy4m7O"
   },
   "outputs": [],
   "source": [
    "import torch\n",
    "import torch.nn as nn\n",
    "import torch.nn.functional as F\n",
    "\n",
    "import torch.optim as optim\n",
    "\n",
    "import matplotlib.pyplot as plt\n",
    "import numpy as np\n",
    "import random\n",
    "from data_rnn import load_ndfa, load_brackets"
   ]
  },
  {
   "cell_type": "markdown",
   "metadata": {
    "id": "NJfC40GD4m7P"
   },
   "source": [
    "NDFA"
   ]
  },
  {
   "cell_type": "markdown",
   "metadata": {
    "id": "LDU75PwY4m7Q"
   },
   "source": [
    "Q6"
   ]
  },
  {
   "cell_type": "code",
   "execution_count": 7,
   "metadata": {
    "id": "RdqAPE0O4m7R"
   },
   "outputs": [],
   "source": [
    "x_train, (i2w, w2i) = load_ndfa(n=150_000)"
   ]
  },
  {
   "cell_type": "code",
   "execution_count": 8,
   "metadata": {
    "colab": {
     "base_uri": "https://localhost:8080/"
    },
    "id": "SANcG26H4m7R",
    "outputId": "054e17d2-0b27-4e8b-81d1-c1fa744fcb0e"
   },
   "outputs": [
    {
     "data": {
      "text/plain": [
       "['.pad',\n",
       " '.start',\n",
       " '.end',\n",
       " '.unk',\n",
       " 'c',\n",
       " 'l',\n",
       " 'a',\n",
       " 'b',\n",
       " 'm',\n",
       " 'w',\n",
       " 'u',\n",
       " 'v',\n",
       " '!',\n",
       " 's',\n",
       " 'k']"
      ]
     },
     "execution_count": 8,
     "metadata": {},
     "output_type": "execute_result"
    }
   ],
   "source": [
    "i2w"
   ]
  },
  {
   "cell_type": "code",
   "execution_count": 9,
   "metadata": {
    "colab": {
     "base_uri": "https://localhost:8080/"
    },
    "id": "hj_za0Wb4m7S",
    "outputId": "32322624-f8ff-44cd-db08-1e6d4a638e96"
   },
   "outputs": [
    {
     "data": {
      "text/plain": [
       "{'.pad': 0,\n",
       " '.start': 1,\n",
       " '.end': 2,\n",
       " '.unk': 3,\n",
       " 'c': 4,\n",
       " 'l': 5,\n",
       " 'a': 6,\n",
       " 'b': 7,\n",
       " 'm': 8,\n",
       " 'w': 9,\n",
       " 'u': 10,\n",
       " 'v': 11,\n",
       " '!': 12,\n",
       " 's': 13,\n",
       " 'k': 14}"
      ]
     },
     "execution_count": 9,
     "metadata": {},
     "output_type": "execute_result"
    }
   ],
   "source": [
    "w2i"
   ]
  },
  {
   "cell_type": "code",
   "execution_count": 10,
   "metadata": {
    "colab": {
     "base_uri": "https://localhost:8080/"
    },
    "id": "YsrWkV0J4m7S",
    "outputId": "dea91c15-6243-4f69-911b-4748bfe3b6c7"
   },
   "outputs": [
    {
     "name": "stdout",
     "output_type": "stream",
     "text": [
      "[13, 6, 7, 4, 12, 6, 7, 4, 12, 6, 7, 4, 12, 6, 7, 4, 12, 6, 7, 4, 12, 6, 7, 4, 12, 6, 7, 4, 12, 6, 7, 4, 12, 6, 7, 4, 12, 6, 7, 4, 12, 6, 7, 4, 12, 6, 7, 4, 12, 6, 7, 4, 12, 6, 7, 4, 12, 6, 7, 4, 12, 6, 7, 4, 12, 6, 7, 4, 12, 6, 7, 4, 12, 6, 7, 4, 12, 6, 7, 4, 12, 6, 7, 4, 12, 6, 7, 4, 12, 6, 7, 4, 12, 6, 7, 4, 12, 6, 7, 4, 12, 6, 7, 4, 12, 6, 7, 4, 12, 6, 7, 4, 12, 6, 7, 4, 12, 6, 7, 4, 12, 6, 7, 4, 12, 6, 7, 4, 12, 6, 7, 4, 12, 6, 7, 4, 12, 6, 7, 4, 12, 6, 7, 4, 12, 6, 7, 4, 12, 6, 7, 4, 12, 6, 7, 4, 12, 13]\n",
      "\n",
      "suvw!uvw!uvw!uvw!uvw!uvw!uvw!uvw!uvw!uvw!uvw!uvw!uvw!uvw!uvw!uvw!uvw!uvw!uvw!uvw!uvw!uvw!uvw!uvw!uvw!uvw!uvw!uvw!uvw!uvw!uvw!uvw!uvw!s\n"
     ]
    }
   ],
   "source": [
    "print((x_train[149999]))\n",
    "print()\n",
    "print(''.join([i2w[i] for i in  x_train[149993]]) )\n"
   ]
  },
  {
   "cell_type": "code",
   "execution_count": 11,
   "metadata": {
    "colab": {
     "base_uri": "https://localhost:8080/"
    },
    "id": "E2N6X2O_4m7S",
    "outputId": "9be84bce-686d-4a7a-bd09-6f67cc8ffa32"
   },
   "outputs": [
    {
     "name": "stdout",
     "output_type": "stream",
     "text": [
      "Number of batches created is 210\n",
      "\n",
      "The shape of batch number 0 is torch.Size([333, 10001])\n",
      "The shape of batch number 1 is torch.Size([229, 10001])\n",
      "The shape of batch number 2 is torch.Size([294, 10001])\n",
      "The shape of batch number 3 is torch.Size([294, 10001])\n",
      "The shape of batch number 4 is torch.Size([238, 10001])\n"
     ]
    }
   ],
   "source": [
    "import numpy as np\n",
    "import torch\n",
    "\n",
    "def create_batches(data, max_tokens_per_batch):\n",
    "    batches = []\n",
    "    current_batch = []\n",
    "    current_tokens = 0\n",
    "\n",
    "    for sequence in data:\n",
    "        if current_tokens + len(sequence) <= max_tokens_per_batch:\n",
    "            current_batch.append(sequence)\n",
    "            current_tokens += len(sequence)\n",
    "        else:\n",
    "            batches.append(current_batch)\n",
    "            current_batch = [sequence]\n",
    "            current_tokens = len(sequence)\n",
    "\n",
    "    if current_batch:\n",
    "        batches.append(current_batch)\n",
    "\n",
    "    # Shuffle batches\n",
    "    np.random.shuffle(batches)\n",
    "\n",
    "    return batches\n",
    "\n",
    "def process_batches(batch, w2i):\n",
    "    processed_batch = []\n",
    "    for _, sequence in enumerate(batch):\n",
    "        sequence_with_start = [w2i['.start']] + batch[0]\n",
    "        sequence_with_pad = sequence_with_start + [w2i['.pad']] * (max_tokens_per_batch - len(sequence_with_start))\n",
    "        sequence_with_end = sequence_with_pad + [w2i['.end']]\n",
    "\n",
    "        processed_batch.append(sequence_with_end)\n",
    "\n",
    "    target_batches = [batch[1:] + [w2i['.end']] for batch in processed_batch]\n",
    "\n",
    "\n",
    "    input_tensor = torch.tensor(processed_batch, dtype=torch.long)\n",
    "    target_tensor = torch.tensor(target_batches, dtype=torch.long)\n",
    "\n",
    "    return input_tensor, target_tensor\n",
    "\n",
    "# Example usage\n",
    "max_tokens_per_batch = 10000\n",
    "batches = create_batches(x_train, max_tokens_per_batch)\n",
    "print(f'Number of batches created is {len(batches)}')\n",
    "print()\n",
    "\n",
    "for i in range(5):\n",
    "    input_tensor, target_tensor = process_batches(batches[i], w2i)\n",
    "    print(f'The shape of batch number {i} is {input_tensor.shape}')"
   ]
  },
  {
   "cell_type": "code",
   "execution_count": 12,
   "metadata": {
    "colab": {
     "base_uri": "https://localhost:8080/"
    },
    "id": "cWCciDSg4m7T",
    "outputId": "fd111072-2f02-4048-f94c-621b9aab38d0"
   },
   "outputs": [
    {
     "data": {
      "text/plain": [
       "torch.Size([238, 10001])"
      ]
     },
     "execution_count": 12,
     "metadata": {},
     "output_type": "execute_result"
    }
   ],
   "source": [
    "input_tensor.shape"
   ]
  },
  {
   "cell_type": "code",
   "execution_count": 13,
   "metadata": {
    "id": "ufmo3aew4m7T"
   },
   "outputs": [],
   "source": [
    "class LSTM(nn.Module):\n",
    "    def __init__(self, input_dim, embed_size, hidden_dim, vocab, lstm_layers):\n",
    "        super().__init__()\n",
    "        self.embed = nn.Embedding(input_dim, embed_size)\n",
    "        self.lstm = nn.LSTM(embed_size, hidden_dim, lstm_layers, batch_first=True)\n",
    "        self.Linear = nn.Linear(hidden_dim, vocab)\n",
    "\n",
    "\n",
    "    def forward(self, x):\n",
    "        input = x\n",
    "        x = self.embed(x)\n",
    "        x, _ = self.lstm(x)\n",
    "        x = self.Linear(x)\n",
    "        return x\n",
    "\n",
    "\n",
    "\n"
   ]
  },
  {
   "cell_type": "code",
   "execution_count": 14,
   "metadata": {
    "id": "0FQNJIGI4m7U"
   },
   "outputs": [],
   "source": [
    "vocab = len(w2i)\n",
    "embed_size = 32\n",
    "hidden_dim = 16\n",
    "lstm_layers = 2\n",
    "model = LSTM(vocab, embed_size, hidden_dim, vocab, lstm_layers)\n",
    "\n",
    "\n"
   ]
  },
  {
   "cell_type": "code",
   "execution_count": 15,
   "metadata": {
    "colab": {
     "base_uri": "https://localhost:8080/"
    },
    "id": "xtC18-e64m7U",
    "outputId": "e9127f82-406e-4044-a036-d93ff4c7ce81"
   },
   "outputs": [
    {
     "data": {
      "text/plain": [
       "LSTM(\n",
       "  (embed): Embedding(15, 32)\n",
       "  (lstm): LSTM(32, 16, num_layers=2, batch_first=True)\n",
       "  (Linear): Linear(in_features=16, out_features=15, bias=True)\n",
       ")"
      ]
     },
     "execution_count": 15,
     "metadata": {},
     "output_type": "execute_result"
    }
   ],
   "source": [
    "model"
   ]
  },
  {
   "cell_type": "markdown",
   "metadata": {
    "id": "jfFVMgXp4m7U"
   },
   "source": [
    "Q7"
   ]
  },
  {
   "cell_type": "code",
   "execution_count": 16,
   "metadata": {
    "id": "32NhfANo4m7U"
   },
   "outputs": [],
   "source": [
    "import torch.distributions as dist\n",
    "def sample(lnprobs, temperature=1.0):\n",
    "    \"\"\"\n",
    "         Sample an element from a categorical distribution\n",
    "         :param lnprobs: Outcome logits\n",
    "         :param temperature: Sampling temperature. 1.0 follows the given\n",
    "distribution, 0.0 returns the maximum probability element. :return: The index of the sampled element.\n",
    "\"\"\"\n",
    "    if temperature == 0.0:\n",
    "        return lnprobs.argmax()\n",
    "    p = F.softmax(lnprobs / temperature, dim=0)\n",
    "    cd = dist.Categorical(p)\n",
    "    return cd.sample()\n"
   ]
  },
  {
   "cell_type": "code",
   "execution_count": 17,
   "metadata": {
    "colab": {
     "base_uri": "https://localhost:8080/"
    },
    "id": "pvuk0hot4m7V",
    "outputId": "51d59ab4-c9b8-4097-f5ce-f21987bea674"
   },
   "outputs": [
    {
     "name": "stdout",
     "output_type": "stream",
     "text": [
      "{'.pad': 0, '.start': 1, '.end': 2, '.unk': 3, 'c': 4, 'l': 5, 'a': 6, 'b': 7, 'm': 8, 'w': 9, 'u': 10, 'v': 11, '!': 12, 's': 13, 'k': 14}\n"
     ]
    }
   ],
   "source": [
    "print(w2i)"
   ]
  },
  {
   "cell_type": "code",
   "execution_count": 18,
   "metadata": {
    "colab": {
     "base_uri": "https://localhost:8080/"
    },
    "id": "_udhQ-oS4m7V",
    "outputId": "ef403366-a4f7-44a5-b0ee-d00489d250bd"
   },
   "outputs": [
    {
     "name": "stdout",
     "output_type": "stream",
     "text": [
      "tensor([ 0.0431,  0.1138,  0.0526,  0.1654, -0.2375,  0.1939, -0.2347, -0.0446,\n",
      "        -0.1530, -0.2599, -0.2355, -0.1694, -0.1015, -0.1294,  0.0744],\n",
      "       grad_fn=<SliceBackward0>)\n"
     ]
    }
   ],
   "source": [
    "#make a seed sequence\n",
    "seq = [w2i['.start'], w2i['a'], w2i['b'], w2i['b'], w2i['a'], w2i['.end']]\n",
    "#transform the sequence into a tensor and add a singleton dimension\n",
    "seq = torch.tensor(seq).unsqueeze(0)\n",
    "#feed the sequence to the model\n",
    "out = model(seq)\n",
    "#observe the probabilities of the next token\n",
    "print(out[0, -1, :])\n",
    "#sample the next token\n",
    "next_token = sample(out[0, -1, :], temperature=0.5)\n",
    "#append it to the sequence\n",
    "seq = torch.cat([seq, next_token.unsqueeze(0).unsqueeze(0)], dim=1)\n",
    "\n",
    "\n",
    "\n"
   ]
  },
  {
   "cell_type": "code",
   "execution_count": 19,
   "metadata": {
    "colab": {
     "base_uri": "https://localhost:8080/"
    },
    "id": "CufVbWYP4m7V",
    "outputId": "acb46f7c-69a4-454f-a75a-3153c7f51f64"
   },
   "outputs": [
    {
     "name": "stdout",
     "output_type": "stream",
     "text": [
      "tensor([[ 1,  6,  7,  7,  6,  2, 11]])\n",
      "['.start', 'a', 'b', 'b', 'a', '.end', 'v']\n"
     ]
    }
   ],
   "source": [
    "print(seq)\n",
    "print([i2w[i] for i in seq[0]])"
   ]
  },
  {
   "cell_type": "code",
   "execution_count": 20,
   "metadata": {
    "colab": {
     "base_uri": "https://localhost:8080/"
    },
    "id": "InLzs1jN4m7W",
    "outputId": "ccf16027-60ee-490e-f9a3-300f22b48b84"
   },
   "outputs": [
    {
     "name": "stdout",
     "output_type": "stream",
     "text": [
      "['.start', 'a', 'b', 'v', 'v', 'v', 'v', 'v', 'v', 'v']\n"
     ]
    }
   ],
   "source": [
    "def generate_samples(model, seed_seq, max_len, temp, w2i):\n",
    "    seq = seed_seq\n",
    "    out = model(seq)\n",
    "    next_token = sample(out[0, -1, :], temperature=temp)\n",
    "    while len(seq[0]) < max_len and next_token != w2i['.end']:\n",
    "        seq = torch.cat([seq, next_token.unsqueeze(0).unsqueeze(0)], dim=1)\n",
    "    return seq\n",
    "\n",
    "seed_seq = torch.tensor([w2i['.start'], w2i['a'], w2i['b']]).unsqueeze(0)\n",
    "for i in range(1):\n",
    "    seq = generate_samples(model, seed_seq, 10, 1.0, w2i)\n",
    "    print([i2w[i] for i in seq[0]])\n",
    "\n",
    "\n"
   ]
  },
  {
   "cell_type": "code",
   "execution_count": 21,
   "metadata": {
    "colab": {
     "base_uri": "https://localhost:8080/"
    },
    "id": "tABg89hP4m7W",
    "outputId": "a65512bf-e4f1-41b6-9669-0f8770f9a9ee"
   },
   "outputs": [
    {
     "name": "stdout",
     "output_type": "stream",
     "text": [
      "['.start', 'a', 'b']\n"
     ]
    }
   ],
   "source": [
    "start_seed = [w2i['.start'], w2i['a'], w2i['b']]\n",
    "print([i2w[i] for i in start_seed])"
   ]
  },
  {
   "cell_type": "code",
   "execution_count": 22,
   "metadata": {
    "colab": {
     "base_uri": "https://localhost:8080/"
    },
    "id": "yhwV-j5o4m7W",
    "outputId": "58cc7315-98b8-4a96-a5d2-3b83c109332a"
   },
   "outputs": [
    {
     "name": "stdout",
     "output_type": "stream",
     "text": [
      "['.start', 'a', 'b', 'k', '.end']\n",
      "['.start', 'a', 'b', 'l', 'a', '.end']\n",
      "['.start', 'a', 'b', 'l', 'l', 'u', 'c', 'v', 'v', 'w']\n",
      "['.start', 'a', 'b', '.pad', '.unk', 'c', 'c', 'c', 'u', '.end']\n",
      "['.start', 'a', 'b', '.unk', 'm', '.start', 'a', 's', 'u', 'a']\n",
      "['.start', 'a', 'b', '.pad', 'm', 'l', 'l', 's', 's', 'm']\n",
      "['.start', 'a', 'b', '.end']\n",
      "['.start', 'a', 'b', '.end']\n",
      "['.start', 'a', 'b', 'v', '.start', '.unk', 'w', '.pad', '.unk', '.pad']\n",
      "['.start', 'a', 'b', 'v', 'l', '.unk', 'a', 'a', 'l', '.start']\n"
     ]
    }
   ],
   "source": [
    "def generate_samples(model, seed_seq, max_len, temp, w2i):\n",
    "    model.eval()  # Set the model to evaluation mode\n",
    "    seq = seed_seq\n",
    "    while len(seq[0]) < max_len:\n",
    "        out = model(seq)\n",
    "        next_token = sample(out[0, -1, :], temperature=temp)\n",
    "        seq = torch.cat([seq, next_token.unsqueeze(0).unsqueeze(0)], dim=1)\n",
    "        if next_token == w2i['.end']:\n",
    "            break\n",
    "    return seq\n",
    "\n",
    "seed_seq = torch.tensor([w2i['.start'], w2i['a'], w2i['b']]).unsqueeze(0)\n",
    "for i in range(10):\n",
    "    seq = generate_samples(model, seed_seq, 10, 1.0, w2i)\n",
    "    print([i2w[i.item()] for i in seq[0]])  # Convert indices to words\n"
   ]
  },
  {
   "cell_type": "markdown",
   "metadata": {
    "id": "XZt71_lK4m7W"
   },
   "source": [
    "BRACKETS"
   ]
  },
  {
   "cell_type": "markdown",
   "metadata": {
    "id": "HKSecgdR4m7X"
   },
   "source": [
    "Q6"
   ]
  },
  {
   "cell_type": "code",
   "execution_count": 23,
   "metadata": {
    "id": "lEfMY96D4m7X"
   },
   "outputs": [],
   "source": [
    "x_train, (i2w, w2i) = load_brackets(n=150_000)"
   ]
  },
  {
   "cell_type": "code",
   "execution_count": 24,
   "metadata": {
    "id": "Jk_ZCbUF4m7X"
   },
   "outputs": [],
   "source": [
    "max_tokens_per_batch = 10000\n",
    "batches = create_batches(x_train, max_tokens_per_batch)\n",
    "input_tensor, target_tensor = process_batches(batches[100], w2i)"
   ]
  },
  {
   "cell_type": "code",
   "execution_count": 25,
   "metadata": {
    "colab": {
     "base_uri": "https://localhost:8080/"
    },
    "id": "NC2nmvm24m7X",
    "outputId": "abfefc82-e567-4c31-871b-11d81a251661"
   },
   "outputs": [
    {
     "data": {
      "text/plain": [
       "tensor([[1, 5, 5,  ..., 0, 0, 2],\n",
       "        [1, 5, 5,  ..., 0, 0, 2],\n",
       "        [1, 5, 5,  ..., 0, 0, 2],\n",
       "        ...,\n",
       "        [1, 5, 5,  ..., 0, 0, 2],\n",
       "        [1, 5, 5,  ..., 0, 0, 2],\n",
       "        [1, 5, 5,  ..., 0, 0, 2]])"
      ]
     },
     "execution_count": 25,
     "metadata": {},
     "output_type": "execute_result"
    }
   ],
   "source": [
    "input_tensor"
   ]
  },
  {
   "cell_type": "code",
   "execution_count": 26,
   "metadata": {
    "id": "ViJfVcKq4m7X"
   },
   "outputs": [],
   "source": [
    "vocab = len(w2i)\n",
    "embed_size = 32\n",
    "hidden_dim = 16\n",
    "lstm_layers = 2\n",
    "model = LSTM(vocab, embed_size, hidden_dim, vocab, lstm_layers)"
   ]
  },
  {
   "cell_type": "code",
   "execution_count": 27,
   "metadata": {
    "colab": {
     "base_uri": "https://localhost:8080/"
    },
    "id": "v8R55z4B4m7X",
    "outputId": "14fac3f6-75f7-4bf9-8514-2f3b8434d332"
   },
   "outputs": [
    {
     "data": {
      "text/plain": [
       "LSTM(\n",
       "  (embed): Embedding(6, 32)\n",
       "  (lstm): LSTM(32, 16, num_layers=2, batch_first=True)\n",
       "  (Linear): Linear(in_features=16, out_features=6, bias=True)\n",
       ")"
      ]
     },
     "execution_count": 27,
     "metadata": {},
     "output_type": "execute_result"
    }
   ],
   "source": [
    "model"
   ]
  },
  {
   "cell_type": "markdown",
   "metadata": {
    "id": "NrIgd02F4m7X"
   },
   "source": [
    "Q7"
   ]
  },
  {
   "cell_type": "code",
   "execution_count": 28,
   "metadata": {
    "colab": {
     "base_uri": "https://localhost:8080/"
    },
    "id": "Pbwe3oF04m7Y",
    "outputId": "af5e17bc-7f17-41b7-a712-df0992fe7d51"
   },
   "outputs": [
    {
     "name": "stdout",
     "output_type": "stream",
     "text": [
      "{'.pad': 0, '.start': 1, '.end': 2, '.unk': 3, ')': 4, '(': 5}\n"
     ]
    }
   ],
   "source": [
    "print(w2i)"
   ]
  },
  {
   "cell_type": "code",
   "execution_count": 29,
   "metadata": {
    "colab": {
     "base_uri": "https://localhost:8080/"
    },
    "id": "YYzBLNd94m7Y",
    "outputId": "3a0c72fd-2d69-498e-9c99-d17dcc6896f5"
   },
   "outputs": [
    {
     "name": "stdout",
     "output_type": "stream",
     "text": [
      "Index format: [1, 5, 5, 4]\n",
      "Word format: ['.start', '(', '(', ')']\n"
     ]
    }
   ],
   "source": [
    "seq = [w2i['.start'], w2i['('], w2i['('], w2i[')']]\n",
    "seq1 = [w2i['.start'], w2i['('], w2i['('], w2i[')']]\n",
    "print(f'Index format: {seq}')\n",
    "print(f'Word format: {([i2w[x] for x in seq])}')"
   ]
  },
  {
   "cell_type": "code",
   "execution_count": 30,
   "metadata": {
    "colab": {
     "base_uri": "https://localhost:8080/"
    },
    "id": "QZpL0ubc4m7Y",
    "outputId": "966e0757-65c0-4bca-97d4-d000d54c2dac"
   },
   "outputs": [
    {
     "name": "stdout",
     "output_type": "stream",
     "text": [
      "tensor([ 0.1915, -0.0507,  0.0502,  0.2851,  0.0949, -0.2068],\n",
      "       grad_fn=<SliceBackward0>)\n"
     ]
    }
   ],
   "source": [
    "#make a seed sequence\n",
    "seq = [w2i['.start'], w2i['('], w2i['('], w2i[')']]\n",
    "#transform the sequence into a tensor and add a singleton dimension\n",
    "seq = torch.tensor(seq).unsqueeze(0)\n",
    "#feed the sequence to the model\n",
    "out = model(seq)\n",
    "#observe the probabilities of the next token\n",
    "print(out[0, -1, :])\n",
    "#sample the next token\n",
    "next_token = sample(out[0, -1, :], temperature=0.5)\n",
    "#append it to the sequence\n",
    "seq = torch.cat([seq, next_token.unsqueeze(0).unsqueeze(0)], dim=1)\n"
   ]
  },
  {
   "cell_type": "code",
   "execution_count": 31,
   "metadata": {
    "colab": {
     "base_uri": "https://localhost:8080/"
    },
    "id": "03zHpEJC4m7Y",
    "outputId": "d5dcec78-690e-47b5-b1d5-65032f119182",
    "scrolled": true
   },
   "outputs": [
    {
     "name": "stdout",
     "output_type": "stream",
     "text": [
      "tensor([[1, 5, 5, 4, 4]])\n",
      "['.start', '(', '(', ')', ')']\n"
     ]
    }
   ],
   "source": [
    "print(seq)\n",
    "print([i2w[i] for i in seq[0]])"
   ]
  },
  {
   "cell_type": "code",
   "execution_count": 32,
   "metadata": {
    "colab": {
     "base_uri": "https://localhost:8080/"
    },
    "id": "e-PGRACw4m7Y",
    "outputId": "1686496e-f53c-49db-c6fd-21a880c17417"
   },
   "outputs": [
    {
     "name": "stdout",
     "output_type": "stream",
     "text": [
      "['.start', '(', '(', ')', '.start', '(', ')', ')', '(', '.start']\n",
      "['.start', '(', '(', ')', '.end']\n",
      "['.start', '(', '(', ')', '.end']\n",
      "['.start', '(', '(', ')', '.unk', ')', ')', '.end']\n",
      "['.start', '(', '(', ')', ')', ')', '.end']\n",
      "['.start', '(', '(', ')', '.pad', ')', '.unk', '(', '.pad', ')']\n",
      "['.start', '(', '(', ')', '.end']\n",
      "['.start', '(', '(', ')', ')', '.pad', '.start', ')', '.pad', '.end']\n",
      "['.start', '(', '(', ')', '.pad', '.end']\n",
      "['.start', '(', '(', ')', ')', '.unk', '.end']\n"
     ]
    }
   ],
   "source": [
    "seed_seq =  torch.tensor(seq1).unsqueeze(0)\n",
    "for i in range(10):\n",
    "    seq = generate_samples(model, seed_seq, 10, 1.0, w2i)\n",
    "    print([i2w[i] for i in seq[0]])"
   ]
  },
  {
   "cell_type": "markdown",
   "metadata": {
    "id": "pLXct71Z4m7Z"
   },
   "source": [
    "# Question 8 Train Autoregressive Model"
   ]
  },
  {
   "cell_type": "code",
   "execution_count": 4,
   "metadata": {
    "colab": {
     "base_uri": "https://localhost:8080/"
    },
    "id": "4iGMTfE76Fum",
    "outputId": "252554ae-51df-4ee7-a623-977a18ed136e"
   },
   "outputs": [
    {
     "data": {
      "text/plain": [
       "device(type='cuda')"
      ]
     },
     "execution_count": 4,
     "metadata": {},
     "output_type": "execute_result"
    }
   ],
   "source": [
    "if torch.cuda.is_available():\n",
    "    device = torch.device('cuda')\n",
    "else:\n",
    "    device = torch.device('cpu')\n",
    "\n",
    "device"
   ]
  },
  {
   "cell_type": "code",
   "execution_count": 5,
   "metadata": {
    "id": "1y2Lofgl4m7Z"
   },
   "outputs": [],
   "source": [
    "import torch\n",
    "import torch.nn as nn\n",
    "import torch.nn.functional as F\n",
    "\n",
    "import torch.optim as optim\n",
    "\n",
    "import matplotlib.pyplot as plt\n",
    "import numpy as np\n",
    "import random\n",
    "from data_rnn import load_ndfa, load_brackets"
   ]
  },
  {
   "cell_type": "code",
   "execution_count": 6,
   "metadata": {
    "id": "lUSZoUMx4m7Z"
   },
   "outputs": [],
   "source": [
    "x_train, (i2w, w2i) = load_ndfa(n=150_000)"
   ]
  },
  {
   "cell_type": "code",
   "execution_count": 7,
   "metadata": {
    "id": "rrvwfJeZ4m7Z"
   },
   "outputs": [],
   "source": [
    "import numpy as np\n",
    "import torch\n",
    "\n",
    "#create batches according to max tokens per batch\n",
    "def create_batches(data, max_tokens_per_batch):\n",
    "    batches = []\n",
    "    current_batch = []\n",
    "    current_tokens = 0\n",
    "\n",
    "    for sequence in data:\n",
    "        if current_tokens + len(sequence) <= max_tokens_per_batch:\n",
    "            current_batch.append(sequence)\n",
    "            current_tokens += len(sequence)\n",
    "        else:\n",
    "            batches.append(current_batch)\n",
    "            current_batch = [sequence]\n",
    "            current_tokens = len(sequence)\n",
    "\n",
    "    if current_batch:\n",
    "        batches.append(current_batch)\n",
    "\n",
    "    # Shuffle batches\n",
    "    np.random.shuffle(batches)\n",
    "\n",
    "    return batches\n",
    "\n",
    "#add start pad and end tokens and convert them to torch tensors\n",
    "def process_batches(batch, w2i):\n",
    "    processed_batch = []\n",
    "    for _, sequence in enumerate(batch):\n",
    "        sequence_with_start = [w2i['.start']] + batch[0]\n",
    "        sequence_with_pad = sequence_with_start + [w2i['.pad']] * (max_tokens_per_batch - len(sequence_with_start))\n",
    "        sequence_with_end = sequence_with_pad + [w2i['.end']]\n",
    "\n",
    "        processed_batch.append(sequence_with_end)\n",
    "\n",
    "    target_batches = [batch[1:] + [w2i['.end']] for batch in processed_batch]\n",
    "\n",
    "\n",
    "    input_tensor = torch.tensor(processed_batch, dtype=torch.long)\n",
    "    target_tensor = torch.tensor(target_batches, dtype=torch.long)\n",
    "\n",
    "    return input_tensor, target_tensor"
   ]
  },
  {
   "cell_type": "code",
   "execution_count": 8,
   "metadata": {
    "id": "kAe30Sew4m7Z"
   },
   "outputs": [],
   "source": [
    "class LSTM(nn.Module):\n",
    "    def __init__(self, input_dim, embed_size, hidden_dim, vocab, lstm_layers):\n",
    "        super().__init__()\n",
    "        self.embed = nn.Embedding(input_dim, embed_size)\n",
    "        self.lstm = nn.LSTM(embed_size, hidden_dim, lstm_layers, batch_first=True)\n",
    "        self.Linear = nn.Linear(hidden_dim, vocab)\n",
    "\n",
    "\n",
    "    def forward(self, x):\n",
    "        input = x\n",
    "        x = self.embed(x)\n",
    "        x, _ = self.lstm(x)\n",
    "        x = self.Linear(x)\n",
    "        return x\n"
   ]
  },
  {
   "cell_type": "code",
   "execution_count": 9,
   "metadata": {
    "id": "E_ITZmq94m7a"
   },
   "outputs": [],
   "source": [
    "import torch.distributions as dist\n",
    "def sample(lnprobs, temperature=1.0):\n",
    "    \"\"\"\n",
    "         Sample an element from a categorical distribution\n",
    "         :param lnprobs: Outcome logits\n",
    "         :param temperature: Sampling temperature. 1.0 follows the given\n",
    "distribution, 0.0 returns the maximum probability element. :return: The index of the sampled element.\n",
    "\"\"\"\n",
    "    if temperature == 0.0:\n",
    "        return lnprobs.argmax()\n",
    "    p = F.softmax(lnprobs / temperature, dim=0)\n",
    "    cd = dist.Categorical(p)\n",
    "    return cd.sample()\n",
    "\n",
    "def generate_samples(model, seed_seq, max_len, temp, w2i):\n",
    "    model.eval()  # Set the model to evaluation mode\n",
    "    seq = seed_seq\n",
    "    while len(seq[0]) < max_len:\n",
    "        out = model(seq)\n",
    "        next_token = sample(out[0, -1, :], temperature=temp)\n",
    "        seq = torch.cat([seq, next_token.unsqueeze(0).unsqueeze(0)], dim=1)\n",
    "        if next_token == w2i['.end']:\n",
    "            break\n",
    "    return seq\n",
    "\n",
    "\n",
    "\n"
   ]
  },
  {
   "cell_type": "code",
   "execution_count": 10,
   "metadata": {
    "colab": {
     "base_uri": "https://localhost:8080/"
    },
    "id": "V2uupq6n4m7h",
    "outputId": "6078368e-e6fe-40a8-ebcf-dc92708e82bc"
   },
   "outputs": [
    {
     "name": "stdout",
     "output_type": "stream",
     "text": [
      "Number of batches created is 2119\n",
      "\n",
      "The shape of batch number 0 is torch.Size([21, 1001])\n",
      "The shape of batch number 1 is torch.Size([14, 1001])\n",
      "The shape of batch number 2 is torch.Size([100, 1001])\n",
      "The shape of batch number 3 is torch.Size([29, 1001])\n",
      "The shape of batch number 4 is torch.Size([55, 1001])\n"
     ]
    }
   ],
   "source": [
    "# Example usage\n",
    "max_tokens_per_batch = 1000\n",
    "batches = create_batches(x_train, max_tokens_per_batch)\n",
    "print(f'Number of batches created is {len(batches)}')\n",
    "print()\n",
    "\n",
    "for i in range(5):\n",
    "    input_tensor, target_tensor = process_batches(batches[i], w2i)\n",
    "    print(f'The shape of batch number {i} is {input_tensor.shape}')"
   ]
  },
  {
   "cell_type": "code",
   "execution_count": 11,
   "metadata": {
    "id": "C_zhP37r9WhX"
   },
   "outputs": [],
   "source": [
    "def move_to_device(batch, device):\n",
    "    input_tensor, target_tensor = batch\n",
    "    return input_tensor.to(device), target_tensor.to(device)\n"
   ]
  },
  {
   "cell_type": "code",
   "execution_count": 11,
   "metadata": {
    "colab": {
     "base_uri": "https://localhost:8080/"
    },
    "id": "nrIIdWaW4m7j",
    "outputId": "90361799-0533-4b49-a1cb-aa3fa12f1c78"
   },
   "outputs": [
    {
     "name": "stderr",
     "output_type": "stream",
     "text": [
      "Epoch 1/3: 100%|██████████| 2119/2119 [00:57<00:00, 36.71it/s]\n"
     ]
    },
    {
     "name": "stdout",
     "output_type": "stream",
     "text": [
      "Epoch 1, Loss: 0.2296883987356186, Time: 57.7378134727478\n"
     ]
    },
    {
     "name": "stderr",
     "output_type": "stream",
     "text": [
      "Epoch 2/3: 100%|██████████| 2119/2119 [00:52<00:00, 40.25it/s]\n"
     ]
    },
    {
     "name": "stdout",
     "output_type": "stream",
     "text": [
      "Epoch 2, Loss: 0.1932557427121138, Time: 52.6591157913208\n"
     ]
    },
    {
     "name": "stderr",
     "output_type": "stream",
     "text": [
      "Epoch 3/3: 100%|██████████| 2119/2119 [00:51<00:00, 41.35it/s]\n"
     ]
    },
    {
     "name": "stdout",
     "output_type": "stream",
     "text": [
      "Epoch 3, Loss: 0.19264852459971465, Time: 51.25962448120117\n"
     ]
    }
   ],
   "source": [
    "import time\n",
    "from tqdm import tqdm\n",
    "\n",
    "\n",
    "#assign the variables\n",
    "vocab = len(w2i)\n",
    "input_dim = len(w2i)\n",
    "embed_size = 32\n",
    "hidden_dim = 16\n",
    "lstm_layers = 1\n",
    "temp = 1.0\n",
    "epochs = 3\n",
    "lr = 0.01\n",
    "\n",
    "\n",
    "model = LSTM(input_dim, embed_size, hidden_dim, vocab, lstm_layers)\n",
    "model.to(device)\n",
    "\n",
    "\n",
    "\n",
    "#we can use 'mean' for reduction with setting ignore_index. (Masking)\n",
    "criterion = nn.CrossEntropyLoss(reduction = 'sum', ignore_index=w2i['.pad'])\n",
    "optimizer = optim.Adam(model.parameters(),lr= lr)\n",
    "\n",
    "#create the batches\n",
    "max_tokens_per_batch = 1000\n",
    "batches = create_batches(x_train, max_tokens_per_batch)\n",
    "\n",
    "#store the loss per token for every iteration and every epoch\n",
    "loss_per_token_epoch = []\n",
    "loss_per_token_iter = []\n",
    "\n",
    "#strat training\n",
    "generated_samples_list = []\n",
    "gradient_norms_list = []\n",
    "for epoch in range(epochs):\n",
    "\n",
    "    gradient_norms = []\n",
    "    time1 = time.time()\n",
    "    epoch_loss = 0\n",
    "    for batch in tqdm(batches, desc=f'Epoch {epoch+1}/{epochs}'):\n",
    "        input_tensor, target_tensor = process_batches(batch, w2i)\n",
    "        #move input and target tensor to device\n",
    "        input_tensor, target_tensor = move_to_device((input_tensor, target_tensor),device)\n",
    "        #reset gradients\n",
    "        optimizer.zero_grad()\n",
    "        #set model to training mode\n",
    "        model.train()\n",
    "        #Forward pass\n",
    "        output = model(input_tensor)\n",
    "        '''\n",
    "        print(f'output shape = {output.shape}')\n",
    "        print(f'target shape = {target_tensor.shape}')\n",
    "        '''\n",
    "        #compute loss\n",
    "        #we need to make output in the needed format as (batch_size,vocab_size,sequence_length)\n",
    "        loss = criterion(output.transpose(1,2),target_tensor)\n",
    "        #backward pass\n",
    "        loss.backward()\n",
    "        #gradient clipping to avoid exploding gradients\n",
    "        torch.nn.utils.clip_grad_norm_(model.parameters(), max_norm=1)\n",
    "        #loss per token\n",
    "        # Calculate the number of non-padding tokens\n",
    "        non_padding_tokens = (target_tensor != w2i['.pad']).sum()\n",
    "        # Compute the gradient norm and store it\n",
    "        total_norm = 0\n",
    "        for p in model.parameters():\n",
    "            param_norm = p.grad.data.norm(2)\n",
    "            total_norm += param_norm.item() ** 2\n",
    "        total_norm = total_norm ** 0.5\n",
    "        gradient_norms.append(total_norm)\n",
    "        #update weights\n",
    "        optimizer.step()\n",
    "\n",
    "        #calculate the total loss for epoch\n",
    "        loss_per_iter = loss.item()/non_padding_tokens.item()\n",
    "        loss_per_token_iter.append(loss_per_iter)\n",
    "\n",
    "        #accumulate loss for epoch loss\n",
    "        epoch_loss += loss_per_iter\n",
    "\n",
    "    #calculate average loss per token for a single epoch\n",
    "    loss_epoch = epoch_loss / len(batches)\n",
    "    loss_per_token_epoch.append(loss_epoch)\n",
    "    gradient_norms_list.append(np.mean(gradient_norms))\n",
    "\n",
    "    time2 = time.time()\n",
    "    print(f'Epoch {epoch + 1}, Loss: {epoch_loss / len(batches)}, Time: {time2-time1}')\n",
    "\n",
    "\n",
    "    #Generate samples after each epoch\n",
    "    generated_samples_single_epoch = []\n",
    "    seed_seq = torch.tensor([w2i['.start'], w2i['a'], w2i['b']]).unsqueeze(0)\n",
    "    seed_seq = seed_seq.to(device)  # Move seed sequence to the device\n",
    "    for i in range(10):\n",
    "        seq = generate_samples(model, seed_seq, 10, 1.0, w2i)\n",
    "        generated_samples_single_epoch.append([i2w[i.item()] for i in seq[0]])  # Convert indices to words\n",
    "    #add the samples for single epoch to top list\n",
    "    generated_samples_list.append(generated_samples_single_epoch)\n",
    "torch.save(model.state_dict(), 'model1.pth')"
   ]
  },
  {
   "cell_type": "code",
   "execution_count": 12,
   "metadata": {
    "colab": {
     "base_uri": "https://localhost:8080/"
    },
    "id": "QCK7ptIIQjca",
    "outputId": "28d6acb3-0b73-4f9c-885a-5c06b23a1e17"
   },
   "outputs": [
    {
     "data": {
      "text/plain": [
       "['.start', 'a', 'b']"
      ]
     },
     "execution_count": 12,
     "metadata": {},
     "output_type": "execute_result"
    }
   ],
   "source": [
    "[i2w[token] for token in [w2i['.start'], w2i['a'], w2i['b']]]"
   ]
  },
  {
   "cell_type": "code",
   "execution_count": 13,
   "metadata": {
    "colab": {
     "base_uri": "https://localhost:8080/"
    },
    "id": "tDEHh6s5MWNL",
    "outputId": "575d1926-3a78-4688-e60c-8605b315e807"
   },
   "outputs": [
    {
     "name": "stdout",
     "output_type": "stream",
     "text": [
      "start sequence: ['.start', 'a', 'b']\n",
      "EPOCH 1:\n",
      "['.start', 'a', 'b', 'c', '!', 's', 'k', 'l', 'm', '!']\n",
      "['.start', 'a', 'b', 'c', '!', 'a', 'b', 'c', '!', 'a']\n",
      "['.start', 'a', 'b', 'c', '!', 'a', 'b', 'c', '!', 'a']\n",
      "['.start', 'a', 'b', 'c', '!', 'a', 'b', 'c', '!', 'a']\n",
      "['.start', 'a', 'b', 'c', '!', 'a', 'b', 'c', '!', 'a']\n",
      "['.start', 'a', 'b', 'c', '!', 'a', 'b', 'c', '!', 's']\n",
      "['.start', 'a', 'b', 'c', '!', 's', 'k', 'l', 'm', '!']\n",
      "['.start', 'a', 'b', 'c', '!', 'a', 'b', 'c', '!', 'a']\n",
      "['.start', 'a', 'b', 'c', '!', 'a', 'b', 'c', '!', 'a']\n",
      "['.start', 'a', 'b', 'c', '!', 's', 'a', 'b', 'c', '!']\n",
      "\n",
      "EPOCH 2:\n",
      "['.start', 'a', 'b', 'c', '!', 's', 'k', 'l', 'm', '!']\n",
      "['.start', 'a', 'b', 'c', '!', 'a', 'b', 'c', '!', 'a']\n",
      "['.start', 'a', 'b', 'c', '!', 'a', 'b', 'c', '!', 'a']\n",
      "['.start', 'a', 'b', 'c', '!', 'a', 'b', 'c', '!', 'a']\n",
      "['.start', 'a', 'b', 'c', '!', 'a', 'b', 'c', '!', 'a']\n",
      "['.start', 'a', 'b', 'c', '!', 'a', 'b', 'c', '!', 's']\n",
      "['.start', 'a', 'b', 'c', '!', 'a', 'b', 'c', '!', 'a']\n",
      "['.start', 'a', 'b', 'c', '!', 's', 'a', 'b', 'c', '!']\n",
      "['.start', 'a', 'b', 'c', '!', 'a', 'b', 'c', '!', 'a']\n",
      "['.start', 'a', 'b', 'c', '!', 'a', 'b', 'c', '!', 'a']\n",
      "\n",
      "EPOCH 3:\n",
      "['.start', 'a', 'b', 'c', '!', 'a', 'b', 'c', '!', 'a']\n",
      "['.start', 'a', 'b', 'c', '!', 'a', 'b', 'c', '!', 'a']\n",
      "['.start', 'a', 'b', 'c', '!', 's', 'u', 'v', 'w', '!']\n",
      "['.start', 'a', 'b', 'c', '!', 'a', 'b', 'c', '!', 'a']\n",
      "['.start', 'a', 'b', 'c', '!', 'a', 'b', 'c', '!', 'a']\n",
      "['.start', 'a', 'b', 'c', '!', 's', 'k', 'l', 'm', '!']\n",
      "['.start', 'a', 'b', 'c', '!', 'a', 'b', 'c', '!', 'a']\n",
      "['.start', 'a', 'b', 'c', '!', 'a', 'b', 'c', '!', 'a']\n",
      "['.start', 'a', 'b', 'c', '!', 'a', 'b', 'c', '!', 'a']\n",
      "['.start', 'a', 'b', 'c', '!', 'a', 'b', 'c', '!', 'a']\n",
      "\n"
     ]
    }
   ],
   "source": [
    "i = 1\n",
    "start_seq = [i2w[token] for token in [w2i['.start'], w2i['a'], w2i['b']]]\n",
    "print(f'start sequence: {start_seq}')\n",
    "for single_epoch in generated_samples_list:\n",
    "    print(f'EPOCH {i}:')\n",
    "    for x in single_epoch:\n",
    "      print(x)\n",
    "    print()\n",
    "    i +=1\n"
   ]
  },
  {
   "cell_type": "code",
   "execution_count": 14,
   "metadata": {
    "colab": {
     "base_uri": "https://localhost:8080/",
     "height": 1000
    },
    "id": "yNxJMhw44m7n",
    "outputId": "156fb564-caf6-476f-f855-55a52b27d456"
   },
   "outputs": [
    {
     "data": {
      "image/png": "[encoded data removed]",
      "text/plain": [
       "<Figure size 1000x400 with 1 Axes>"
      ]
     },
     "metadata": {},
     "output_type": "display_data"
    },
    {
     "data": {
      "image/png": "[encoded data removed]",
      "text/plain": [
       "<Figure size 1000x400 with 1 Axes>"
      ]
     },
     "metadata": {},
     "output_type": "display_data"
    },
    {
     "data": {
      "image/png": "[encoded data removed]",
      "text/plain": [
       "<Figure size 1000x400 with 1 Axes>"
      ]
     },
     "metadata": {},
     "output_type": "display_data"
    }
   ],
   "source": [
    "import matplotlib.pyplot as plt\n",
    "\n",
    "# Plotting loss per token for each epoch\n",
    "plt.figure(figsize=(10, 4))\n",
    "plt.plot(loss_per_token_epoch, label='Loss per Token - Epoch')\n",
    "plt.xlabel('Epoch')\n",
    "plt.ylabel('Loss per Token')\n",
    "plt.title('Loss per Token for Each Epoch')\n",
    "plt.xticks(range(len(loss_per_token_epoch)))\n",
    "plt.legend()\n",
    "plt.show()\n",
    "\n",
    "# Plotting loss per token for each iteration\n",
    "plt.figure(figsize=(10, 4))\n",
    "plt.plot(loss_per_token_iter, label='Loss per Token - Iteration')\n",
    "plt.xlabel('Iteration')\n",
    "plt.ylabel('Loss per Token')\n",
    "plt.title('Loss per Token for Each Iteration')\n",
    "plt.legend()\n",
    "plt.show()\n",
    "\n",
    "\n",
    "#plotting the gradient norms per epoch\n",
    "plt.figure(figsize=(10, 4))\n",
    "plt.plot(gradient_norms_list, label='Gradient Norms')\n",
    "plt.xlabel('Iteration')\n",
    "plt.ylabel('Gradient Norm')\n",
    "plt.title('Average Gradient Norms Per Epoch During Training')\n",
    "plt.xticks(range(len(loss_per_token_epoch)))\n",
    "plt.legend()\n",
    "plt.show()"
   ]
  },
  {
   "cell_type": "markdown",
   "metadata": {
    "id": "10Ajrt7JJDpt"
   },
   "source": [
    "# Brackets Dataset\n",
    "---"
   ]
  },
  {
   "cell_type": "code",
   "execution_count": 12,
   "metadata": {
    "id": "hbwxTNgy4m7n"
   },
   "outputs": [],
   "source": [
    "x_train, (i2w, w2i) = load_brackets(n=150_000)"
   ]
  },
  {
   "cell_type": "code",
   "execution_count": 13,
   "metadata": {
    "colab": {
     "base_uri": "https://localhost:8080/"
    },
    "id": "Sm6g9p_L4m7o",
    "outputId": "6efde6f0-6176-4dae-c0c6-1298a3f48edc"
   },
   "outputs": [
    {
     "name": "stderr",
     "output_type": "stream",
     "text": [
      "Epoch 1/50: 100%|██████████| 1402/1402 [00:51<00:00, 27.29it/s]\n"
     ]
    },
    {
     "name": "stdout",
     "output_type": "stream",
     "text": [
      "Epoch 1, Loss: 1.063445643314322, Time: 51.380581855773926\n"
     ]
    },
    {
     "name": "stderr",
     "output_type": "stream",
     "text": [
      "Epoch 2/50: 100%|██████████| 1402/1402 [00:51<00:00, 27.44it/s]\n"
     ]
    },
    {
     "name": "stdout",
     "output_type": "stream",
     "text": [
      "Epoch 2, Loss: 0.6235602112040944, Time: 51.105327129364014\n"
     ]
    },
    {
     "name": "stderr",
     "output_type": "stream",
     "text": [
      "Epoch 3/50: 100%|██████████| 1402/1402 [00:50<00:00, 28.02it/s]\n"
     ]
    },
    {
     "name": "stdout",
     "output_type": "stream",
     "text": [
      "Epoch 3, Loss: 0.5999906567880996, Time: 50.034560203552246\n"
     ]
    },
    {
     "name": "stderr",
     "output_type": "stream",
     "text": [
      "Epoch 4/50: 100%|██████████| 1402/1402 [00:48<00:00, 28.64it/s]\n"
     ]
    },
    {
     "name": "stdout",
     "output_type": "stream",
     "text": [
      "Epoch 4, Loss: 0.5912367996900519, Time: 48.950400590896606\n"
     ]
    },
    {
     "name": "stderr",
     "output_type": "stream",
     "text": [
      "Epoch 5/50: 100%|██████████| 1402/1402 [00:50<00:00, 27.79it/s]\n"
     ]
    },
    {
     "name": "stdout",
     "output_type": "stream",
     "text": [
      "Epoch 5, Loss: 0.5863745274106251, Time: 50.44677543640137\n"
     ]
    },
    {
     "name": "stderr",
     "output_type": "stream",
     "text": [
      "Epoch 6/50: 100%|██████████| 1402/1402 [00:49<00:00, 28.06it/s]\n"
     ]
    },
    {
     "name": "stdout",
     "output_type": "stream",
     "text": [
      "Epoch 6, Loss: 0.5832102666044915, Time: 49.97701978683472\n"
     ]
    },
    {
     "name": "stderr",
     "output_type": "stream",
     "text": [
      "Epoch 7/50: 100%|██████████| 1402/1402 [00:49<00:00, 28.25it/s]\n"
     ]
    },
    {
     "name": "stdout",
     "output_type": "stream",
     "text": [
      "Epoch 7, Loss: 0.5771308758246921, Time: 49.63213133811951\n"
     ]
    },
    {
     "name": "stderr",
     "output_type": "stream",
     "text": [
      "Epoch 8/50: 100%|██████████| 1402/1402 [00:50<00:00, 27.85it/s]\n"
     ]
    },
    {
     "name": "stdout",
     "output_type": "stream",
     "text": [
      "Epoch 8, Loss: 0.57330355226886, Time: 50.34990692138672\n"
     ]
    },
    {
     "name": "stderr",
     "output_type": "stream",
     "text": [
      "Epoch 9/50: 100%|██████████| 1402/1402 [00:49<00:00, 28.30it/s]\n"
     ]
    },
    {
     "name": "stdout",
     "output_type": "stream",
     "text": [
      "Epoch 9, Loss: 0.5678261917104563, Time: 49.551050662994385\n"
     ]
    },
    {
     "name": "stderr",
     "output_type": "stream",
     "text": [
      "Epoch 10/50: 100%|██████████| 1402/1402 [00:49<00:00, 28.23it/s]\n"
     ]
    },
    {
     "name": "stdout",
     "output_type": "stream",
     "text": [
      "Epoch 10, Loss: 0.5646973124343541, Time: 49.672536849975586\n"
     ]
    },
    {
     "name": "stderr",
     "output_type": "stream",
     "text": [
      "Epoch 11/50: 100%|██████████| 1402/1402 [00:49<00:00, 28.05it/s]\n"
     ]
    },
    {
     "name": "stdout",
     "output_type": "stream",
     "text": [
      "Epoch 11, Loss: 0.5628868437384621, Time: 49.98494839668274\n"
     ]
    },
    {
     "name": "stderr",
     "output_type": "stream",
     "text": [
      "Epoch 12/50: 100%|██████████| 1402/1402 [00:49<00:00, 28.55it/s]\n"
     ]
    },
    {
     "name": "stdout",
     "output_type": "stream",
     "text": [
      "Epoch 12, Loss: 0.5603745720663871, Time: 49.106043100357056\n"
     ]
    },
    {
     "name": "stderr",
     "output_type": "stream",
     "text": [
      "Epoch 13/50: 100%|██████████| 1402/1402 [00:51<00:00, 27.31it/s]\n"
     ]
    },
    {
     "name": "stdout",
     "output_type": "stream",
     "text": [
      "Epoch 13, Loss: 0.558963325024222, Time: 51.34363842010498\n"
     ]
    },
    {
     "name": "stderr",
     "output_type": "stream",
     "text": [
      "Epoch 14/50: 100%|██████████| 1402/1402 [00:50<00:00, 27.95it/s]\n"
     ]
    },
    {
     "name": "stdout",
     "output_type": "stream",
     "text": [
      "Epoch 14, Loss: 0.5577964692210414, Time: 50.159515619277954\n"
     ]
    },
    {
     "name": "stderr",
     "output_type": "stream",
     "text": [
      "Epoch 15/50: 100%|██████████| 1402/1402 [00:48<00:00, 28.84it/s]\n"
     ]
    },
    {
     "name": "stdout",
     "output_type": "stream",
     "text": [
      "Epoch 15, Loss: 0.5574691721035422, Time: 48.624656438827515\n"
     ]
    },
    {
     "name": "stderr",
     "output_type": "stream",
     "text": [
      "Epoch 16/50: 100%|██████████| 1402/1402 [00:50<00:00, 27.96it/s]\n"
     ]
    },
    {
     "name": "stdout",
     "output_type": "stream",
     "text": [
      "Epoch 16, Loss: 0.5560932328479745, Time: 50.144567251205444\n"
     ]
    },
    {
     "name": "stderr",
     "output_type": "stream",
     "text": [
      "Epoch 17/50: 100%|██████████| 1402/1402 [00:50<00:00, 27.91it/s]\n"
     ]
    },
    {
     "name": "stdout",
     "output_type": "stream",
     "text": [
      "Epoch 17, Loss: 0.5552359007369082, Time: 50.23794412612915\n"
     ]
    },
    {
     "name": "stderr",
     "output_type": "stream",
     "text": [
      "Epoch 18/50: 100%|██████████| 1402/1402 [00:48<00:00, 28.69it/s]\n"
     ]
    },
    {
     "name": "stdout",
     "output_type": "stream",
     "text": [
      "Epoch 18, Loss: 0.5550950418647698, Time: 48.87523412704468\n"
     ]
    },
    {
     "name": "stderr",
     "output_type": "stream",
     "text": [
      "Epoch 19/50: 100%|██████████| 1402/1402 [00:50<00:00, 27.96it/s]\n"
     ]
    },
    {
     "name": "stdout",
     "output_type": "stream",
     "text": [
      "Epoch 19, Loss: 0.5534342881649136, Time: 50.14340424537659\n"
     ]
    },
    {
     "name": "stderr",
     "output_type": "stream",
     "text": [
      "Epoch 20/50: 100%|██████████| 1402/1402 [00:48<00:00, 28.87it/s]\n"
     ]
    },
    {
     "name": "stdout",
     "output_type": "stream",
     "text": [
      "Epoch 20, Loss: 0.5530977017815294, Time: 48.56770062446594\n"
     ]
    },
    {
     "name": "stderr",
     "output_type": "stream",
     "text": [
      "Epoch 21/50: 100%|██████████| 1402/1402 [00:49<00:00, 28.21it/s]\n"
     ]
    },
    {
     "name": "stdout",
     "output_type": "stream",
     "text": [
      "Epoch 21, Loss: 0.5526716999523588, Time: 49.697001218795776\n"
     ]
    },
    {
     "name": "stderr",
     "output_type": "stream",
     "text": [
      "Epoch 22/50: 100%|██████████| 1402/1402 [00:50<00:00, 28.01it/s]\n"
     ]
    },
    {
     "name": "stdout",
     "output_type": "stream",
     "text": [
      "Epoch 22, Loss: 0.5521640543830278, Time: 50.04886269569397\n"
     ]
    },
    {
     "name": "stderr",
     "output_type": "stream",
     "text": [
      "Epoch 23/50: 100%|██████████| 1402/1402 [00:48<00:00, 28.92it/s]\n"
     ]
    },
    {
     "name": "stdout",
     "output_type": "stream",
     "text": [
      "Epoch 23, Loss: 0.5518069374072037, Time: 48.48094367980957\n"
     ]
    },
    {
     "name": "stderr",
     "output_type": "stream",
     "text": [
      "Epoch 24/50: 100%|██████████| 1402/1402 [00:49<00:00, 28.15it/s]\n"
     ]
    },
    {
     "name": "stdout",
     "output_type": "stream",
     "text": [
      "Epoch 24, Loss: 0.5515201315328994, Time: 49.80896043777466\n"
     ]
    },
    {
     "name": "stderr",
     "output_type": "stream",
     "text": [
      "Epoch 25/50: 100%|██████████| 1402/1402 [00:48<00:00, 28.68it/s]\n"
     ]
    },
    {
     "name": "stdout",
     "output_type": "stream",
     "text": [
      "Epoch 25, Loss: 0.5512398725688468, Time: 48.8885715007782\n"
     ]
    },
    {
     "name": "stderr",
     "output_type": "stream",
     "text": [
      "Epoch 26/50: 100%|██████████| 1402/1402 [00:49<00:00, 28.07it/s]\n"
     ]
    },
    {
     "name": "stdout",
     "output_type": "stream",
     "text": [
      "Epoch 26, Loss: 0.55108594821283, Time: 49.95130228996277\n"
     ]
    },
    {
     "name": "stderr",
     "output_type": "stream",
     "text": [
      "Epoch 27/50: 100%|██████████| 1402/1402 [00:50<00:00, 27.86it/s]\n"
     ]
    },
    {
     "name": "stdout",
     "output_type": "stream",
     "text": [
      "Epoch 27, Loss: 0.5510643695676252, Time: 50.33138394355774\n"
     ]
    },
    {
     "name": "stderr",
     "output_type": "stream",
     "text": [
      "Epoch 28/50: 100%|██████████| 1402/1402 [00:48<00:00, 28.67it/s]\n"
     ]
    },
    {
     "name": "stdout",
     "output_type": "stream",
     "text": [
      "Epoch 28, Loss: 0.5511288113912565, Time: 48.89675807952881\n"
     ]
    },
    {
     "name": "stderr",
     "output_type": "stream",
     "text": [
      "Epoch 29/50: 100%|██████████| 1402/1402 [00:50<00:00, 28.03it/s]\n"
     ]
    },
    {
     "name": "stdout",
     "output_type": "stream",
     "text": [
      "Epoch 29, Loss: 0.5512193278683404, Time: 50.02453303337097\n"
     ]
    },
    {
     "name": "stderr",
     "output_type": "stream",
     "text": [
      "Epoch 30/50: 100%|██████████| 1402/1402 [00:49<00:00, 28.08it/s]\n"
     ]
    },
    {
     "name": "stdout",
     "output_type": "stream",
     "text": [
      "Epoch 30, Loss: 0.5514507291485715, Time: 49.92484426498413\n"
     ]
    },
    {
     "name": "stderr",
     "output_type": "stream",
     "text": [
      "Epoch 31/50: 100%|██████████| 1402/1402 [00:48<00:00, 28.76it/s]\n"
     ]
    },
    {
     "name": "stdout",
     "output_type": "stream",
     "text": [
      "Epoch 31, Loss: 0.5516740335359913, Time: 48.74567723274231\n"
     ]
    },
    {
     "name": "stderr",
     "output_type": "stream",
     "text": [
      "Epoch 32/50: 100%|██████████| 1402/1402 [00:50<00:00, 27.94it/s]\n"
     ]
    },
    {
     "name": "stdout",
     "output_type": "stream",
     "text": [
      "Epoch 32, Loss: 0.5519114179130251, Time: 50.1834499835968\n"
     ]
    },
    {
     "name": "stderr",
     "output_type": "stream",
     "text": [
      "Epoch 33/50: 100%|██████████| 1402/1402 [00:48<00:00, 28.73it/s]\n"
     ]
    },
    {
     "name": "stdout",
     "output_type": "stream",
     "text": [
      "Epoch 33, Loss: 0.5520947582397976, Time: 48.80834150314331\n"
     ]
    },
    {
     "name": "stderr",
     "output_type": "stream",
     "text": [
      "Epoch 34/50: 100%|██████████| 1402/1402 [00:49<00:00, 28.08it/s]\n"
     ]
    },
    {
     "name": "stdout",
     "output_type": "stream",
     "text": [
      "Epoch 34, Loss: 0.5523240696048173, Time: 49.93750333786011\n"
     ]
    },
    {
     "name": "stderr",
     "output_type": "stream",
     "text": [
      "Epoch 35/50: 100%|██████████| 1402/1402 [00:50<00:00, 27.97it/s]\n"
     ]
    },
    {
     "name": "stdout",
     "output_type": "stream",
     "text": [
      "Epoch 35, Loss: 0.5524309481332298, Time: 50.137094497680664\n"
     ]
    },
    {
     "name": "stderr",
     "output_type": "stream",
     "text": [
      "Epoch 36/50: 100%|██████████| 1402/1402 [00:48<00:00, 28.92it/s]\n"
     ]
    },
    {
     "name": "stdout",
     "output_type": "stream",
     "text": [
      "Epoch 36, Loss: 0.5525389159380355, Time: 48.476287603378296\n"
     ]
    },
    {
     "name": "stderr",
     "output_type": "stream",
     "text": [
      "Epoch 37/50: 100%|██████████| 1402/1402 [00:50<00:00, 28.02it/s]\n"
     ]
    },
    {
     "name": "stdout",
     "output_type": "stream",
     "text": [
      "Epoch 37, Loss: 0.5525872390631137, Time: 50.04345178604126\n"
     ]
    },
    {
     "name": "stderr",
     "output_type": "stream",
     "text": [
      "Epoch 38/50: 100%|██████████| 1402/1402 [00:49<00:00, 28.20it/s]\n"
     ]
    },
    {
     "name": "stdout",
     "output_type": "stream",
     "text": [
      "Epoch 38, Loss: 0.552696304652299, Time: 49.730188608169556\n"
     ]
    },
    {
     "name": "stderr",
     "output_type": "stream",
     "text": [
      "Epoch 39/50: 100%|██████████| 1402/1402 [00:49<00:00, 28.60it/s]\n"
     ]
    },
    {
     "name": "stdout",
     "output_type": "stream",
     "text": [
      "Epoch 39, Loss: 0.5526740724662126, Time: 49.032912254333496\n"
     ]
    },
    {
     "name": "stderr",
     "output_type": "stream",
     "text": [
      "Epoch 40/50: 100%|██████████| 1402/1402 [00:50<00:00, 27.81it/s]\n"
     ]
    },
    {
     "name": "stdout",
     "output_type": "stream",
     "text": [
      "Epoch 40, Loss: 0.5526779100360247, Time: 50.42990255355835\n"
     ]
    },
    {
     "name": "stderr",
     "output_type": "stream",
     "text": [
      "Epoch 41/50: 100%|██████████| 1402/1402 [00:48<00:00, 28.63it/s]\n"
     ]
    },
    {
     "name": "stdout",
     "output_type": "stream",
     "text": [
      "Epoch 41, Loss: 0.5525631423115918, Time: 48.97368836402893\n"
     ]
    },
    {
     "name": "stderr",
     "output_type": "stream",
     "text": [
      "Epoch 42/50: 100%|██████████| 1402/1402 [00:50<00:00, 27.89it/s]\n"
     ]
    },
    {
     "name": "stdout",
     "output_type": "stream",
     "text": [
      "Epoch 42, Loss: 0.5519644458839892, Time: 50.2832727432251\n"
     ]
    },
    {
     "name": "stderr",
     "output_type": "stream",
     "text": [
      "Epoch 43/50: 100%|██████████| 1402/1402 [00:50<00:00, 28.01it/s]\n"
     ]
    },
    {
     "name": "stdout",
     "output_type": "stream",
     "text": [
      "Epoch 43, Loss: 0.5527535135881438, Time: 50.05332350730896\n"
     ]
    },
    {
     "name": "stderr",
     "output_type": "stream",
     "text": [
      "Epoch 44/50: 100%|██████████| 1402/1402 [00:48<00:00, 28.65it/s]\n"
     ]
    },
    {
     "name": "stdout",
     "output_type": "stream",
     "text": [
      "Epoch 44, Loss: 0.5526916224783338, Time: 48.94547438621521\n"
     ]
    },
    {
     "name": "stderr",
     "output_type": "stream",
     "text": [
      "Epoch 45/50: 100%|██████████| 1402/1402 [00:50<00:00, 27.89it/s]\n"
     ]
    },
    {
     "name": "stdout",
     "output_type": "stream",
     "text": [
      "Epoch 45, Loss: 0.5542203735712682, Time: 50.28234887123108\n"
     ]
    },
    {
     "name": "stderr",
     "output_type": "stream",
     "text": [
      "Epoch 46/50: 100%|██████████| 1402/1402 [00:49<00:00, 28.05it/s]\n"
     ]
    },
    {
     "name": "stdout",
     "output_type": "stream",
     "text": [
      "Epoch 46, Loss: 0.5547884315611245, Time: 49.988953828811646\n"
     ]
    },
    {
     "name": "stderr",
     "output_type": "stream",
     "text": [
      "Epoch 47/50: 100%|██████████| 1402/1402 [00:49<00:00, 28.49it/s]\n"
     ]
    },
    {
     "name": "stdout",
     "output_type": "stream",
     "text": [
      "Epoch 47, Loss: 0.5547657976604837, Time: 49.216418743133545\n"
     ]
    },
    {
     "name": "stderr",
     "output_type": "stream",
     "text": [
      "Epoch 48/50: 100%|██████████| 1402/1402 [00:49<00:00, 28.16it/s]\n"
     ]
    },
    {
     "name": "stdout",
     "output_type": "stream",
     "text": [
      "Epoch 48, Loss: 0.556535093954479, Time: 49.78985333442688\n"
     ]
    },
    {
     "name": "stderr",
     "output_type": "stream",
     "text": [
      "Epoch 49/50: 100%|██████████| 1402/1402 [00:48<00:00, 28.62it/s]\n"
     ]
    },
    {
     "name": "stdout",
     "output_type": "stream",
     "text": [
      "Epoch 49, Loss: 0.5548287749646972, Time: 48.98953914642334\n"
     ]
    },
    {
     "name": "stderr",
     "output_type": "stream",
     "text": [
      "Epoch 50/50: 100%|██████████| 1402/1402 [00:50<00:00, 27.88it/s]\n"
     ]
    },
    {
     "name": "stdout",
     "output_type": "stream",
     "text": [
      "Epoch 50, Loss: 0.5548258282509542, Time: 50.299349784851074\n"
     ]
    }
   ],
   "source": [
    "import time\n",
    "from tqdm import tqdm\n",
    "\n",
    "\n",
    "#assign the variables\n",
    "vocab = len(w2i)\n",
    "input_dim = len(w2i)\n",
    "embed_size = 32\n",
    "hidden_dim = 16\n",
    "lstm_layers = 3\n",
    "temp = 0.0\n",
    "epochs = 50\n",
    "lr = 0.0001\n",
    "max_len = 50\n",
    "\n",
    "\n",
    "\n",
    "model = LSTM(input_dim, embed_size, hidden_dim, vocab, lstm_layers)\n",
    "model.to(device)\n",
    "\n",
    "\n",
    "\n",
    "#we can use 'mean' for reduction with setting ignore_index. (Masking)\n",
    "criterion = nn.CrossEntropyLoss(reduction = 'sum', ignore_index=w2i['.pad'])\n",
    "optimizer = optim.Adam(model.parameters(),lr= lr)\n",
    "\n",
    "#create the batches\n",
    "max_tokens_per_batch = 1000\n",
    "batches = create_batches(x_train, max_tokens_per_batch)\n",
    "\n",
    "#store the loss per token for every iteration and every epoch\n",
    "loss_per_token_epoch = []\n",
    "loss_per_token_iter = []\n",
    "\n",
    "#strat training\n",
    "generated_samples_list = []\n",
    "gradient_norms_list = []\n",
    "for epoch in range(epochs):\n",
    "\n",
    "\n",
    "    time1 = time.time()\n",
    "    epoch_loss = 0\n",
    "    gradient_norms = []\n",
    "    for batch in tqdm(batches, desc=f'Epoch {epoch+1}/{epochs}'):\n",
    "        input_tensor, target_tensor = process_batches(batch, w2i)\n",
    "        #move input and target tensor to device\n",
    "        input_tensor, target_tensor = move_to_device((input_tensor, target_tensor),device)\n",
    "        #reset gradients\n",
    "        optimizer.zero_grad()\n",
    "        #set model to training mode\n",
    "        model.train()\n",
    "        #Forward pass\n",
    "        output = model(input_tensor)\n",
    "        '''\n",
    "        print(f'output shape = {output.shape}')\n",
    "        print(f'target shape = {target_tensor.shape}')\n",
    "        '''\n",
    "        #compute loss\n",
    "        #we need to make output in the needed format as (batch_size,vocab_size,sequence_length)\n",
    "        loss = criterion(output.transpose(1,2),target_tensor)\n",
    "        #backward pass\n",
    "        loss.backward()\n",
    "        #gradient clipping to avoid exploding gradients\n",
    "        torch.nn.utils.clip_grad_norm_(model.parameters(), max_norm=1)\n",
    "        #loss per token\n",
    "        # Calculate the number of non-padding tokens\n",
    "        non_padding_tokens = (target_tensor != w2i['.pad']).sum()\n",
    "        # Compute the gradient norm and store it\n",
    "        total_norm = 0\n",
    "        for p in model.parameters():\n",
    "            param_norm = p.grad.data.norm(2)\n",
    "            total_norm += param_norm.item() ** 2\n",
    "        total_norm = total_norm ** 0.5\n",
    "        gradient_norms.append(total_norm)\n",
    "        #update weights\n",
    "        optimizer.step()\n",
    "\n",
    "        #calculate the total loss for epoch\n",
    "        loss_per_iter = loss.item()/non_padding_tokens.item()\n",
    "        loss_per_token_iter.append(loss_per_iter)\n",
    "\n",
    "        #accumulate loss for epoch loss\n",
    "        epoch_loss += loss_per_iter\n",
    "\n",
    "    #calculate average loss per token for a single epoch\n",
    "    loss_epoch = epoch_loss / len(batches)\n",
    "    loss_per_token_epoch.append(loss_epoch)\n",
    "    gradient_norms_list.append(np.mean(gradient_norms))\n",
    "    time2 = time.time()\n",
    "    print(f'Epoch {epoch + 1}, Loss: {epoch_loss / len(batches)}, Time: {time2-time1}')\n",
    "\n",
    "\n",
    "    #Generate samples after each epoch\n",
    "    generated_samples_single_epoch = []\n",
    "    seed_seq = torch.tensor([w2i['.start'], w2i['('], w2i['('], w2i[')']]).unsqueeze(0)\n",
    "    seed_seq = seed_seq.to(device)  # Move seed sequence to the device\n",
    "    for i in range(10):\n",
    "        #teperature is 0 for brackets dataset\n",
    "        seq = generate_samples(model, seed_seq, max_len, temp, w2i)\n",
    "        generated_samples_single_epoch.append([i2w[i.item()] for i in seq[0]])  # Convert indices to words\n",
    "    #add the samples for single epoch to top list\n",
    "    generated_samples_list.append(generated_samples_single_epoch)\n",
    "torch.save(model.state_dict(), 'model_brackets.pth')"
   ]
  },
  {
   "cell_type": "code",
   "execution_count": 14,
   "metadata": {
    "colab": {
     "base_uri": "https://localhost:8080/"
    },
    "id": "Egf2CmCx4m7o",
    "outputId": "521fdfd7-9431-4071-fbb7-693a65a99dbc"
   },
   "outputs": [
    {
     "data": {
      "text/plain": [
       "[1, 5, 5, 4]"
      ]
     },
     "execution_count": 14,
     "metadata": {},
     "output_type": "execute_result"
    }
   ],
   "source": [
    "[w2i['.start'], w2i['('], w2i['('], w2i[')']]"
   ]
  },
  {
   "cell_type": "code",
   "execution_count": 15,
   "metadata": {
    "colab": {
     "base_uri": "https://localhost:8080/"
    },
    "id": "esEMYEcJ4m7o",
    "outputId": "7a527a0c-487e-4337-dc05-ffaa7b11c944"
   },
   "outputs": [
    {
     "name": "stdout",
     "output_type": "stream",
     "text": [
      "start sequence: [[1, 5, 5, 4]]\n",
      "EPOCH 1:\n",
      "['.start', '(', '(', ')', ')', ')', ')', ')', ')', ')', ')', ')', ')', ')', ')', ')', ')', ')', ')', ')', ')', ')', ')', ')', ')', ')', ')', ')', ')', ')', ')', ')', ')', ')', ')', ')', ')', ')', ')', ')', ')', ')', ')', ')', ')', ')', ')', ')', ')', ')']\n",
      "['.start', '(', '(', ')', ')', ')', ')', ')', ')', ')', ')', ')', ')', ')', ')', ')', ')', ')', ')', ')', ')', ')', ')', ')', ')', ')', ')', ')', ')', ')', ')', ')', ')', ')', ')', ')', ')', ')', ')', ')', ')', ')', ')', ')', ')', ')', ')', ')', ')', ')']\n",
      "['.start', '(', '(', ')', ')', ')', ')', ')', ')', ')', ')', ')', ')', ')', ')', ')', ')', ')', ')', ')', ')', ')', ')', ')', ')', ')', ')', ')', ')', ')', ')', ')', ')', ')', ')', ')', ')', ')', ')', ')', ')', ')', ')', ')', ')', ')', ')', ')', ')', ')']\n",
      "['.start', '(', '(', ')', ')', ')', ')', ')', ')', ')', ')', ')', ')', ')', ')', ')', ')', ')', ')', ')', ')', ')', ')', ')', ')', ')', ')', ')', ')', ')', ')', ')', ')', ')', ')', ')', ')', ')', ')', ')', ')', ')', ')', ')', ')', ')', ')', ')', ')', ')']\n",
      "['.start', '(', '(', ')', ')', ')', ')', ')', ')', ')', ')', ')', ')', ')', ')', ')', ')', ')', ')', ')', ')', ')', ')', ')', ')', ')', ')', ')', ')', ')', ')', ')', ')', ')', ')', ')', ')', ')', ')', ')', ')', ')', ')', ')', ')', ')', ')', ')', ')', ')']\n",
      "['.start', '(', '(', ')', ')', ')', ')', ')', ')', ')', ')', ')', ')', ')', ')', ')', ')', ')', ')', ')', ')', ')', ')', ')', ')', ')', ')', ')', ')', ')', ')', ')', ')', ')', ')', ')', ')', ')', ')', ')', ')', ')', ')', ')', ')', ')', ')', ')', ')', ')']\n",
      "['.start', '(', '(', ')', ')', ')', ')', ')', ')', ')', ')', ')', ')', ')', ')', ')', ')', ')', ')', ')', ')', ')', ')', ')', ')', ')', ')', ')', ')', ')', ')', ')', ')', ')', ')', ')', ')', ')', ')', ')', ')', ')', ')', ')', ')', ')', ')', ')', ')', ')']\n",
      "['.start', '(', '(', ')', ')', ')', ')', ')', ')', ')', ')', ')', ')', ')', ')', ')', ')', ')', ')', ')', ')', ')', ')', ')', ')', ')', ')', ')', ')', ')', ')', ')', ')', ')', ')', ')', ')', ')', ')', ')', ')', ')', ')', ')', ')', ')', ')', ')', ')', ')']\n",
      "['.start', '(', '(', ')', ')', ')', ')', ')', ')', ')', ')', ')', ')', ')', ')', ')', ')', ')', ')', ')', ')', ')', ')', ')', ')', ')', ')', ')', ')', ')', ')', ')', ')', ')', ')', ')', ')', ')', ')', ')', ')', ')', ')', ')', ')', ')', ')', ')', ')', ')']\n",
      "['.start', '(', '(', ')', ')', ')', ')', ')', ')', ')', ')', ')', ')', ')', ')', ')', ')', ')', ')', ')', ')', ')', ')', ')', ')', ')', ')', ')', ')', ')', ')', ')', ')', ')', ')', ')', ')', ')', ')', ')', ')', ')', ')', ')', ')', ')', ')', ')', ')', ')']\n",
      "\n",
      "EPOCH 2:\n",
      "['.start', '(', '(', ')', '(', '(', '(', '(', '(', '(', ')', ')', ')', ')', ')', ')', ')', ')', ')', ')', ')', ')', ')', ')', ')', ')', ')', ')', ')', ')', ')', ')', ')', ')', ')', ')', ')', ')', ')', ')', ')', ')', ')', ')', ')', ')', ')', ')', ')', ')']\n",
      "['.start', '(', '(', ')', '(', '(', '(', '(', '(', '(', ')', ')', ')', ')', ')', ')', ')', ')', ')', ')', ')', ')', ')', ')', ')', ')', ')', ')', ')', ')', ')', ')', ')', ')', ')', ')', ')', ')', ')', ')', ')', ')', ')', ')', ')', ')', ')', ')', ')', ')']\n",
      "['.start', '(', '(', ')', '(', '(', '(', '(', '(', '(', ')', ')', ')', ')', ')', ')', ')', ')', ')', ')', ')', ')', ')', ')', ')', ')', ')', ')', ')', ')', ')', ')', ')', ')', ')', ')', ')', ')', ')', ')', ')', ')', ')', ')', ')', ')', ')', ')', ')', ')']\n",
      "['.start', '(', '(', ')', '(', '(', '(', '(', '(', '(', ')', ')', ')', ')', ')', ')', ')', ')', ')', ')', ')', ')', ')', ')', ')', ')', ')', ')', ')', ')', ')', ')', ')', ')', ')', ')', ')', ')', ')', ')', ')', ')', ')', ')', ')', ')', ')', ')', ')', ')']\n",
      "['.start', '(', '(', ')', '(', '(', '(', '(', '(', '(', ')', ')', ')', ')', ')', ')', ')', ')', ')', ')', ')', ')', ')', ')', ')', ')', ')', ')', ')', ')', ')', ')', ')', ')', ')', ')', ')', ')', ')', ')', ')', ')', ')', ')', ')', ')', ')', ')', ')', ')']\n",
      "['.start', '(', '(', ')', '(', '(', '(', '(', '(', '(', ')', ')', ')', ')', ')', ')', ')', ')', ')', ')', ')', ')', ')', ')', ')', ')', ')', ')', ')', ')', ')', ')', ')', ')', ')', ')', ')', ')', ')', ')', ')', ')', ')', ')', ')', ')', ')', ')', ')', ')']\n",
      "['.start', '(', '(', ')', '(', '(', '(', '(', '(', '(', ')', ')', ')', ')', ')', ')', ')', ')', ')', ')', ')', ')', ')', ')', ')', ')', ')', ')', ')', ')', ')', ')', ')', ')', ')', ')', ')', ')', ')', ')', ')', ')', ')', ')', ')', ')', ')', ')', ')', ')']\n",
      "['.start', '(', '(', ')', '(', '(', '(', '(', '(', '(', ')', ')', ')', ')', ')', ')', ')', ')', ')', ')', ')', ')', ')', ')', ')', ')', ')', ')', ')', ')', ')', ')', ')', ')', ')', ')', ')', ')', ')', ')', ')', ')', ')', ')', ')', ')', ')', ')', ')', ')']\n",
      "['.start', '(', '(', ')', '(', '(', '(', '(', '(', '(', ')', ')', ')', ')', ')', ')', ')', ')', ')', ')', ')', ')', ')', ')', ')', ')', ')', ')', ')', ')', ')', ')', ')', ')', ')', ')', ')', ')', ')', ')', ')', ')', ')', ')', ')', ')', ')', ')', ')', ')']\n",
      "['.start', '(', '(', ')', '(', '(', '(', '(', '(', '(', ')', ')', ')', ')', ')', ')', ')', ')', ')', ')', ')', ')', ')', ')', ')', ')', ')', ')', ')', ')', ')', ')', ')', ')', ')', ')', ')', ')', ')', ')', ')', ')', ')', ')', ')', ')', ')', ')', ')', ')']\n",
      "\n",
      "EPOCH 3:\n",
      "['.start', '(', '(', ')', '(', '(', '(', '(', '(', '(', ')', ')', ')', ')', ')', ')', ')', ')', ')', ')', ')', ')', ')', ')', ')', ')', ')', ')', ')', ')', ')', ')', ')', ')', ')', ')', ')', ')', ')', ')', ')', ')', ')', ')', ')', ')', ')', ')', ')', ')']\n",
      "['.start', '(', '(', ')', '(', '(', '(', '(', '(', '(', ')', ')', ')', ')', ')', ')', ')', ')', ')', ')', ')', ')', ')', ')', ')', ')', ')', ')', ')', ')', ')', ')', ')', ')', ')', ')', ')', ')', ')', ')', ')', ')', ')', ')', ')', ')', ')', ')', ')', ')']\n",
      "['.start', '(', '(', ')', '(', '(', '(', '(', '(', '(', ')', ')', ')', ')', ')', ')', ')', ')', ')', ')', ')', ')', ')', ')', ')', ')', ')', ')', ')', ')', ')', ')', ')', ')', ')', ')', ')', ')', ')', ')', ')', ')', ')', ')', ')', ')', ')', ')', ')', ')']\n",
      "['.start', '(', '(', ')', '(', '(', '(', '(', '(', '(', ')', ')', ')', ')', ')', ')', ')', ')', ')', ')', ')', ')', ')', ')', ')', ')', ')', ')', ')', ')', ')', ')', ')', ')', ')', ')', ')', ')', ')', ')', ')', ')', ')', ')', ')', ')', ')', ')', ')', ')']\n",
      "['.start', '(', '(', ')', '(', '(', '(', '(', '(', '(', ')', ')', ')', ')', ')', ')', ')', ')', ')', ')', ')', ')', ')', ')', ')', ')', ')', ')', ')', ')', ')', ')', ')', ')', ')', ')', ')', ')', ')', ')', ')', ')', ')', ')', ')', ')', ')', ')', ')', ')']\n",
      "['.start', '(', '(', ')', '(', '(', '(', '(', '(', '(', ')', ')', ')', ')', ')', ')', ')', ')', ')', ')', ')', ')', ')', ')', ')', ')', ')', ')', ')', ')', ')', ')', ')', ')', ')', ')', ')', ')', ')', ')', ')', ')', ')', ')', ')', ')', ')', ')', ')', ')']\n",
      "['.start', '(', '(', ')', '(', '(', '(', '(', '(', '(', ')', ')', ')', ')', ')', ')', ')', ')', ')', ')', ')', ')', ')', ')', ')', ')', ')', ')', ')', ')', ')', ')', ')', ')', ')', ')', ')', ')', ')', ')', ')', ')', ')', ')', ')', ')', ')', ')', ')', ')']\n",
      "['.start', '(', '(', ')', '(', '(', '(', '(', '(', '(', ')', ')', ')', ')', ')', ')', ')', ')', ')', ')', ')', ')', ')', ')', ')', ')', ')', ')', ')', ')', ')', ')', ')', ')', ')', ')', ')', ')', ')', ')', ')', ')', ')', ')', ')', ')', ')', ')', ')', ')']\n",
      "['.start', '(', '(', ')', '(', '(', '(', '(', '(', '(', ')', ')', ')', ')', ')', ')', ')', ')', ')', ')', ')', ')', ')', ')', ')', ')', ')', ')', ')', ')', ')', ')', ')', ')', ')', ')', ')', ')', ')', ')', ')', ')', ')', ')', ')', ')', ')', ')', ')', ')']\n",
      "['.start', '(', '(', ')', '(', '(', '(', '(', '(', '(', ')', ')', ')', ')', ')', ')', ')', ')', ')', ')', ')', ')', ')', ')', ')', ')', ')', ')', ')', ')', ')', ')', ')', ')', ')', ')', ')', ')', ')', ')', ')', ')', ')', ')', ')', ')', ')', ')', ')', ')']\n",
      "\n",
      "EPOCH 4:\n",
      "['.start', '(', '(', ')', '(', '(', '(', '(', '(', '(', ')', ')', ')', ')', ')', ')', ')', ')', ')', ')', ')', ')', ')', ')', ')', ')', ')', ')', ')', ')', ')', ')', ')', ')', ')', ')', ')', ')', ')', ')', ')', ')', ')', ')', ')', ')', ')', ')', ')', ')']\n",
      "['.start', '(', '(', ')', '(', '(', '(', '(', '(', '(', ')', ')', ')', ')', ')', ')', ')', ')', ')', ')', ')', ')', ')', ')', ')', ')', ')', ')', ')', ')', ')', ')', ')', ')', ')', ')', ')', ')', ')', ')', ')', ')', ')', ')', ')', ')', ')', ')', ')', ')']\n",
      "['.start', '(', '(', ')', '(', '(', '(', '(', '(', '(', ')', ')', ')', ')', ')', ')', ')', ')', ')', ')', ')', ')', ')', ')', ')', ')', ')', ')', ')', ')', ')', ')', ')', ')', ')', ')', ')', ')', ')', ')', ')', ')', ')', ')', ')', ')', ')', ')', ')', ')']\n",
      "['.start', '(', '(', ')', '(', '(', '(', '(', '(', '(', ')', ')', ')', ')', ')', ')', ')', ')', ')', ')', ')', ')', ')', ')', ')', ')', ')', ')', ')', ')', ')', ')', ')', ')', ')', ')', ')', ')', ')', ')', ')', ')', ')', ')', ')', ')', ')', ')', ')', ')']\n",
      "['.start', '(', '(', ')', '(', '(', '(', '(', '(', '(', ')', ')', ')', ')', ')', ')', ')', ')', ')', ')', ')', ')', ')', ')', ')', ')', ')', ')', ')', ')', ')', ')', ')', ')', ')', ')', ')', ')', ')', ')', ')', ')', ')', ')', ')', ')', ')', ')', ')', ')']\n",
      "['.start', '(', '(', ')', '(', '(', '(', '(', '(', '(', ')', ')', ')', ')', ')', ')', ')', ')', ')', ')', ')', ')', ')', ')', ')', ')', ')', ')', ')', ')', ')', ')', ')', ')', ')', ')', ')', ')', ')', ')', ')', ')', ')', ')', ')', ')', ')', ')', ')', ')']\n",
      "['.start', '(', '(', ')', '(', '(', '(', '(', '(', '(', ')', ')', ')', ')', ')', ')', ')', ')', ')', ')', ')', ')', ')', ')', ')', ')', ')', ')', ')', ')', ')', ')', ')', ')', ')', ')', ')', ')', ')', ')', ')', ')', ')', ')', ')', ')', ')', ')', ')', ')']\n",
      "['.start', '(', '(', ')', '(', '(', '(', '(', '(', '(', ')', ')', ')', ')', ')', ')', ')', ')', ')', ')', ')', ')', ')', ')', ')', ')', ')', ')', ')', ')', ')', ')', ')', ')', ')', ')', ')', ')', ')', ')', ')', ')', ')', ')', ')', ')', ')', ')', ')', ')']\n",
      "['.start', '(', '(', ')', '(', '(', '(', '(', '(', '(', ')', ')', ')', ')', ')', ')', ')', ')', ')', ')', ')', ')', ')', ')', ')', ')', ')', ')', ')', ')', ')', ')', ')', ')', ')', ')', ')', ')', ')', ')', ')', ')', ')', ')', ')', ')', ')', ')', ')', ')']\n",
      "['.start', '(', '(', ')', '(', '(', '(', '(', '(', '(', ')', ')', ')', ')', ')', ')', ')', ')', ')', ')', ')', ')', ')', ')', ')', ')', ')', ')', ')', ')', ')', ')', ')', ')', ')', ')', ')', ')', ')', ')', ')', ')', ')', ')', ')', ')', ')', ')', ')', ')']\n",
      "\n",
      "EPOCH 5:\n",
      "['.start', '(', '(', ')', '(', '(', '(', '(', '(', '(', ')', ')', ')', ')', ')', ')', ')', ')', ')', ')', ')', ')', ')', ')', ')', ')', ')', ')', ')', ')', ')', ')', ')', ')', ')', ')', ')', ')', ')', ')', ')', ')', ')', ')', ')', ')', ')', ')', ')', ')']\n",
      "['.start', '(', '(', ')', '(', '(', '(', '(', '(', '(', ')', ')', ')', ')', ')', ')', ')', ')', ')', ')', ')', ')', ')', ')', ')', ')', ')', ')', ')', ')', ')', ')', ')', ')', ')', ')', ')', ')', ')', ')', ')', ')', ')', ')', ')', ')', ')', ')', ')', ')']\n",
      "['.start', '(', '(', ')', '(', '(', '(', '(', '(', '(', ')', ')', ')', ')', ')', ')', ')', ')', ')', ')', ')', ')', ')', ')', ')', ')', ')', ')', ')', ')', ')', ')', ')', ')', ')', ')', ')', ')', ')', ')', ')', ')', ')', ')', ')', ')', ')', ')', ')', ')']\n",
      "['.start', '(', '(', ')', '(', '(', '(', '(', '(', '(', ')', ')', ')', ')', ')', ')', ')', ')', ')', ')', ')', ')', ')', ')', ')', ')', ')', ')', ')', ')', ')', ')', ')', ')', ')', ')', ')', ')', ')', ')', ')', ')', ')', ')', ')', ')', ')', ')', ')', ')']\n",
      "['.start', '(', '(', ')', '(', '(', '(', '(', '(', '(', ')', ')', ')', ')', ')', ')', ')', ')', ')', ')', ')', ')', ')', ')', ')', ')', ')', ')', ')', ')', ')', ')', ')', ')', ')', ')', ')', ')', ')', ')', ')', ')', ')', ')', ')', ')', ')', ')', ')', ')']\n",
      "['.start', '(', '(', ')', '(', '(', '(', '(', '(', '(', ')', ')', ')', ')', ')', ')', ')', ')', ')', ')', ')', ')', ')', ')', ')', ')', ')', ')', ')', ')', ')', ')', ')', ')', ')', ')', ')', ')', ')', ')', ')', ')', ')', ')', ')', ')', ')', ')', ')', ')']\n",
      "['.start', '(', '(', ')', '(', '(', '(', '(', '(', '(', ')', ')', ')', ')', ')', ')', ')', ')', ')', ')', ')', ')', ')', ')', ')', ')', ')', ')', ')', ')', ')', ')', ')', ')', ')', ')', ')', ')', ')', ')', ')', ')', ')', ')', ')', ')', ')', ')', ')', ')']\n",
      "['.start', '(', '(', ')', '(', '(', '(', '(', '(', '(', ')', ')', ')', ')', ')', ')', ')', ')', ')', ')', ')', ')', ')', ')', ')', ')', ')', ')', ')', ')', ')', ')', ')', ')', ')', ')', ')', ')', ')', ')', ')', ')', ')', ')', ')', ')', ')', ')', ')', ')']\n",
      "['.start', '(', '(', ')', '(', '(', '(', '(', '(', '(', ')', ')', ')', ')', ')', ')', ')', ')', ')', ')', ')', ')', ')', ')', ')', ')', ')', ')', ')', ')', ')', ')', ')', ')', ')', ')', ')', ')', ')', ')', ')', ')', ')', ')', ')', ')', ')', ')', ')', ')']\n",
      "['.start', '(', '(', ')', '(', '(', '(', '(', '(', '(', ')', ')', ')', ')', ')', ')', ')', ')', ')', ')', ')', ')', ')', ')', ')', ')', ')', ')', ')', ')', ')', ')', ')', ')', ')', ')', ')', ')', ')', ')', ')', ')', ')', ')', ')', ')', ')', ')', ')', ')']\n",
      "\n",
      "EPOCH 6:\n",
      "['.start', '(', '(', ')', '(', '(', '(', '(', '(', ')', ')', ')', ')', ')', ')', ')', ')', ')', ')', ')', ')', ')', ')', ')', ')', ')', ')', ')', ')', ')', ')', ')', ')', ')', ')', ')', ')', ')', ')', ')', ')', ')', ')', ')', ')', ')', ')', ')', ')', ')']\n",
      "['.start', '(', '(', ')', '(', '(', '(', '(', '(', ')', ')', ')', ')', ')', ')', ')', ')', ')', ')', ')', ')', ')', ')', ')', ')', ')', ')', ')', ')', ')', ')', ')', ')', ')', ')', ')', ')', ')', ')', ')', ')', ')', ')', ')', ')', ')', ')', ')', ')', ')']\n",
      "['.start', '(', '(', ')', '(', '(', '(', '(', '(', ')', ')', ')', ')', ')', ')', ')', ')', ')', ')', ')', ')', ')', ')', ')', ')', ')', ')', ')', ')', ')', ')', ')', ')', ')', ')', ')', ')', ')', ')', ')', ')', ')', ')', ')', ')', ')', ')', ')', ')', ')']\n",
      "['.start', '(', '(', ')', '(', '(', '(', '(', '(', ')', ')', ')', ')', ')', ')', ')', ')', ')', ')', ')', ')', ')', ')', ')', ')', ')', ')', ')', ')', ')', ')', ')', ')', ')', ')', ')', ')', ')', ')', ')', ')', ')', ')', ')', ')', ')', ')', ')', ')', ')']\n",
      "['.start', '(', '(', ')', '(', '(', '(', '(', '(', ')', ')', ')', ')', ')', ')', ')', ')', ')', ')', ')', ')', ')', ')', ')', ')', ')', ')', ')', ')', ')', ')', ')', ')', ')', ')', ')', ')', ')', ')', ')', ')', ')', ')', ')', ')', ')', ')', ')', ')', ')']\n",
      "['.start', '(', '(', ')', '(', '(', '(', '(', '(', ')', ')', ')', ')', ')', ')', ')', ')', ')', ')', ')', ')', ')', ')', ')', ')', ')', ')', ')', ')', ')', ')', ')', ')', ')', ')', ')', ')', ')', ')', ')', ')', ')', ')', ')', ')', ')', ')', ')', ')', ')']\n",
      "['.start', '(', '(', ')', '(', '(', '(', '(', '(', ')', ')', ')', ')', ')', ')', ')', ')', ')', ')', ')', ')', ')', ')', ')', ')', ')', ')', ')', ')', ')', ')', ')', ')', ')', ')', ')', ')', ')', ')', ')', ')', ')', ')', ')', ')', ')', ')', ')', ')', ')']\n",
      "['.start', '(', '(', ')', '(', '(', '(', '(', '(', ')', ')', ')', ')', ')', ')', ')', ')', ')', ')', ')', ')', ')', ')', ')', ')', ')', ')', ')', ')', ')', ')', ')', ')', ')', ')', ')', ')', ')', ')', ')', ')', ')', ')', ')', ')', ')', ')', ')', ')', ')']\n",
      "['.start', '(', '(', ')', '(', '(', '(', '(', '(', ')', ')', ')', ')', ')', ')', ')', ')', ')', ')', ')', ')', ')', ')', ')', ')', ')', ')', ')', ')', ')', ')', ')', ')', ')', ')', ')', ')', ')', ')', ')', ')', ')', ')', ')', ')', ')', ')', ')', ')', ')']\n",
      "['.start', '(', '(', ')', '(', '(', '(', '(', '(', ')', ')', ')', ')', ')', ')', ')', ')', ')', ')', ')', ')', ')', ')', ')', ')', ')', ')', ')', ')', ')', ')', ')', ')', ')', ')', ')', ')', ')', ')', ')', ')', ')', ')', ')', ')', ')', ')', ')', ')', ')']\n",
      "\n",
      "EPOCH 7:\n",
      "['.start', '(', '(', ')', '(', '(', '(', '(', ')', ')', ')', ')', ')', '(', ')', ')', ')', ')', ')', ')', '(', ')', ')', ')', ')', ')', ')', ')', ')', ')', ')', '(', ')', ')', ')', ')', ')', ')', ')', ')', ')', ')', ')', ')', ')', ')', ')', ')', ')', ')']\n",
      "['.start', '(', '(', ')', '(', '(', '(', '(', ')', ')', ')', ')', ')', '(', ')', ')', ')', ')', ')', ')', '(', ')', ')', ')', ')', ')', ')', ')', ')', ')', ')', '(', ')', ')', ')', ')', ')', ')', ')', ')', ')', ')', ')', ')', ')', ')', ')', ')', ')', ')']\n",
      "['.start', '(', '(', ')', '(', '(', '(', '(', ')', ')', ')', ')', ')', '(', ')', ')', ')', ')', ')', ')', '(', ')', ')', ')', ')', ')', ')', ')', ')', ')', ')', '(', ')', ')', ')', ')', ')', ')', ')', ')', ')', ')', ')', ')', ')', ')', ')', ')', ')', ')']\n",
      "['.start', '(', '(', ')', '(', '(', '(', '(', ')', ')', ')', ')', ')', '(', ')', ')', ')', ')', ')', ')', '(', ')', ')', ')', ')', ')', ')', ')', ')', ')', ')', '(', ')', ')', ')', ')', ')', ')', ')', ')', ')', ')', ')', ')', ')', ')', ')', ')', ')', ')']\n",
      "['.start', '(', '(', ')', '(', '(', '(', '(', ')', ')', ')', ')', ')', '(', ')', ')', ')', ')', ')', ')', '(', ')', ')', ')', ')', ')', ')', ')', ')', ')', ')', '(', ')', ')', ')', ')', ')', ')', ')', ')', ')', ')', ')', ')', ')', ')', ')', ')', ')', ')']\n",
      "['.start', '(', '(', ')', '(', '(', '(', '(', ')', ')', ')', ')', ')', '(', ')', ')', ')', ')', ')', ')', '(', ')', ')', ')', ')', ')', ')', ')', ')', ')', ')', '(', ')', ')', ')', ')', ')', ')', ')', ')', ')', ')', ')', ')', ')', ')', ')', ')', ')', ')']\n",
      "['.start', '(', '(', ')', '(', '(', '(', '(', ')', ')', ')', ')', ')', '(', ')', ')', ')', ')', ')', ')', '(', ')', ')', ')', ')', ')', ')', ')', ')', ')', ')', '(', ')', ')', ')', ')', ')', ')', ')', ')', ')', ')', ')', ')', ')', ')', ')', ')', ')', ')']\n",
      "['.start', '(', '(', ')', '(', '(', '(', '(', ')', ')', ')', ')', ')', '(', ')', ')', ')', ')', ')', ')', '(', ')', ')', ')', ')', ')', ')', ')', ')', ')', ')', '(', ')', ')', ')', ')', ')', ')', ')', ')', ')', ')', ')', ')', ')', ')', ')', ')', ')', ')']\n",
      "['.start', '(', '(', ')', '(', '(', '(', '(', ')', ')', ')', ')', ')', '(', ')', ')', ')', ')', ')', ')', '(', ')', ')', ')', ')', ')', ')', ')', ')', ')', ')', '(', ')', ')', ')', ')', ')', ')', ')', ')', ')', ')', ')', ')', ')', ')', ')', ')', ')', ')']\n",
      "['.start', '(', '(', ')', '(', '(', '(', '(', ')', ')', ')', ')', ')', '(', ')', ')', ')', ')', ')', ')', '(', ')', ')', ')', ')', ')', ')', ')', ')', ')', ')', '(', ')', ')', ')', ')', ')', ')', ')', ')', ')', ')', ')', ')', ')', ')', ')', ')', ')', ')']\n",
      "\n",
      "EPOCH 8:\n",
      "['.start', '(', '(', ')', '(', '(', '(', '(', ')', ')', ')', '(', ')', ')', ')', '(', ')', ')', ')', '(', ')', ')', ')', ')', '(', ')', ')', ')', ')', ')', '(', ')', ')', ')', ')', ')', ')', '(', ')', ')', ')', ')', ')', ')', ')', '(', ')', ')', ')', ')']\n",
      "['.start', '(', '(', ')', '(', '(', '(', '(', ')', ')', ')', '(', ')', ')', ')', '(', ')', ')', ')', '(', ')', ')', ')', ')', '(', ')', ')', ')', ')', ')', '(', ')', ')', ')', ')', ')', ')', '(', ')', ')', ')', ')', ')', ')', ')', '(', ')', ')', ')', ')']\n",
      "['.start', '(', '(', ')', '(', '(', '(', '(', ')', ')', ')', '(', ')', ')', ')', '(', ')', ')', ')', '(', ')', ')', ')', ')', '(', ')', ')', ')', ')', ')', '(', ')', ')', ')', ')', ')', ')', '(', ')', ')', ')', ')', ')', ')', ')', '(', ')', ')', ')', ')']\n",
      "['.start', '(', '(', ')', '(', '(', '(', '(', ')', ')', ')', '(', ')', ')', ')', '(', ')', ')', ')', '(', ')', ')', ')', ')', '(', ')', ')', ')', ')', ')', '(', ')', ')', ')', ')', ')', ')', '(', ')', ')', ')', ')', ')', ')', ')', '(', ')', ')', ')', ')']\n",
      "['.start', '(', '(', ')', '(', '(', '(', '(', ')', ')', ')', '(', ')', ')', ')', '(', ')', ')', ')', '(', ')', ')', ')', ')', '(', ')', ')', ')', ')', ')', '(', ')', ')', ')', ')', ')', ')', '(', ')', ')', ')', ')', ')', ')', ')', '(', ')', ')', ')', ')']\n",
      "['.start', '(', '(', ')', '(', '(', '(', '(', ')', ')', ')', '(', ')', ')', ')', '(', ')', ')', ')', '(', ')', ')', ')', ')', '(', ')', ')', ')', ')', ')', '(', ')', ')', ')', ')', ')', ')', '(', ')', ')', ')', ')', ')', ')', ')', '(', ')', ')', ')', ')']\n",
      "['.start', '(', '(', ')', '(', '(', '(', '(', ')', ')', ')', '(', ')', ')', ')', '(', ')', ')', ')', '(', ')', ')', ')', ')', '(', ')', ')', ')', ')', ')', '(', ')', ')', ')', ')', ')', ')', '(', ')', ')', ')', ')', ')', ')', ')', '(', ')', ')', ')', ')']\n",
      "['.start', '(', '(', ')', '(', '(', '(', '(', ')', ')', ')', '(', ')', ')', ')', '(', ')', ')', ')', '(', ')', ')', ')', ')', '(', ')', ')', ')', ')', ')', '(', ')', ')', ')', ')', ')', ')', '(', ')', ')', ')', ')', ')', ')', ')', '(', ')', ')', ')', ')']\n",
      "['.start', '(', '(', ')', '(', '(', '(', '(', ')', ')', ')', '(', ')', ')', ')', '(', ')', ')', ')', '(', ')', ')', ')', ')', '(', ')', ')', ')', ')', ')', '(', ')', ')', ')', ')', ')', ')', '(', ')', ')', ')', ')', ')', ')', ')', '(', ')', ')', ')', ')']\n",
      "['.start', '(', '(', ')', '(', '(', '(', '(', ')', ')', ')', '(', ')', ')', ')', '(', ')', ')', ')', '(', ')', ')', ')', ')', '(', ')', ')', ')', ')', ')', '(', ')', ')', ')', ')', ')', ')', '(', ')', ')', ')', ')', ')', ')', ')', '(', ')', ')', ')', ')']\n",
      "\n",
      "EPOCH 9:\n",
      "['.start', '(', '(', ')', '(', '(', '(', ')', ')', '(', ')', '(', ')', ')', '(', ')', ')', '(', ')', ')', ')', '(', ')', ')', ')', '(', ')', ')', ')', ')', '(', ')', ')', ')', ')', '(', ')', ')', ')', ')', ')', '(', ')', ')', ')', ')', ')', '(', ')', ')']\n",
      "['.start', '(', '(', ')', '(', '(', '(', ')', ')', '(', ')', '(', ')', ')', '(', ')', ')', '(', ')', ')', ')', '(', ')', ')', ')', '(', ')', ')', ')', ')', '(', ')', ')', ')', ')', '(', ')', ')', ')', ')', ')', '(', ')', ')', ')', ')', ')', '(', ')', ')']\n",
      "['.start', '(', '(', ')', '(', '(', '(', ')', ')', '(', ')', '(', ')', ')', '(', ')', ')', '(', ')', ')', ')', '(', ')', ')', ')', '(', ')', ')', ')', ')', '(', ')', ')', ')', ')', '(', ')', ')', ')', ')', ')', '(', ')', ')', ')', ')', ')', '(', ')', ')']\n",
      "['.start', '(', '(', ')', '(', '(', '(', ')', ')', '(', ')', '(', ')', ')', '(', ')', ')', '(', ')', ')', ')', '(', ')', ')', ')', '(', ')', ')', ')', ')', '(', ')', ')', ')', ')', '(', ')', ')', ')', ')', ')', '(', ')', ')', ')', ')', ')', '(', ')', ')']\n",
      "['.start', '(', '(', ')', '(', '(', '(', ')', ')', '(', ')', '(', ')', ')', '(', ')', ')', '(', ')', ')', ')', '(', ')', ')', ')', '(', ')', ')', ')', ')', '(', ')', ')', ')', ')', '(', ')', ')', ')', ')', ')', '(', ')', ')', ')', ')', ')', '(', ')', ')']\n",
      "['.start', '(', '(', ')', '(', '(', '(', ')', ')', '(', ')', '(', ')', ')', '(', ')', ')', '(', ')', ')', ')', '(', ')', ')', ')', '(', ')', ')', ')', ')', '(', ')', ')', ')', ')', '(', ')', ')', ')', ')', ')', '(', ')', ')', ')', ')', ')', '(', ')', ')']\n",
      "['.start', '(', '(', ')', '(', '(', '(', ')', ')', '(', ')', '(', ')', ')', '(', ')', ')', '(', ')', ')', ')', '(', ')', ')', ')', '(', ')', ')', ')', ')', '(', ')', ')', ')', ')', '(', ')', ')', ')', ')', ')', '(', ')', ')', ')', ')', ')', '(', ')', ')']\n",
      "['.start', '(', '(', ')', '(', '(', '(', ')', ')', '(', ')', '(', ')', ')', '(', ')', ')', '(', ')', ')', ')', '(', ')', ')', ')', '(', ')', ')', ')', ')', '(', ')', ')', ')', ')', '(', ')', ')', ')', ')', ')', '(', ')', ')', ')', ')', ')', '(', ')', ')']\n",
      "['.start', '(', '(', ')', '(', '(', '(', ')', ')', '(', ')', '(', ')', ')', '(', ')', ')', '(', ')', ')', ')', '(', ')', ')', ')', '(', ')', ')', ')', ')', '(', ')', ')', ')', ')', '(', ')', ')', ')', ')', ')', '(', ')', ')', ')', ')', ')', '(', ')', ')']\n",
      "['.start', '(', '(', ')', '(', '(', '(', ')', ')', '(', ')', '(', ')', ')', '(', ')', ')', '(', ')', ')', ')', '(', ')', ')', ')', '(', ')', ')', ')', ')', '(', ')', ')', ')', ')', '(', ')', ')', ')', ')', ')', '(', ')', ')', ')', ')', ')', '(', ')', ')']\n",
      "\n",
      "EPOCH 10:\n",
      "['.start', '(', '(', ')', '(', '(', ')', '(', ')', '(', ')', ')', '(', ')', '(', ')', ')', '(', ')', ')', ')', '(', ')', ')', ')', '(', ')', ')', ')', '(', ')', ')', ')', ')', '(', ')', ')', ')', ')', '(', ')', ')', ')', ')', ')', '(', ')', ')', ')', ')']\n",
      "['.start', '(', '(', ')', '(', '(', ')', '(', ')', '(', ')', ')', '(', ')', '(', ')', ')', '(', ')', ')', ')', '(', ')', ')', ')', '(', ')', ')', ')', '(', ')', ')', ')', ')', '(', ')', ')', ')', ')', '(', ')', ')', ')', ')', ')', '(', ')', ')', ')', ')']\n",
      "['.start', '(', '(', ')', '(', '(', ')', '(', ')', '(', ')', ')', '(', ')', '(', ')', ')', '(', ')', ')', ')', '(', ')', ')', ')', '(', ')', ')', ')', '(', ')', ')', ')', ')', '(', ')', ')', ')', ')', '(', ')', ')', ')', ')', ')', '(', ')', ')', ')', ')']\n",
      "['.start', '(', '(', ')', '(', '(', ')', '(', ')', '(', ')', ')', '(', ')', '(', ')', ')', '(', ')', ')', ')', '(', ')', ')', ')', '(', ')', ')', ')', '(', ')', ')', ')', ')', '(', ')', ')', ')', ')', '(', ')', ')', ')', ')', ')', '(', ')', ')', ')', ')']\n",
      "['.start', '(', '(', ')', '(', '(', ')', '(', ')', '(', ')', ')', '(', ')', '(', ')', ')', '(', ')', ')', ')', '(', ')', ')', ')', '(', ')', ')', ')', '(', ')', ')', ')', ')', '(', ')', ')', ')', ')', '(', ')', ')', ')', ')', ')', '(', ')', ')', ')', ')']\n",
      "['.start', '(', '(', ')', '(', '(', ')', '(', ')', '(', ')', ')', '(', ')', '(', ')', ')', '(', ')', ')', ')', '(', ')', ')', ')', '(', ')', ')', ')', '(', ')', ')', ')', ')', '(', ')', ')', ')', ')', '(', ')', ')', ')', ')', ')', '(', ')', ')', ')', ')']\n",
      "['.start', '(', '(', ')', '(', '(', ')', '(', ')', '(', ')', ')', '(', ')', '(', ')', ')', '(', ')', ')', ')', '(', ')', ')', ')', '(', ')', ')', ')', '(', ')', ')', ')', ')', '(', ')', ')', ')', ')', '(', ')', ')', ')', ')', ')', '(', ')', ')', ')', ')']\n",
      "['.start', '(', '(', ')', '(', '(', ')', '(', ')', '(', ')', ')', '(', ')', '(', ')', ')', '(', ')', ')', ')', '(', ')', ')', ')', '(', ')', ')', ')', '(', ')', ')', ')', ')', '(', ')', ')', ')', ')', '(', ')', ')', ')', ')', ')', '(', ')', ')', ')', ')']\n",
      "['.start', '(', '(', ')', '(', '(', ')', '(', ')', '(', ')', ')', '(', ')', '(', ')', ')', '(', ')', ')', ')', '(', ')', ')', ')', '(', ')', ')', ')', '(', ')', ')', ')', ')', '(', ')', ')', ')', ')', '(', ')', ')', ')', ')', ')', '(', ')', ')', ')', ')']\n",
      "['.start', '(', '(', ')', '(', '(', ')', '(', ')', '(', ')', ')', '(', ')', '(', ')', ')', '(', ')', ')', ')', '(', ')', ')', ')', '(', ')', ')', ')', '(', ')', ')', ')', ')', '(', ')', ')', ')', ')', '(', ')', ')', ')', ')', ')', '(', ')', ')', ')', ')']\n",
      "\n",
      "EPOCH 11:\n",
      "['.start', '(', '(', ')', '(', ')', '(', ')', '(', ')', '(', ')', '(', ')', ')', '(', ')', ')', '(', ')', ')', '(', ')', ')', ')', '(', ')', ')', ')', ')', '(', ')', ')', ')', ')', '(', ')', ')', ')', ')', ')', '(', ')', ')', ')', ')', ')', ')', '(', ')']\n",
      "['.start', '(', '(', ')', '(', ')', '(', ')', '(', ')', '(', ')', '(', ')', ')', '(', ')', ')', '(', ')', ')', '(', ')', ')', ')', '(', ')', ')', ')', ')', '(', ')', ')', ')', ')', '(', ')', ')', ')', ')', ')', '(', ')', ')', ')', ')', ')', ')', '(', ')']\n",
      "['.start', '(', '(', ')', '(', ')', '(', ')', '(', ')', '(', ')', '(', ')', ')', '(', ')', ')', '(', ')', ')', '(', ')', ')', ')', '(', ')', ')', ')', ')', '(', ')', ')', ')', ')', '(', ')', ')', ')', ')', ')', '(', ')', ')', ')', ')', ')', ')', '(', ')']\n",
      "['.start', '(', '(', ')', '(', ')', '(', ')', '(', ')', '(', ')', '(', ')', ')', '(', ')', ')', '(', ')', ')', '(', ')', ')', ')', '(', ')', ')', ')', ')', '(', ')', ')', ')', ')', '(', ')', ')', ')', ')', ')', '(', ')', ')', ')', ')', ')', ')', '(', ')']\n",
      "['.start', '(', '(', ')', '(', ')', '(', ')', '(', ')', '(', ')', '(', ')', ')', '(', ')', ')', '(', ')', ')', '(', ')', ')', ')', '(', ')', ')', ')', ')', '(', ')', ')', ')', ')', '(', ')', ')', ')', ')', ')', '(', ')', ')', ')', ')', ')', ')', '(', ')']\n",
      "['.start', '(', '(', ')', '(', ')', '(', ')', '(', ')', '(', ')', '(', ')', ')', '(', ')', ')', '(', ')', ')', '(', ')', ')', ')', '(', ')', ')', ')', ')', '(', ')', ')', ')', ')', '(', ')', ')', ')', ')', ')', '(', ')', ')', ')', ')', ')', ')', '(', ')']\n",
      "['.start', '(', '(', ')', '(', ')', '(', ')', '(', ')', '(', ')', '(', ')', ')', '(', ')', ')', '(', ')', ')', '(', ')', ')', ')', '(', ')', ')', ')', ')', '(', ')', ')', ')', ')', '(', ')', ')', ')', ')', ')', '(', ')', ')', ')', ')', ')', ')', '(', ')']\n",
      "['.start', '(', '(', ')', '(', ')', '(', ')', '(', ')', '(', ')', '(', ')', ')', '(', ')', ')', '(', ')', ')', '(', ')', ')', ')', '(', ')', ')', ')', ')', '(', ')', ')', ')', ')', '(', ')', ')', ')', ')', ')', '(', ')', ')', ')', ')', ')', ')', '(', ')']\n",
      "['.start', '(', '(', ')', '(', ')', '(', ')', '(', ')', '(', ')', '(', ')', ')', '(', ')', ')', '(', ')', ')', '(', ')', ')', ')', '(', ')', ')', ')', ')', '(', ')', ')', ')', ')', '(', ')', ')', ')', ')', ')', '(', ')', ')', ')', ')', ')', ')', '(', ')']\n",
      "['.start', '(', '(', ')', '(', ')', '(', ')', '(', ')', '(', ')', '(', ')', ')', '(', ')', ')', '(', ')', ')', '(', ')', ')', ')', '(', ')', ')', ')', ')', '(', ')', ')', ')', ')', '(', ')', ')', ')', ')', ')', '(', ')', ')', ')', ')', ')', ')', '(', ')']\n",
      "\n",
      "EPOCH 12:\n",
      "['.start', '(', '(', ')', '(', ')', '(', ')', '(', ')', '(', ')', '(', ')', '(', ')', ')', '(', ')', ')', '(', ')', ')', ')', '(', ')', ')', ')', ')', ')', '(', ')', ')', ')', ')', ')', ')', ')', ')', ')', ')', ')', ')', ')', ')', ')', ')', ')', ')', ')']\n",
      "['.start', '(', '(', ')', '(', ')', '(', ')', '(', ')', '(', ')', '(', ')', '(', ')', ')', '(', ')', ')', '(', ')', ')', ')', '(', ')', ')', ')', ')', ')', '(', ')', ')', ')', ')', ')', ')', ')', ')', ')', ')', ')', ')', ')', ')', ')', ')', ')', ')', ')']\n",
      "['.start', '(', '(', ')', '(', ')', '(', ')', '(', ')', '(', ')', '(', ')', '(', ')', ')', '(', ')', ')', '(', ')', ')', ')', '(', ')', ')', ')', ')', ')', '(', ')', ')', ')', ')', ')', ')', ')', ')', ')', ')', ')', ')', ')', ')', ')', ')', ')', ')', ')']\n",
      "['.start', '(', '(', ')', '(', ')', '(', ')', '(', ')', '(', ')', '(', ')', '(', ')', ')', '(', ')', ')', '(', ')', ')', ')', '(', ')', ')', ')', ')', ')', '(', ')', ')', ')', ')', ')', ')', ')', ')', ')', ')', ')', ')', ')', ')', ')', ')', ')', ')', ')']\n",
      "['.start', '(', '(', ')', '(', ')', '(', ')', '(', ')', '(', ')', '(', ')', '(', ')', ')', '(', ')', ')', '(', ')', ')', ')', '(', ')', ')', ')', ')', ')', '(', ')', ')', ')', ')', ')', ')', ')', ')', ')', ')', ')', ')', ')', ')', ')', ')', ')', ')', ')']\n",
      "['.start', '(', '(', ')', '(', ')', '(', ')', '(', ')', '(', ')', '(', ')', '(', ')', ')', '(', ')', ')', '(', ')', ')', ')', '(', ')', ')', ')', ')', ')', '(', ')', ')', ')', ')', ')', ')', ')', ')', ')', ')', ')', ')', ')', ')', ')', ')', ')', ')', ')']\n",
      "['.start', '(', '(', ')', '(', ')', '(', ')', '(', ')', '(', ')', '(', ')', '(', ')', ')', '(', ')', ')', '(', ')', ')', ')', '(', ')', ')', ')', ')', ')', '(', ')', ')', ')', ')', ')', ')', ')', ')', ')', ')', ')', ')', ')', ')', ')', ')', ')', ')', ')']\n",
      "['.start', '(', '(', ')', '(', ')', '(', ')', '(', ')', '(', ')', '(', ')', '(', ')', ')', '(', ')', ')', '(', ')', ')', ')', '(', ')', ')', ')', ')', ')', '(', ')', ')', ')', ')', ')', ')', ')', ')', ')', ')', ')', ')', ')', ')', ')', ')', ')', ')', ')']\n",
      "['.start', '(', '(', ')', '(', ')', '(', ')', '(', ')', '(', ')', '(', ')', '(', ')', ')', '(', ')', ')', '(', ')', ')', ')', '(', ')', ')', ')', ')', ')', '(', ')', ')', ')', ')', ')', ')', ')', ')', ')', ')', ')', ')', ')', ')', ')', ')', ')', ')', ')']\n",
      "['.start', '(', '(', ')', '(', ')', '(', ')', '(', ')', '(', ')', '(', ')', '(', ')', ')', '(', ')', ')', '(', ')', ')', ')', '(', ')', ')', ')', ')', ')', '(', ')', ')', ')', ')', ')', ')', ')', ')', ')', ')', ')', ')', ')', ')', ')', ')', ')', ')', ')']\n",
      "\n",
      "EPOCH 13:\n",
      "['.start', '(', '(', ')', '(', ')', '(', ')', '(', ')', '(', ')', '(', ')', ')', '(', ')', ')', '(', ')', ')', ')', ')', '(', ')', ')', ')', ')', ')', ')', ')', ')', ')', ')', ')', ')', ')', ')', ')', ')', ')', ')', ')', ')', ')', ')', ')', ')', ')', ')']\n",
      "['.start', '(', '(', ')', '(', ')', '(', ')', '(', ')', '(', ')', '(', ')', ')', '(', ')', ')', '(', ')', ')', ')', ')', '(', ')', ')', ')', ')', ')', ')', ')', ')', ')', ')', ')', ')', ')', ')', ')', ')', ')', ')', ')', ')', ')', ')', ')', ')', ')', ')']\n",
      "['.start', '(', '(', ')', '(', ')', '(', ')', '(', ')', '(', ')', '(', ')', ')', '(', ')', ')', '(', ')', ')', ')', ')', '(', ')', ')', ')', ')', ')', ')', ')', ')', ')', ')', ')', ')', ')', ')', ')', ')', ')', ')', ')', ')', ')', ')', ')', ')', ')', ')']\n",
      "['.start', '(', '(', ')', '(', ')', '(', ')', '(', ')', '(', ')', '(', ')', ')', '(', ')', ')', '(', ')', ')', ')', ')', '(', ')', ')', ')', ')', ')', ')', ')', ')', ')', ')', ')', ')', ')', ')', ')', ')', ')', ')', ')', ')', ')', ')', ')', ')', ')', ')']\n",
      "['.start', '(', '(', ')', '(', ')', '(', ')', '(', ')', '(', ')', '(', ')', ')', '(', ')', ')', '(', ')', ')', ')', ')', '(', ')', ')', ')', ')', ')', ')', ')', ')', ')', ')', ')', ')', ')', ')', ')', ')', ')', ')', ')', ')', ')', ')', ')', ')', ')', ')']\n",
      "['.start', '(', '(', ')', '(', ')', '(', ')', '(', ')', '(', ')', '(', ')', ')', '(', ')', ')', '(', ')', ')', ')', ')', '(', ')', ')', ')', ')', ')', ')', ')', ')', ')', ')', ')', ')', ')', ')', ')', ')', ')', ')', ')', ')', ')', ')', ')', ')', ')', ')']\n",
      "['.start', '(', '(', ')', '(', ')', '(', ')', '(', ')', '(', ')', '(', ')', ')', '(', ')', ')', '(', ')', ')', ')', ')', '(', ')', ')', ')', ')', ')', ')', ')', ')', ')', ')', ')', ')', ')', ')', ')', ')', ')', ')', ')', ')', ')', ')', ')', ')', ')', ')']\n",
      "['.start', '(', '(', ')', '(', ')', '(', ')', '(', ')', '(', ')', '(', ')', ')', '(', ')', ')', '(', ')', ')', ')', ')', '(', ')', ')', ')', ')', ')', ')', ')', ')', ')', ')', ')', ')', ')', ')', ')', ')', ')', ')', ')', ')', ')', ')', ')', ')', ')', ')']\n",
      "['.start', '(', '(', ')', '(', ')', '(', ')', '(', ')', '(', ')', '(', ')', ')', '(', ')', ')', '(', ')', ')', ')', ')', '(', ')', ')', ')', ')', ')', ')', ')', ')', ')', ')', ')', ')', ')', ')', ')', ')', ')', ')', ')', ')', ')', ')', ')', ')', ')', ')']\n",
      "['.start', '(', '(', ')', '(', ')', '(', ')', '(', ')', '(', ')', '(', ')', ')', '(', ')', ')', '(', ')', ')', ')', ')', '(', ')', ')', ')', ')', ')', ')', ')', ')', ')', ')', ')', ')', ')', ')', ')', ')', ')', ')', ')', ')', ')', ')', ')', ')', ')', ')']\n",
      "\n",
      "EPOCH 14:\n",
      "['.start', '(', '(', ')', '(', ')', '(', ')', '(', ')', '(', ')', '(', ')', ')', '(', ')', ')', ')', '(', ')', ')', ')', ')', ')', ')', ')', ')', ')', ')', ')', ')', ')', ')', ')', ')', ')', ')', ')', ')', ')', ')', ')', ')', ')', ')', ')', ')', ')', ')']\n",
      "['.start', '(', '(', ')', '(', ')', '(', ')', '(', ')', '(', ')', '(', ')', ')', '(', ')', ')', ')', '(', ')', ')', ')', ')', ')', ')', ')', ')', ')', ')', ')', ')', ')', ')', ')', ')', ')', ')', ')', ')', ')', ')', ')', ')', ')', ')', ')', ')', ')', ')']\n",
      "['.start', '(', '(', ')', '(', ')', '(', ')', '(', ')', '(', ')', '(', ')', ')', '(', ')', ')', ')', '(', ')', ')', ')', ')', ')', ')', ')', ')', ')', ')', ')', ')', ')', ')', ')', ')', ')', ')', ')', ')', ')', ')', ')', ')', ')', ')', ')', ')', ')', ')']\n",
      "['.start', '(', '(', ')', '(', ')', '(', ')', '(', ')', '(', ')', '(', ')', ')', '(', ')', ')', ')', '(', ')', ')', ')', ')', ')', ')', ')', ')', ')', ')', ')', ')', ')', ')', ')', ')', ')', ')', ')', ')', ')', ')', ')', ')', ')', ')', ')', ')', ')', ')']\n",
      "['.start', '(', '(', ')', '(', ')', '(', ')', '(', ')', '(', ')', '(', ')', ')', '(', ')', ')', ')', '(', ')', ')', ')', ')', ')', ')', ')', ')', ')', ')', ')', ')', ')', ')', ')', ')', ')', ')', ')', ')', ')', ')', ')', ')', ')', ')', ')', ')', ')', ')']\n",
      "['.start', '(', '(', ')', '(', ')', '(', ')', '(', ')', '(', ')', '(', ')', ')', '(', ')', ')', ')', '(', ')', ')', ')', ')', ')', ')', ')', ')', ')', ')', ')', ')', ')', ')', ')', ')', ')', ')', ')', ')', ')', ')', ')', ')', ')', ')', ')', ')', ')', ')']\n",
      "['.start', '(', '(', ')', '(', ')', '(', ')', '(', ')', '(', ')', '(', ')', ')', '(', ')', ')', ')', '(', ')', ')', ')', ')', ')', ')', ')', ')', ')', ')', ')', ')', ')', ')', ')', ')', ')', ')', ')', ')', ')', ')', ')', ')', ')', ')', ')', ')', ')', ')']\n",
      "['.start', '(', '(', ')', '(', ')', '(', ')', '(', ')', '(', ')', '(', ')', ')', '(', ')', ')', ')', '(', ')', ')', ')', ')', ')', ')', ')', ')', ')', ')', ')', ')', ')', ')', ')', ')', ')', ')', ')', ')', ')', ')', ')', ')', ')', ')', ')', ')', ')', ')']\n",
      "['.start', '(', '(', ')', '(', ')', '(', ')', '(', ')', '(', ')', '(', ')', ')', '(', ')', ')', ')', '(', ')', ')', ')', ')', ')', ')', ')', ')', ')', ')', ')', ')', ')', ')', ')', ')', ')', ')', ')', ')', ')', ')', ')', ')', ')', ')', ')', ')', ')', ')']\n",
      "['.start', '(', '(', ')', '(', ')', '(', ')', '(', ')', '(', ')', '(', ')', ')', '(', ')', ')', ')', '(', ')', ')', ')', ')', ')', ')', ')', ')', ')', ')', ')', ')', ')', ')', ')', ')', ')', ')', ')', ')', ')', ')', ')', ')', ')', ')', ')', ')', ')', ')']\n",
      "\n",
      "EPOCH 15:\n",
      "['.start', '(', '(', ')', ')', '(', ')', '(', ')', '(', ')', '(', ')', '(', ')', ')', '(', ')', ')', ')', '(', ')', ')', ')', ')', ')', ')', ')', ')', ')', ')', ')', ')', ')', ')', ')', ')', ')', ')', ')', ')', ')', ')', ')', ')', ')', ')', ')', ')', ')']\n",
      "['.start', '(', '(', ')', ')', '(', ')', '(', ')', '(', ')', '(', ')', '(', ')', ')', '(', ')', ')', ')', '(', ')', ')', ')', ')', ')', ')', ')', ')', ')', ')', ')', ')', ')', ')', ')', ')', ')', ')', ')', ')', ')', ')', ')', ')', ')', ')', ')', ')', ')']\n",
      "['.start', '(', '(', ')', ')', '(', ')', '(', ')', '(', ')', '(', ')', '(', ')', ')', '(', ')', ')', ')', '(', ')', ')', ')', ')', ')', ')', ')', ')', ')', ')', ')', ')', ')', ')', ')', ')', ')', ')', ')', ')', ')', ')', ')', ')', ')', ')', ')', ')', ')']\n",
      "['.start', '(', '(', ')', ')', '(', ')', '(', ')', '(', ')', '(', ')', '(', ')', ')', '(', ')', ')', ')', '(', ')', ')', ')', ')', ')', ')', ')', ')', ')', ')', ')', ')', ')', ')', ')', ')', ')', ')', ')', ')', ')', ')', ')', ')', ')', ')', ')', ')', ')']\n",
      "['.start', '(', '(', ')', ')', '(', ')', '(', ')', '(', ')', '(', ')', '(', ')', ')', '(', ')', ')', ')', '(', ')', ')', ')', ')', ')', ')', ')', ')', ')', ')', ')', ')', ')', ')', ')', ')', ')', ')', ')', ')', ')', ')', ')', ')', ')', ')', ')', ')', ')']\n",
      "['.start', '(', '(', ')', ')', '(', ')', '(', ')', '(', ')', '(', ')', '(', ')', ')', '(', ')', ')', ')', '(', ')', ')', ')', ')', ')', ')', ')', ')', ')', ')', ')', ')', ')', ')', ')', ')', ')', ')', ')', ')', ')', ')', ')', ')', ')', ')', ')', ')', ')']\n",
      "['.start', '(', '(', ')', ')', '(', ')', '(', ')', '(', ')', '(', ')', '(', ')', ')', '(', ')', ')', ')', '(', ')', ')', ')', ')', ')', ')', ')', ')', ')', ')', ')', ')', ')', ')', ')', ')', ')', ')', ')', ')', ')', ')', ')', ')', ')', ')', ')', ')', ')']\n",
      "['.start', '(', '(', ')', ')', '(', ')', '(', ')', '(', ')', '(', ')', '(', ')', ')', '(', ')', ')', ')', '(', ')', ')', ')', ')', ')', ')', ')', ')', ')', ')', ')', ')', ')', ')', ')', ')', ')', ')', ')', ')', ')', ')', ')', ')', ')', ')', ')', ')', ')']\n",
      "['.start', '(', '(', ')', ')', '(', ')', '(', ')', '(', ')', '(', ')', '(', ')', ')', '(', ')', ')', ')', '(', ')', ')', ')', ')', ')', ')', ')', ')', ')', ')', ')', ')', ')', ')', ')', ')', ')', ')', ')', ')', ')', ')', ')', ')', ')', ')', ')', ')', ')']\n",
      "['.start', '(', '(', ')', ')', '(', ')', '(', ')', '(', ')', '(', ')', '(', ')', ')', '(', ')', ')', ')', '(', ')', ')', ')', ')', ')', ')', ')', ')', ')', ')', ')', ')', ')', ')', ')', ')', ')', ')', ')', ')', ')', ')', ')', ')', ')', ')', ')', ')', ')']\n",
      "\n",
      "EPOCH 16:\n",
      "['.start', '(', '(', ')', ')', '(', ')', '(', ')', '(', ')', '(', ')', '(', ')', ')', '(', ')', ')', ')', ')', ')', ')', ')', ')', ')', ')', ')', ')', ')', ')', ')', ')', ')', ')', ')', ')', ')', ')', ')', ')', ')', ')', ')', ')', ')', ')', ')', ')', ')']\n",
      "['.start', '(', '(', ')', ')', '(', ')', '(', ')', '(', ')', '(', ')', '(', ')', ')', '(', ')', ')', ')', ')', ')', ')', ')', ')', ')', ')', ')', ')', ')', ')', ')', ')', ')', ')', ')', ')', ')', ')', ')', ')', ')', ')', ')', ')', ')', ')', ')', ')', ')']\n",
      "['.start', '(', '(', ')', ')', '(', ')', '(', ')', '(', ')', '(', ')', '(', ')', ')', '(', ')', ')', ')', ')', ')', ')', ')', ')', ')', ')', ')', ')', ')', ')', ')', ')', ')', ')', ')', ')', ')', ')', ')', ')', ')', ')', ')', ')', ')', ')', ')', ')', ')']\n",
      "['.start', '(', '(', ')', ')', '(', ')', '(', ')', '(', ')', '(', ')', '(', ')', ')', '(', ')', ')', ')', ')', ')', ')', ')', ')', ')', ')', ')', ')', ')', ')', ')', ')', ')', ')', ')', ')', ')', ')', ')', ')', ')', ')', ')', ')', ')', ')', ')', ')', ')']\n",
      "['.start', '(', '(', ')', ')', '(', ')', '(', ')', '(', ')', '(', ')', '(', ')', ')', '(', ')', ')', ')', ')', ')', ')', ')', ')', ')', ')', ')', ')', ')', ')', ')', ')', ')', ')', ')', ')', ')', ')', ')', ')', ')', ')', ')', ')', ')', ')', ')', ')', ')']\n",
      "['.start', '(', '(', ')', ')', '(', ')', '(', ')', '(', ')', '(', ')', '(', ')', ')', '(', ')', ')', ')', ')', ')', ')', ')', ')', ')', ')', ')', ')', ')', ')', ')', ')', ')', ')', ')', ')', ')', ')', ')', ')', ')', ')', ')', ')', ')', ')', ')', ')', ')']\n",
      "['.start', '(', '(', ')', ')', '(', ')', '(', ')', '(', ')', '(', ')', '(', ')', ')', '(', ')', ')', ')', ')', ')', ')', ')', ')', ')', ')', ')', ')', ')', ')', ')', ')', ')', ')', ')', ')', ')', ')', ')', ')', ')', ')', ')', ')', ')', ')', ')', ')', ')']\n",
      "['.start', '(', '(', ')', ')', '(', ')', '(', ')', '(', ')', '(', ')', '(', ')', ')', '(', ')', ')', ')', ')', ')', ')', ')', ')', ')', ')', ')', ')', ')', ')', ')', ')', ')', ')', ')', ')', ')', ')', ')', ')', ')', ')', ')', ')', ')', ')', ')', ')', ')']\n",
      "['.start', '(', '(', ')', ')', '(', ')', '(', ')', '(', ')', '(', ')', '(', ')', ')', '(', ')', ')', ')', ')', ')', ')', ')', ')', ')', ')', ')', ')', ')', ')', ')', ')', ')', ')', ')', ')', ')', ')', ')', ')', ')', ')', ')', ')', ')', ')', ')', ')', ')']\n",
      "['.start', '(', '(', ')', ')', '(', ')', '(', ')', '(', ')', '(', ')', '(', ')', ')', '(', ')', ')', ')', ')', ')', ')', ')', ')', ')', ')', ')', ')', ')', ')', ')', ')', ')', ')', ')', ')', ')', ')', ')', ')', ')', ')', ')', ')', ')', ')', ')', ')', ')']\n",
      "\n",
      "EPOCH 17:\n",
      "['.start', '(', '(', ')', ')', '(', ')', '(', ')', '(', ')', '(', ')', '(', ')', ')', ')', ')', ')', ')', ')', ')', ')', ')', ')', ')', ')', ')', ')', ')', ')', ')', ')', ')', ')', ')', ')', ')', ')', ')', ')', ')', ')', ')', ')', ')', ')', ')', ')', ')']\n",
      "['.start', '(', '(', ')', ')', '(', ')', '(', ')', '(', ')', '(', ')', '(', ')', ')', ')', ')', ')', ')', ')', ')', ')', ')', ')', ')', ')', ')', ')', ')', ')', ')', ')', ')', ')', ')', ')', ')', ')', ')', ')', ')', ')', ')', ')', ')', ')', ')', ')', ')']\n",
      "['.start', '(', '(', ')', ')', '(', ')', '(', ')', '(', ')', '(', ')', '(', ')', ')', ')', ')', ')', ')', ')', ')', ')', ')', ')', ')', ')', ')', ')', ')', ')', ')', ')', ')', ')', ')', ')', ')', ')', ')', ')', ')', ')', ')', ')', ')', ')', ')', ')', ')']\n",
      "['.start', '(', '(', ')', ')', '(', ')', '(', ')', '(', ')', '(', ')', '(', ')', ')', ')', ')', ')', ')', ')', ')', ')', ')', ')', ')', ')', ')', ')', ')', ')', ')', ')', ')', ')', ')', ')', ')', ')', ')', ')', ')', ')', ')', ')', ')', ')', ')', ')', ')']\n",
      "['.start', '(', '(', ')', ')', '(', ')', '(', ')', '(', ')', '(', ')', '(', ')', ')', ')', ')', ')', ')', ')', ')', ')', ')', ')', ')', ')', ')', ')', ')', ')', ')', ')', ')', ')', ')', ')', ')', ')', ')', ')', ')', ')', ')', ')', ')', ')', ')', ')', ')']\n",
      "['.start', '(', '(', ')', ')', '(', ')', '(', ')', '(', ')', '(', ')', '(', ')', ')', ')', ')', ')', ')', ')', ')', ')', ')', ')', ')', ')', ')', ')', ')', ')', ')', ')', ')', ')', ')', ')', ')', ')', ')', ')', ')', ')', ')', ')', ')', ')', ')', ')', ')']\n",
      "['.start', '(', '(', ')', ')', '(', ')', '(', ')', '(', ')', '(', ')', '(', ')', ')', ')', ')', ')', ')', ')', ')', ')', ')', ')', ')', ')', ')', ')', ')', ')', ')', ')', ')', ')', ')', ')', ')', ')', ')', ')', ')', ')', ')', ')', ')', ')', ')', ')', ')']\n",
      "['.start', '(', '(', ')', ')', '(', ')', '(', ')', '(', ')', '(', ')', '(', ')', ')', ')', ')', ')', ')', ')', ')', ')', ')', ')', ')', ')', ')', ')', ')', ')', ')', ')', ')', ')', ')', ')', ')', ')', ')', ')', ')', ')', ')', ')', ')', ')', ')', ')', ')']\n",
      "['.start', '(', '(', ')', ')', '(', ')', '(', ')', '(', ')', '(', ')', '(', ')', ')', ')', ')', ')', ')', ')', ')', ')', ')', ')', ')', ')', ')', ')', ')', ')', ')', ')', ')', ')', ')', ')', ')', ')', ')', ')', ')', ')', ')', ')', ')', ')', ')', ')', ')']\n",
      "['.start', '(', '(', ')', ')', '(', ')', '(', ')', '(', ')', '(', ')', '(', ')', ')', ')', ')', ')', ')', ')', ')', ')', ')', ')', ')', ')', ')', ')', ')', ')', ')', ')', ')', ')', ')', ')', ')', ')', ')', ')', ')', ')', ')', ')', ')', ')', ')', ')', ')']\n",
      "\n",
      "EPOCH 18:\n",
      "['.start', '(', '(', ')', ')', '(', ')', '(', ')', '(', ')', '(', ')', ')', '(', ')', ')', ')', ')', ')', ')', ')', ')', ')', ')', ')', ')', ')', ')', ')', ')', ')', ')', ')', ')', ')', ')', ')', ')', ')', ')', ')', ')', ')', ')', ')', ')', ')', ')', ')']\n",
      "['.start', '(', '(', ')', ')', '(', ')', '(', ')', '(', ')', '(', ')', ')', '(', ')', ')', ')', ')', ')', ')', ')', ')', ')', ')', ')', ')', ')', ')', ')', ')', ')', ')', ')', ')', ')', ')', ')', ')', ')', ')', ')', ')', ')', ')', ')', ')', ')', ')', ')']\n",
      "['.start', '(', '(', ')', ')', '(', ')', '(', ')', '(', ')', '(', ')', ')', '(', ')', ')', ')', ')', ')', ')', ')', ')', ')', ')', ')', ')', ')', ')', ')', ')', ')', ')', ')', ')', ')', ')', ')', ')', ')', ')', ')', ')', ')', ')', ')', ')', ')', ')', ')']\n",
      "['.start', '(', '(', ')', ')', '(', ')', '(', ')', '(', ')', '(', ')', ')', '(', ')', ')', ')', ')', ')', ')', ')', ')', ')', ')', ')', ')', ')', ')', ')', ')', ')', ')', ')', ')', ')', ')', ')', ')', ')', ')', ')', ')', ')', ')', ')', ')', ')', ')', ')']\n",
      "['.start', '(', '(', ')', ')', '(', ')', '(', ')', '(', ')', '(', ')', ')', '(', ')', ')', ')', ')', ')', ')', ')', ')', ')', ')', ')', ')', ')', ')', ')', ')', ')', ')', ')', ')', ')', ')', ')', ')', ')', ')', ')', ')', ')', ')', ')', ')', ')', ')', ')']\n",
      "['.start', '(', '(', ')', ')', '(', ')', '(', ')', '(', ')', '(', ')', ')', '(', ')', ')', ')', ')', ')', ')', ')', ')', ')', ')', ')', ')', ')', ')', ')', ')', ')', ')', ')', ')', ')', ')', ')', ')', ')', ')', ')', ')', ')', ')', ')', ')', ')', ')', ')']\n",
      "['.start', '(', '(', ')', ')', '(', ')', '(', ')', '(', ')', '(', ')', ')', '(', ')', ')', ')', ')', ')', ')', ')', ')', ')', ')', ')', ')', ')', ')', ')', ')', ')', ')', ')', ')', ')', ')', ')', ')', ')', ')', ')', ')', ')', ')', ')', ')', ')', ')', ')']\n",
      "['.start', '(', '(', ')', ')', '(', ')', '(', ')', '(', ')', '(', ')', ')', '(', ')', ')', ')', ')', ')', ')', ')', ')', ')', ')', ')', ')', ')', ')', ')', ')', ')', ')', ')', ')', ')', ')', ')', ')', ')', ')', ')', ')', ')', ')', ')', ')', ')', ')', ')']\n",
      "['.start', '(', '(', ')', ')', '(', ')', '(', ')', '(', ')', '(', ')', ')', '(', ')', ')', ')', ')', ')', ')', ')', ')', ')', ')', ')', ')', ')', ')', ')', ')', ')', ')', ')', ')', ')', ')', ')', ')', ')', ')', ')', ')', ')', ')', ')', ')', ')', ')', ')']\n",
      "['.start', '(', '(', ')', ')', '(', ')', '(', ')', '(', ')', '(', ')', ')', '(', ')', ')', ')', ')', ')', ')', ')', ')', ')', ')', ')', ')', ')', ')', ')', ')', ')', ')', ')', ')', ')', ')', ')', ')', ')', ')', ')', ')', ')', ')', ')', ')', ')', ')', ')']\n",
      "\n",
      "EPOCH 19:\n",
      "['.start', '(', '(', ')', ')', '(', ')', '(', ')', '(', ')', '(', ')', ')', '(', ')', ')', ')', ')', ')', ')', ')', ')', ')', ')', ')', ')', ')', ')', ')', ')', ')', ')', ')', ')', ')', ')', ')', ')', ')', ')', ')', ')', ')', ')', ')', ')', ')', ')', ')']\n",
      "['.start', '(', '(', ')', ')', '(', ')', '(', ')', '(', ')', '(', ')', ')', '(', ')', ')', ')', ')', ')', ')', ')', ')', ')', ')', ')', ')', ')', ')', ')', ')', ')', ')', ')', ')', ')', ')', ')', ')', ')', ')', ')', ')', ')', ')', ')', ')', ')', ')', ')']\n",
      "['.start', '(', '(', ')', ')', '(', ')', '(', ')', '(', ')', '(', ')', ')', '(', ')', ')', ')', ')', ')', ')', ')', ')', ')', ')', ')', ')', ')', ')', ')', ')', ')', ')', ')', ')', ')', ')', ')', ')', ')', ')', ')', ')', ')', ')', ')', ')', ')', ')', ')']\n",
      "['.start', '(', '(', ')', ')', '(', ')', '(', ')', '(', ')', '(', ')', ')', '(', ')', ')', ')', ')', ')', ')', ')', ')', ')', ')', ')', ')', ')', ')', ')', ')', ')', ')', ')', ')', ')', ')', ')', ')', ')', ')', ')', ')', ')', ')', ')', ')', ')', ')', ')']\n",
      "['.start', '(', '(', ')', ')', '(', ')', '(', ')', '(', ')', '(', ')', ')', '(', ')', ')', ')', ')', ')', ')', ')', ')', ')', ')', ')', ')', ')', ')', ')', ')', ')', ')', ')', ')', ')', ')', ')', ')', ')', ')', ')', ')', ')', ')', ')', ')', ')', ')', ')']\n",
      "['.start', '(', '(', ')', ')', '(', ')', '(', ')', '(', ')', '(', ')', ')', '(', ')', ')', ')', ')', ')', ')', ')', ')', ')', ')', ')', ')', ')', ')', ')', ')', ')', ')', ')', ')', ')', ')', ')', ')', ')', ')', ')', ')', ')', ')', ')', ')', ')', ')', ')']\n",
      "['.start', '(', '(', ')', ')', '(', ')', '(', ')', '(', ')', '(', ')', ')', '(', ')', ')', ')', ')', ')', ')', ')', ')', ')', ')', ')', ')', ')', ')', ')', ')', ')', ')', ')', ')', ')', ')', ')', ')', ')', ')', ')', ')', ')', ')', ')', ')', ')', ')', ')']\n",
      "['.start', '(', '(', ')', ')', '(', ')', '(', ')', '(', ')', '(', ')', ')', '(', ')', ')', ')', ')', ')', ')', ')', ')', ')', ')', ')', ')', ')', ')', ')', ')', ')', ')', ')', ')', ')', ')', ')', ')', ')', ')', ')', ')', ')', ')', ')', ')', ')', ')', ')']\n",
      "['.start', '(', '(', ')', ')', '(', ')', '(', ')', '(', ')', '(', ')', ')', '(', ')', ')', ')', ')', ')', ')', ')', ')', ')', ')', ')', ')', ')', ')', ')', ')', ')', ')', ')', ')', ')', ')', ')', ')', ')', ')', ')', ')', ')', ')', ')', ')', ')', ')', ')']\n",
      "['.start', '(', '(', ')', ')', '(', ')', '(', ')', '(', ')', '(', ')', ')', '(', ')', ')', ')', ')', ')', ')', ')', ')', ')', ')', ')', ')', ')', ')', ')', ')', ')', ')', ')', ')', ')', ')', ')', ')', ')', ')', ')', ')', ')', ')', ')', ')', ')', ')', ')']\n",
      "\n",
      "EPOCH 20:\n",
      "['.start', '(', '(', ')', '(', ')', '(', ')', '(', ')', '(', ')', '(', ')', ')', ')', ')', ')', ')', ')', ')', ')', ')', ')', ')', ')', ')', ')', ')', ')', ')', ')', ')', ')', ')', ')', ')', ')', ')', ')', ')', ')', ')', ')', ')', ')', ')', ')', ')', ')']\n",
      "['.start', '(', '(', ')', '(', ')', '(', ')', '(', ')', '(', ')', '(', ')', ')', ')', ')', ')', ')', ')', ')', ')', ')', ')', ')', ')', ')', ')', ')', ')', ')', ')', ')', ')', ')', ')', ')', ')', ')', ')', ')', ')', ')', ')', ')', ')', ')', ')', ')', ')']\n",
      "['.start', '(', '(', ')', '(', ')', '(', ')', '(', ')', '(', ')', '(', ')', ')', ')', ')', ')', ')', ')', ')', ')', ')', ')', ')', ')', ')', ')', ')', ')', ')', ')', ')', ')', ')', ')', ')', ')', ')', ')', ')', ')', ')', ')', ')', ')', ')', ')', ')', ')']\n",
      "['.start', '(', '(', ')', '(', ')', '(', ')', '(', ')', '(', ')', '(', ')', ')', ')', ')', ')', ')', ')', ')', ')', ')', ')', ')', ')', ')', ')', ')', ')', ')', ')', ')', ')', ')', ')', ')', ')', ')', ')', ')', ')', ')', ')', ')', ')', ')', ')', ')', ')']\n",
      "['.start', '(', '(', ')', '(', ')', '(', ')', '(', ')', '(', ')', '(', ')', ')', ')', ')', ')', ')', ')', ')', ')', ')', ')', ')', ')', ')', ')', ')', ')', ')', ')', ')', ')', ')', ')', ')', ')', ')', ')', ')', ')', ')', ')', ')', ')', ')', ')', ')', ')']\n",
      "['.start', '(', '(', ')', '(', ')', '(', ')', '(', ')', '(', ')', '(', ')', ')', ')', ')', ')', ')', ')', ')', ')', ')', ')', ')', ')', ')', ')', ')', ')', ')', ')', ')', ')', ')', ')', ')', ')', ')', ')', ')', ')', ')', ')', ')', ')', ')', ')', ')', ')']\n",
      "['.start', '(', '(', ')', '(', ')', '(', ')', '(', ')', '(', ')', '(', ')', ')', ')', ')', ')', ')', ')', ')', ')', ')', ')', ')', ')', ')', ')', ')', ')', ')', ')', ')', ')', ')', ')', ')', ')', ')', ')', ')', ')', ')', ')', ')', ')', ')', ')', ')', ')']\n",
      "['.start', '(', '(', ')', '(', ')', '(', ')', '(', ')', '(', ')', '(', ')', ')', ')', ')', ')', ')', ')', ')', ')', ')', ')', ')', ')', ')', ')', ')', ')', ')', ')', ')', ')', ')', ')', ')', ')', ')', ')', ')', ')', ')', ')', ')', ')', ')', ')', ')', ')']\n",
      "['.start', '(', '(', ')', '(', ')', '(', ')', '(', ')', '(', ')', '(', ')', ')', ')', ')', ')', ')', ')', ')', ')', ')', ')', ')', ')', ')', ')', ')', ')', ')', ')', ')', ')', ')', ')', ')', ')', ')', ')', ')', ')', ')', ')', ')', ')', ')', ')', ')', ')']\n",
      "['.start', '(', '(', ')', '(', ')', '(', ')', '(', ')', '(', ')', '(', ')', ')', ')', ')', ')', ')', ')', ')', ')', ')', ')', ')', ')', ')', ')', ')', ')', ')', ')', ')', ')', ')', ')', ')', ')', ')', ')', ')', ')', ')', ')', ')', ')', ')', ')', ')', ')']\n",
      "\n",
      "EPOCH 21:\n",
      "['.start', '(', '(', ')', '(', ')', '(', ')', '(', ')', '(', ')', '(', ')', ')', ')', ')', ')', ')', ')', ')', ')', ')', ')', ')', ')', ')', ')', ')', ')', ')', ')', ')', ')', ')', ')', ')', ')', ')', ')', ')', ')', ')', ')', ')', ')', ')', ')', ')', ')']\n",
      "['.start', '(', '(', ')', '(', ')', '(', ')', '(', ')', '(', ')', '(', ')', ')', ')', ')', ')', ')', ')', ')', ')', ')', ')', ')', ')', ')', ')', ')', ')', ')', ')', ')', ')', ')', ')', ')', ')', ')', ')', ')', ')', ')', ')', ')', ')', ')', ')', ')', ')']\n",
      "['.start', '(', '(', ')', '(', ')', '(', ')', '(', ')', '(', ')', '(', ')', ')', ')', ')', ')', ')', ')', ')', ')', ')', ')', ')', ')', ')', ')', ')', ')', ')', ')', ')', ')', ')', ')', ')', ')', ')', ')', ')', ')', ')', ')', ')', ')', ')', ')', ')', ')']\n",
      "['.start', '(', '(', ')', '(', ')', '(', ')', '(', ')', '(', ')', '(', ')', ')', ')', ')', ')', ')', ')', ')', ')', ')', ')', ')', ')', ')', ')', ')', ')', ')', ')', ')', ')', ')', ')', ')', ')', ')', ')', ')', ')', ')', ')', ')', ')', ')', ')', ')', ')']\n",
      "['.start', '(', '(', ')', '(', ')', '(', ')', '(', ')', '(', ')', '(', ')', ')', ')', ')', ')', ')', ')', ')', ')', ')', ')', ')', ')', ')', ')', ')', ')', ')', ')', ')', ')', ')', ')', ')', ')', ')', ')', ')', ')', ')', ')', ')', ')', ')', ')', ')', ')']\n",
      "['.start', '(', '(', ')', '(', ')', '(', ')', '(', ')', '(', ')', '(', ')', ')', ')', ')', ')', ')', ')', ')', ')', ')', ')', ')', ')', ')', ')', ')', ')', ')', ')', ')', ')', ')', ')', ')', ')', ')', ')', ')', ')', ')', ')', ')', ')', ')', ')', ')', ')']\n",
      "['.start', '(', '(', ')', '(', ')', '(', ')', '(', ')', '(', ')', '(', ')', ')', ')', ')', ')', ')', ')', ')', ')', ')', ')', ')', ')', ')', ')', ')', ')', ')', ')', ')', ')', ')', ')', ')', ')', ')', ')', ')', ')', ')', ')', ')', ')', ')', ')', ')', ')']\n",
      "['.start', '(', '(', ')', '(', ')', '(', ')', '(', ')', '(', ')', '(', ')', ')', ')', ')', ')', ')', ')', ')', ')', ')', ')', ')', ')', ')', ')', ')', ')', ')', ')', ')', ')', ')', ')', ')', ')', ')', ')', ')', ')', ')', ')', ')', ')', ')', ')', ')', ')']\n",
      "['.start', '(', '(', ')', '(', ')', '(', ')', '(', ')', '(', ')', '(', ')', ')', ')', ')', ')', ')', ')', ')', ')', ')', ')', ')', ')', ')', ')', ')', ')', ')', ')', ')', ')', ')', ')', ')', ')', ')', ')', ')', ')', ')', ')', ')', ')', ')', ')', ')', ')']\n",
      "['.start', '(', '(', ')', '(', ')', '(', ')', '(', ')', '(', ')', '(', ')', ')', ')', ')', ')', ')', ')', ')', ')', ')', ')', ')', ')', ')', ')', ')', ')', ')', ')', ')', ')', ')', ')', ')', ')', ')', ')', ')', ')', ')', ')', ')', ')', ')', ')', ')', ')']\n",
      "\n",
      "EPOCH 22:\n",
      "['.start', '(', '(', ')', '(', ')', '(', ')', '(', ')', '(', ')', '(', ')', ')', ')', ')', ')', ')', ')', ')', ')', ')', ')', ')', ')', ')', ')', ')', ')', ')', ')', ')', ')', ')', ')', ')', ')', ')', ')', ')', ')', ')', ')', ')', ')', ')', ')', ')', ')']\n",
      "['.start', '(', '(', ')', '(', ')', '(', ')', '(', ')', '(', ')', '(', ')', ')', ')', ')', ')', ')', ')', ')', ')', ')', ')', ')', ')', ')', ')', ')', ')', ')', ')', ')', ')', ')', ')', ')', ')', ')', ')', ')', ')', ')', ')', ')', ')', ')', ')', ')', ')']\n",
      "['.start', '(', '(', ')', '(', ')', '(', ')', '(', ')', '(', ')', '(', ')', ')', ')', ')', ')', ')', ')', ')', ')', ')', ')', ')', ')', ')', ')', ')', ')', ')', ')', ')', ')', ')', ')', ')', ')', ')', ')', ')', ')', ')', ')', ')', ')', ')', ')', ')', ')']\n",
      "['.start', '(', '(', ')', '(', ')', '(', ')', '(', ')', '(', ')', '(', ')', ')', ')', ')', ')', ')', ')', ')', ')', ')', ')', ')', ')', ')', ')', ')', ')', ')', ')', ')', ')', ')', ')', ')', ')', ')', ')', ')', ')', ')', ')', ')', ')', ')', ')', ')', ')']\n",
      "['.start', '(', '(', ')', '(', ')', '(', ')', '(', ')', '(', ')', '(', ')', ')', ')', ')', ')', ')', ')', ')', ')', ')', ')', ')', ')', ')', ')', ')', ')', ')', ')', ')', ')', ')', ')', ')', ')', ')', ')', ')', ')', ')', ')', ')', ')', ')', ')', ')', ')']\n",
      "['.start', '(', '(', ')', '(', ')', '(', ')', '(', ')', '(', ')', '(', ')', ')', ')', ')', ')', ')', ')', ')', ')', ')', ')', ')', ')', ')', ')', ')', ')', ')', ')', ')', ')', ')', ')', ')', ')', ')', ')', ')', ')', ')', ')', ')', ')', ')', ')', ')', ')']\n",
      "['.start', '(', '(', ')', '(', ')', '(', ')', '(', ')', '(', ')', '(', ')', ')', ')', ')', ')', ')', ')', ')', ')', ')', ')', ')', ')', ')', ')', ')', ')', ')', ')', ')', ')', ')', ')', ')', ')', ')', ')', ')', ')', ')', ')', ')', ')', ')', ')', ')', ')']\n",
      "['.start', '(', '(', ')', '(', ')', '(', ')', '(', ')', '(', ')', '(', ')', ')', ')', ')', ')', ')', ')', ')', ')', ')', ')', ')', ')', ')', ')', ')', ')', ')', ')', ')', ')', ')', ')', ')', ')', ')', ')', ')', ')', ')', ')', ')', ')', ')', ')', ')', ')']\n",
      "['.start', '(', '(', ')', '(', ')', '(', ')', '(', ')', '(', ')', '(', ')', ')', ')', ')', ')', ')', ')', ')', ')', ')', ')', ')', ')', ')', ')', ')', ')', ')', ')', ')', ')', ')', ')', ')', ')', ')', ')', ')', ')', ')', ')', ')', ')', ')', ')', ')', ')']\n",
      "['.start', '(', '(', ')', '(', ')', '(', ')', '(', ')', '(', ')', '(', ')', ')', ')', ')', ')', ')', ')', ')', ')', ')', ')', ')', ')', ')', ')', ')', ')', ')', ')', ')', ')', ')', ')', ')', ')', ')', ')', ')', ')', ')', ')', ')', ')', ')', ')', ')', ')']\n",
      "\n",
      "EPOCH 23:\n",
      "['.start', '(', '(', ')', '(', ')', '(', ')', '(', ')', '(', ')', '(', ')', ')', ')', ')', ')', ')', ')', ')', ')', ')', ')', ')', ')', ')', ')', ')', ')', ')', ')', ')', ')', ')', ')', ')', ')', ')', ')', ')', ')', ')', ')', ')', ')', ')', ')', ')', ')']\n",
      "['.start', '(', '(', ')', '(', ')', '(', ')', '(', ')', '(', ')', '(', ')', ')', ')', ')', ')', ')', ')', ')', ')', ')', ')', ')', ')', ')', ')', ')', ')', ')', ')', ')', ')', ')', ')', ')', ')', ')', ')', ')', ')', ')', ')', ')', ')', ')', ')', ')', ')']\n",
      "['.start', '(', '(', ')', '(', ')', '(', ')', '(', ')', '(', ')', '(', ')', ')', ')', ')', ')', ')', ')', ')', ')', ')', ')', ')', ')', ')', ')', ')', ')', ')', ')', ')', ')', ')', ')', ')', ')', ')', ')', ')', ')', ')', ')', ')', ')', ')', ')', ')', ')']\n",
      "['.start', '(', '(', ')', '(', ')', '(', ')', '(', ')', '(', ')', '(', ')', ')', ')', ')', ')', ')', ')', ')', ')', ')', ')', ')', ')', ')', ')', ')', ')', ')', ')', ')', ')', ')', ')', ')', ')', ')', ')', ')', ')', ')', ')', ')', ')', ')', ')', ')', ')']\n",
      "['.start', '(', '(', ')', '(', ')', '(', ')', '(', ')', '(', ')', '(', ')', ')', ')', ')', ')', ')', ')', ')', ')', ')', ')', ')', ')', ')', ')', ')', ')', ')', ')', ')', ')', ')', ')', ')', ')', ')', ')', ')', ')', ')', ')', ')', ')', ')', ')', ')', ')']\n",
      "['.start', '(', '(', ')', '(', ')', '(', ')', '(', ')', '(', ')', '(', ')', ')', ')', ')', ')', ')', ')', ')', ')', ')', ')', ')', ')', ')', ')', ')', ')', ')', ')', ')', ')', ')', ')', ')', ')', ')', ')', ')', ')', ')', ')', ')', ')', ')', ')', ')', ')']\n",
      "['.start', '(', '(', ')', '(', ')', '(', ')', '(', ')', '(', ')', '(', ')', ')', ')', ')', ')', ')', ')', ')', ')', ')', ')', ')', ')', ')', ')', ')', ')', ')', ')', ')', ')', ')', ')', ')', ')', ')', ')', ')', ')', ')', ')', ')', ')', ')', ')', ')', ')']\n",
      "['.start', '(', '(', ')', '(', ')', '(', ')', '(', ')', '(', ')', '(', ')', ')', ')', ')', ')', ')', ')', ')', ')', ')', ')', ')', ')', ')', ')', ')', ')', ')', ')', ')', ')', ')', ')', ')', ')', ')', ')', ')', ')', ')', ')', ')', ')', ')', ')', ')', ')']\n",
      "['.start', '(', '(', ')', '(', ')', '(', ')', '(', ')', '(', ')', '(', ')', ')', ')', ')', ')', ')', ')', ')', ')', ')', ')', ')', ')', ')', ')', ')', ')', ')', ')', ')', ')', ')', ')', ')', ')', ')', ')', ')', ')', ')', ')', ')', ')', ')', ')', ')', ')']\n",
      "['.start', '(', '(', ')', '(', ')', '(', ')', '(', ')', '(', ')', '(', ')', ')', ')', ')', ')', ')', ')', ')', ')', ')', ')', ')', ')', ')', ')', ')', ')', ')', ')', ')', ')', ')', ')', ')', ')', ')', ')', ')', ')', ')', ')', ')', ')', ')', ')', ')', ')']\n",
      "\n",
      "EPOCH 24:\n",
      "['.start', '(', '(', ')', '(', ')', '(', ')', '(', ')', '(', ')', ')', '(', ')', ')', ')', ')', ')', ')', ')', ')', ')', ')', ')', ')', ')', ')', ')', ')', ')', ')', ')', ')', ')', ')', ')', ')', ')', ')', ')', ')', ')', ')', ')', ')', ')', ')', ')', ')']\n",
      "['.start', '(', '(', ')', '(', ')', '(', ')', '(', ')', '(', ')', ')', '(', ')', ')', ')', ')', ')', ')', ')', ')', ')', ')', ')', ')', ')', ')', ')', ')', ')', ')', ')', ')', ')', ')', ')', ')', ')', ')', ')', ')', ')', ')', ')', ')', ')', ')', ')', ')']\n",
      "['.start', '(', '(', ')', '(', ')', '(', ')', '(', ')', '(', ')', ')', '(', ')', ')', ')', ')', ')', ')', ')', ')', ')', ')', ')', ')', ')', ')', ')', ')', ')', ')', ')', ')', ')', ')', ')', ')', ')', ')', ')', ')', ')', ')', ')', ')', ')', ')', ')', ')']\n",
      "['.start', '(', '(', ')', '(', ')', '(', ')', '(', ')', '(', ')', ')', '(', ')', ')', ')', ')', ')', ')', ')', ')', ')', ')', ')', ')', ')', ')', ')', ')', ')', ')', ')', ')', ')', ')', ')', ')', ')', ')', ')', ')', ')', ')', ')', ')', ')', ')', ')', ')']\n",
      "['.start', '(', '(', ')', '(', ')', '(', ')', '(', ')', '(', ')', ')', '(', ')', ')', ')', ')', ')', ')', ')', ')', ')', ')', ')', ')', ')', ')', ')', ')', ')', ')', ')', ')', ')', ')', ')', ')', ')', ')', ')', ')', ')', ')', ')', ')', ')', ')', ')', ')']\n",
      "['.start', '(', '(', ')', '(', ')', '(', ')', '(', ')', '(', ')', ')', '(', ')', ')', ')', ')', ')', ')', ')', ')', ')', ')', ')', ')', ')', ')', ')', ')', ')', ')', ')', ')', ')', ')', ')', ')', ')', ')', ')', ')', ')', ')', ')', ')', ')', ')', ')', ')']\n",
      "['.start', '(', '(', ')', '(', ')', '(', ')', '(', ')', '(', ')', ')', '(', ')', ')', ')', ')', ')', ')', ')', ')', ')', ')', ')', ')', ')', ')', ')', ')', ')', ')', ')', ')', ')', ')', ')', ')', ')', ')', ')', ')', ')', ')', ')', ')', ')', ')', ')', ')']\n",
      "['.start', '(', '(', ')', '(', ')', '(', ')', '(', ')', '(', ')', ')', '(', ')', ')', ')', ')', ')', ')', ')', ')', ')', ')', ')', ')', ')', ')', ')', ')', ')', ')', ')', ')', ')', ')', ')', ')', ')', ')', ')', ')', ')', ')', ')', ')', ')', ')', ')', ')']\n",
      "['.start', '(', '(', ')', '(', ')', '(', ')', '(', ')', '(', ')', ')', '(', ')', ')', ')', ')', ')', ')', ')', ')', ')', ')', ')', ')', ')', ')', ')', ')', ')', ')', ')', ')', ')', ')', ')', ')', ')', ')', ')', ')', ')', ')', ')', ')', ')', ')', ')', ')']\n",
      "['.start', '(', '(', ')', '(', ')', '(', ')', '(', ')', '(', ')', ')', '(', ')', ')', ')', ')', ')', ')', ')', ')', ')', ')', ')', ')', ')', ')', ')', ')', ')', ')', ')', ')', ')', ')', ')', ')', ')', ')', ')', ')', ')', ')', ')', ')', ')', ')', ')', ')']\n",
      "\n",
      "EPOCH 25:\n",
      "['.start', '(', '(', ')', '(', ')', '(', ')', '(', ')', '(', ')', ')', '(', ')', ')', ')', ')', ')', ')', ')', ')', ')', ')', ')', ')', ')', ')', ')', ')', ')', ')', ')', ')', ')', ')', ')', ')', ')', ')', ')', ')', ')', ')', ')', ')', ')', ')', ')', ')']\n",
      "['.start', '(', '(', ')', '(', ')', '(', ')', '(', ')', '(', ')', ')', '(', ')', ')', ')', ')', ')', ')', ')', ')', ')', ')', ')', ')', ')', ')', ')', ')', ')', ')', ')', ')', ')', ')', ')', ')', ')', ')', ')', ')', ')', ')', ')', ')', ')', ')', ')', ')']\n",
      "['.start', '(', '(', ')', '(', ')', '(', ')', '(', ')', '(', ')', ')', '(', ')', ')', ')', ')', ')', ')', ')', ')', ')', ')', ')', ')', ')', ')', ')', ')', ')', ')', ')', ')', ')', ')', ')', ')', ')', ')', ')', ')', ')', ')', ')', ')', ')', ')', ')', ')']\n",
      "['.start', '(', '(', ')', '(', ')', '(', ')', '(', ')', '(', ')', ')', '(', ')', ')', ')', ')', ')', ')', ')', ')', ')', ')', ')', ')', ')', ')', ')', ')', ')', ')', ')', ')', ')', ')', ')', ')', ')', ')', ')', ')', ')', ')', ')', ')', ')', ')', ')', ')']\n",
      "['.start', '(', '(', ')', '(', ')', '(', ')', '(', ')', '(', ')', ')', '(', ')', ')', ')', ')', ')', ')', ')', ')', ')', ')', ')', ')', ')', ')', ')', ')', ')', ')', ')', ')', ')', ')', ')', ')', ')', ')', ')', ')', ')', ')', ')', ')', ')', ')', ')', ')']\n",
      "['.start', '(', '(', ')', '(', ')', '(', ')', '(', ')', '(', ')', ')', '(', ')', ')', ')', ')', ')', ')', ')', ')', ')', ')', ')', ')', ')', ')', ')', ')', ')', ')', ')', ')', ')', ')', ')', ')', ')', ')', ')', ')', ')', ')', ')', ')', ')', ')', ')', ')']\n",
      "['.start', '(', '(', ')', '(', ')', '(', ')', '(', ')', '(', ')', ')', '(', ')', ')', ')', ')', ')', ')', ')', ')', ')', ')', ')', ')', ')', ')', ')', ')', ')', ')', ')', ')', ')', ')', ')', ')', ')', ')', ')', ')', ')', ')', ')', ')', ')', ')', ')', ')']\n",
      "['.start', '(', '(', ')', '(', ')', '(', ')', '(', ')', '(', ')', ')', '(', ')', ')', ')', ')', ')', ')', ')', ')', ')', ')', ')', ')', ')', ')', ')', ')', ')', ')', ')', ')', ')', ')', ')', ')', ')', ')', ')', ')', ')', ')', ')', ')', ')', ')', ')', ')']\n",
      "['.start', '(', '(', ')', '(', ')', '(', ')', '(', ')', '(', ')', ')', '(', ')', ')', ')', ')', ')', ')', ')', ')', ')', ')', ')', ')', ')', ')', ')', ')', ')', ')', ')', ')', ')', ')', ')', ')', ')', ')', ')', ')', ')', ')', ')', ')', ')', ')', ')', ')']\n",
      "['.start', '(', '(', ')', '(', ')', '(', ')', '(', ')', '(', ')', ')', '(', ')', ')', ')', ')', ')', ')', ')', ')', ')', ')', ')', ')', ')', ')', ')', ')', ')', ')', ')', ')', ')', ')', ')', ')', ')', ')', ')', ')', ')', ')', ')', ')', ')', ')', ')', ')']\n",
      "\n",
      "EPOCH 26:\n",
      "['.start', '(', '(', ')', '(', ')', '(', ')', '(', ')', '(', ')', ')', '(', ')', ')', ')', '(', ')', ')', ')', ')', ')', ')', ')', ')', ')', ')', ')', ')', ')', ')', ')', ')', ')', ')', ')', ')', ')', ')', ')', ')', ')', ')', ')', ')', ')', ')', ')', ')']\n",
      "['.start', '(', '(', ')', '(', ')', '(', ')', '(', ')', '(', ')', ')', '(', ')', ')', ')', '(', ')', ')', ')', ')', ')', ')', ')', ')', ')', ')', ')', ')', ')', ')', ')', ')', ')', ')', ')', ')', ')', ')', ')', ')', ')', ')', ')', ')', ')', ')', ')', ')']\n",
      "['.start', '(', '(', ')', '(', ')', '(', ')', '(', ')', '(', ')', ')', '(', ')', ')', ')', '(', ')', ')', ')', ')', ')', ')', ')', ')', ')', ')', ')', ')', ')', ')', ')', ')', ')', ')', ')', ')', ')', ')', ')', ')', ')', ')', ')', ')', ')', ')', ')', ')']\n",
      "['.start', '(', '(', ')', '(', ')', '(', ')', '(', ')', '(', ')', ')', '(', ')', ')', ')', '(', ')', ')', ')', ')', ')', ')', ')', ')', ')', ')', ')', ')', ')', ')', ')', ')', ')', ')', ')', ')', ')', ')', ')', ')', ')', ')', ')', ')', ')', ')', ')', ')']\n",
      "['.start', '(', '(', ')', '(', ')', '(', ')', '(', ')', '(', ')', ')', '(', ')', ')', ')', '(', ')', ')', ')', ')', ')', ')', ')', ')', ')', ')', ')', ')', ')', ')', ')', ')', ')', ')', ')', ')', ')', ')', ')', ')', ')', ')', ')', ')', ')', ')', ')', ')']\n",
      "['.start', '(', '(', ')', '(', ')', '(', ')', '(', ')', '(', ')', ')', '(', ')', ')', ')', '(', ')', ')', ')', ')', ')', ')', ')', ')', ')', ')', ')', ')', ')', ')', ')', ')', ')', ')', ')', ')', ')', ')', ')', ')', ')', ')', ')', ')', ')', ')', ')', ')']\n",
      "['.start', '(', '(', ')', '(', ')', '(', ')', '(', ')', '(', ')', ')', '(', ')', ')', ')', '(', ')', ')', ')', ')', ')', ')', ')', ')', ')', ')', ')', ')', ')', ')', ')', ')', ')', ')', ')', ')', ')', ')', ')', ')', ')', ')', ')', ')', ')', ')', ')', ')']\n",
      "['.start', '(', '(', ')', '(', ')', '(', ')', '(', ')', '(', ')', ')', '(', ')', ')', ')', '(', ')', ')', ')', ')', ')', ')', ')', ')', ')', ')', ')', ')', ')', ')', ')', ')', ')', ')', ')', ')', ')', ')', ')', ')', ')', ')', ')', ')', ')', ')', ')', ')']\n",
      "['.start', '(', '(', ')', '(', ')', '(', ')', '(', ')', '(', ')', ')', '(', ')', ')', ')', '(', ')', ')', ')', ')', ')', ')', ')', ')', ')', ')', ')', ')', ')', ')', ')', ')', ')', ')', ')', ')', ')', ')', ')', ')', ')', ')', ')', ')', ')', ')', ')', ')']\n",
      "['.start', '(', '(', ')', '(', ')', '(', ')', '(', ')', '(', ')', ')', '(', ')', ')', ')', '(', ')', ')', ')', ')', ')', ')', ')', ')', ')', ')', ')', ')', ')', ')', ')', ')', ')', ')', ')', ')', ')', ')', ')', ')', ')', ')', ')', ')', ')', ')', ')', ')']\n",
      "\n",
      "EPOCH 27:\n",
      "['.start', '(', '(', ')', '(', ')', '(', ')', '(', ')', '(', ')', ')', '(', ')', ')', '(', ')', ')', ')', ')', ')', ')', ')', ')', ')', ')', ')', ')', ')', ')', ')', ')', ')', ')', ')', ')', ')', ')', ')', ')', ')', ')', ')', ')', ')', ')', ')', ')', ')']\n",
      "['.start', '(', '(', ')', '(', ')', '(', ')', '(', ')', '(', ')', ')', '(', ')', ')', '(', ')', ')', ')', ')', ')', ')', ')', ')', ')', ')', ')', ')', ')', ')', ')', ')', ')', ')', ')', ')', ')', ')', ')', ')', ')', ')', ')', ')', ')', ')', ')', ')', ')']\n",
      "['.start', '(', '(', ')', '(', ')', '(', ')', '(', ')', '(', ')', ')', '(', ')', ')', '(', ')', ')', ')', ')', ')', ')', ')', ')', ')', ')', ')', ')', ')', ')', ')', ')', ')', ')', ')', ')', ')', ')', ')', ')', ')', ')', ')', ')', ')', ')', ')', ')', ')']\n",
      "['.start', '(', '(', ')', '(', ')', '(', ')', '(', ')', '(', ')', ')', '(', ')', ')', '(', ')', ')', ')', ')', ')', ')', ')', ')', ')', ')', ')', ')', ')', ')', ')', ')', ')', ')', ')', ')', ')', ')', ')', ')', ')', ')', ')', ')', ')', ')', ')', ')', ')']\n",
      "['.start', '(', '(', ')', '(', ')', '(', ')', '(', ')', '(', ')', ')', '(', ')', ')', '(', ')', ')', ')', ')', ')', ')', ')', ')', ')', ')', ')', ')', ')', ')', ')', ')', ')', ')', ')', ')', ')', ')', ')', ')', ')', ')', ')', ')', ')', ')', ')', ')', ')']\n",
      "['.start', '(', '(', ')', '(', ')', '(', ')', '(', ')', '(', ')', ')', '(', ')', ')', '(', ')', ')', ')', ')', ')', ')', ')', ')', ')', ')', ')', ')', ')', ')', ')', ')', ')', ')', ')', ')', ')', ')', ')', ')', ')', ')', ')', ')', ')', ')', ')', ')', ')']\n",
      "['.start', '(', '(', ')', '(', ')', '(', ')', '(', ')', '(', ')', ')', '(', ')', ')', '(', ')', ')', ')', ')', ')', ')', ')', ')', ')', ')', ')', ')', ')', ')', ')', ')', ')', ')', ')', ')', ')', ')', ')', ')', ')', ')', ')', ')', ')', ')', ')', ')', ')']\n",
      "['.start', '(', '(', ')', '(', ')', '(', ')', '(', ')', '(', ')', ')', '(', ')', ')', '(', ')', ')', ')', ')', ')', ')', ')', ')', ')', ')', ')', ')', ')', ')', ')', ')', ')', ')', ')', ')', ')', ')', ')', ')', ')', ')', ')', ')', ')', ')', ')', ')', ')']\n",
      "['.start', '(', '(', ')', '(', ')', '(', ')', '(', ')', '(', ')', ')', '(', ')', ')', '(', ')', ')', ')', ')', ')', ')', ')', ')', ')', ')', ')', ')', ')', ')', ')', ')', ')', ')', ')', ')', ')', ')', ')', ')', ')', ')', ')', ')', ')', ')', ')', ')', ')']\n",
      "['.start', '(', '(', ')', '(', ')', '(', ')', '(', ')', '(', ')', ')', '(', ')', ')', '(', ')', ')', ')', ')', ')', ')', ')', ')', ')', ')', ')', ')', ')', ')', ')', ')', ')', ')', ')', ')', ')', ')', ')', ')', ')', ')', ')', ')', ')', ')', ')', ')', ')']\n",
      "\n",
      "EPOCH 28:\n",
      "['.start', '(', '(', ')', '(', ')', '(', ')', '(', ')', ')', '(', ')', ')', '(', ')', ')', '(', ')', ')', ')', '(', ')', ')', ')', ')', ')', ')', ')', ')', ')', ')', ')', ')', ')', ')', ')', ')', ')', ')', ')', ')', ')', ')', ')', ')', ')', ')', ')', ')']\n",
      "['.start', '(', '(', ')', '(', ')', '(', ')', '(', ')', ')', '(', ')', ')', '(', ')', ')', '(', ')', ')', ')', '(', ')', ')', ')', ')', ')', ')', ')', ')', ')', ')', ')', ')', ')', ')', ')', ')', ')', ')', ')', ')', ')', ')', ')', ')', ')', ')', ')', ')']\n",
      "['.start', '(', '(', ')', '(', ')', '(', ')', '(', ')', ')', '(', ')', ')', '(', ')', ')', '(', ')', ')', ')', '(', ')', ')', ')', ')', ')', ')', ')', ')', ')', ')', ')', ')', ')', ')', ')', ')', ')', ')', ')', ')', ')', ')', ')', ')', ')', ')', ')', ')']\n",
      "['.start', '(', '(', ')', '(', ')', '(', ')', '(', ')', ')', '(', ')', ')', '(', ')', ')', '(', ')', ')', ')', '(', ')', ')', ')', ')', ')', ')', ')', ')', ')', ')', ')', ')', ')', ')', ')', ')', ')', ')', ')', ')', ')', ')', ')', ')', ')', ')', ')', ')']\n",
      "['.start', '(', '(', ')', '(', ')', '(', ')', '(', ')', ')', '(', ')', ')', '(', ')', ')', '(', ')', ')', ')', '(', ')', ')', ')', ')', ')', ')', ')', ')', ')', ')', ')', ')', ')', ')', ')', ')', ')', ')', ')', ')', ')', ')', ')', ')', ')', ')', ')', ')']\n",
      "['.start', '(', '(', ')', '(', ')', '(', ')', '(', ')', ')', '(', ')', ')', '(', ')', ')', '(', ')', ')', ')', '(', ')', ')', ')', ')', ')', ')', ')', ')', ')', ')', ')', ')', ')', ')', ')', ')', ')', ')', ')', ')', ')', ')', ')', ')', ')', ')', ')', ')']\n",
      "['.start', '(', '(', ')', '(', ')', '(', ')', '(', ')', ')', '(', ')', ')', '(', ')', ')', '(', ')', ')', ')', '(', ')', ')', ')', ')', ')', ')', ')', ')', ')', ')', ')', ')', ')', ')', ')', ')', ')', ')', ')', ')', ')', ')', ')', ')', ')', ')', ')', ')']\n",
      "['.start', '(', '(', ')', '(', ')', '(', ')', '(', ')', ')', '(', ')', ')', '(', ')', ')', '(', ')', ')', ')', '(', ')', ')', ')', ')', ')', ')', ')', ')', ')', ')', ')', ')', ')', ')', ')', ')', ')', ')', ')', ')', ')', ')', ')', ')', ')', ')', ')', ')']\n",
      "['.start', '(', '(', ')', '(', ')', '(', ')', '(', ')', ')', '(', ')', ')', '(', ')', ')', '(', ')', ')', ')', '(', ')', ')', ')', ')', ')', ')', ')', ')', ')', ')', ')', ')', ')', ')', ')', ')', ')', ')', ')', ')', ')', ')', ')', ')', ')', ')', ')', ')']\n",
      "['.start', '(', '(', ')', '(', ')', '(', ')', '(', ')', ')', '(', ')', ')', '(', ')', ')', '(', ')', ')', ')', '(', ')', ')', ')', ')', ')', ')', ')', ')', ')', ')', ')', ')', ')', ')', ')', ')', ')', ')', ')', ')', ')', ')', ')', ')', ')', ')', ')', ')']\n",
      "\n",
      "EPOCH 29:\n",
      "['.start', '(', '(', ')', '(', ')', '(', ')', '(', ')', ')', '(', ')', ')', '(', ')', ')', '(', ')', ')', ')', ')', '(', ')', ')', ')', ')', ')', ')', ')', ')', ')', ')', ')', ')', ')', ')', ')', ')', ')', ')', ')', ')', ')', ')', ')', ')', ')', ')', ')']\n",
      "['.start', '(', '(', ')', '(', ')', '(', ')', '(', ')', ')', '(', ')', ')', '(', ')', ')', '(', ')', ')', ')', ')', '(', ')', ')', ')', ')', ')', ')', ')', ')', ')', ')', ')', ')', ')', ')', ')', ')', ')', ')', ')', ')', ')', ')', ')', ')', ')', ')', ')']\n",
      "['.start', '(', '(', ')', '(', ')', '(', ')', '(', ')', ')', '(', ')', ')', '(', ')', ')', '(', ')', ')', ')', ')', '(', ')', ')', ')', ')', ')', ')', ')', ')', ')', ')', ')', ')', ')', ')', ')', ')', ')', ')', ')', ')', ')', ')', ')', ')', ')', ')', ')']\n",
      "['.start', '(', '(', ')', '(', ')', '(', ')', '(', ')', ')', '(', ')', ')', '(', ')', ')', '(', ')', ')', ')', ')', '(', ')', ')', ')', ')', ')', ')', ')', ')', ')', ')', ')', ')', ')', ')', ')', ')', ')', ')', ')', ')', ')', ')', ')', ')', ')', ')', ')']\n",
      "['.start', '(', '(', ')', '(', ')', '(', ')', '(', ')', ')', '(', ')', ')', '(', ')', ')', '(', ')', ')', ')', ')', '(', ')', ')', ')', ')', ')', ')', ')', ')', ')', ')', ')', ')', ')', ')', ')', ')', ')', ')', ')', ')', ')', ')', ')', ')', ')', ')', ')']\n",
      "['.start', '(', '(', ')', '(', ')', '(', ')', '(', ')', ')', '(', ')', ')', '(', ')', ')', '(', ')', ')', ')', ')', '(', ')', ')', ')', ')', ')', ')', ')', ')', ')', ')', ')', ')', ')', ')', ')', ')', ')', ')', ')', ')', ')', ')', ')', ')', ')', ')', ')']\n",
      "['.start', '(', '(', ')', '(', ')', '(', ')', '(', ')', ')', '(', ')', ')', '(', ')', ')', '(', ')', ')', ')', ')', '(', ')', ')', ')', ')', ')', ')', ')', ')', ')', ')', ')', ')', ')', ')', ')', ')', ')', ')', ')', ')', ')', ')', ')', ')', ')', ')', ')']\n",
      "['.start', '(', '(', ')', '(', ')', '(', ')', '(', ')', ')', '(', ')', ')', '(', ')', ')', '(', ')', ')', ')', ')', '(', ')', ')', ')', ')', ')', ')', ')', ')', ')', ')', ')', ')', ')', ')', ')', ')', ')', ')', ')', ')', ')', ')', ')', ')', ')', ')', ')']\n",
      "['.start', '(', '(', ')', '(', ')', '(', ')', '(', ')', ')', '(', ')', ')', '(', ')', ')', '(', ')', ')', ')', ')', '(', ')', ')', ')', ')', ')', ')', ')', ')', ')', ')', ')', ')', ')', ')', ')', ')', ')', ')', ')', ')', ')', ')', ')', ')', ')', ')', ')']\n",
      "['.start', '(', '(', ')', '(', ')', '(', ')', '(', ')', ')', '(', ')', ')', '(', ')', ')', '(', ')', ')', ')', ')', '(', ')', ')', ')', ')', ')', ')', ')', ')', ')', ')', ')', ')', ')', ')', ')', ')', ')', ')', ')', ')', ')', ')', ')', ')', ')', ')', ')']\n",
      "\n",
      "EPOCH 30:\n",
      "['.start', '(', '(', ')', '(', ')', '(', ')', '(', ')', ')', '(', ')', ')', '(', ')', ')', ')', '(', ')', ')', ')', ')', '(', ')', ')', ')', ')', ')', ')', ')', ')', ')', ')', ')', ')', ')', ')', ')', ')', ')', ')', ')', ')', ')', ')', ')', ')', ')', ')']\n",
      "['.start', '(', '(', ')', '(', ')', '(', ')', '(', ')', ')', '(', ')', ')', '(', ')', ')', ')', '(', ')', ')', ')', ')', '(', ')', ')', ')', ')', ')', ')', ')', ')', ')', ')', ')', ')', ')', ')', ')', ')', ')', ')', ')', ')', ')', ')', ')', ')', ')', ')']\n",
      "['.start', '(', '(', ')', '(', ')', '(', ')', '(', ')', ')', '(', ')', ')', '(', ')', ')', ')', '(', ')', ')', ')', ')', '(', ')', ')', ')', ')', ')', ')', ')', ')', ')', ')', ')', ')', ')', ')', ')', ')', ')', ')', ')', ')', ')', ')', ')', ')', ')', ')']\n",
      "['.start', '(', '(', ')', '(', ')', '(', ')', '(', ')', ')', '(', ')', ')', '(', ')', ')', ')', '(', ')', ')', ')', ')', '(', ')', ')', ')', ')', ')', ')', ')', ')', ')', ')', ')', ')', ')', ')', ')', ')', ')', ')', ')', ')', ')', ')', ')', ')', ')', ')']\n",
      "['.start', '(', '(', ')', '(', ')', '(', ')', '(', ')', ')', '(', ')', ')', '(', ')', ')', ')', '(', ')', ')', ')', ')', '(', ')', ')', ')', ')', ')', ')', ')', ')', ')', ')', ')', ')', ')', ')', ')', ')', ')', ')', ')', ')', ')', ')', ')', ')', ')', ')']\n",
      "['.start', '(', '(', ')', '(', ')', '(', ')', '(', ')', ')', '(', ')', ')', '(', ')', ')', ')', '(', ')', ')', ')', ')', '(', ')', ')', ')', ')', ')', ')', ')', ')', ')', ')', ')', ')', ')', ')', ')', ')', ')', ')', ')', ')', ')', ')', ')', ')', ')', ')']\n",
      "['.start', '(', '(', ')', '(', ')', '(', ')', '(', ')', ')', '(', ')', ')', '(', ')', ')', ')', '(', ')', ')', ')', ')', '(', ')', ')', ')', ')', ')', ')', ')', ')', ')', ')', ')', ')', ')', ')', ')', ')', ')', ')', ')', ')', ')', ')', ')', ')', ')', ')']\n",
      "['.start', '(', '(', ')', '(', ')', '(', ')', '(', ')', ')', '(', ')', ')', '(', ')', ')', ')', '(', ')', ')', ')', ')', '(', ')', ')', ')', ')', ')', ')', ')', ')', ')', ')', ')', ')', ')', ')', ')', ')', ')', ')', ')', ')', ')', ')', ')', ')', ')', ')']\n",
      "['.start', '(', '(', ')', '(', ')', '(', ')', '(', ')', ')', '(', ')', ')', '(', ')', ')', ')', '(', ')', ')', ')', ')', '(', ')', ')', ')', ')', ')', ')', ')', ')', ')', ')', ')', ')', ')', ')', ')', ')', ')', ')', ')', ')', ')', ')', ')', ')', ')', ')']\n",
      "['.start', '(', '(', ')', '(', ')', '(', ')', '(', ')', ')', '(', ')', ')', '(', ')', ')', ')', '(', ')', ')', ')', ')', '(', ')', ')', ')', ')', ')', ')', ')', ')', ')', ')', ')', ')', ')', ')', ')', ')', ')', ')', ')', ')', ')', ')', ')', ')', ')', ')']\n",
      "\n",
      "EPOCH 31:\n",
      "['.start', '(', '(', ')', '(', ')', '(', ')', '(', ')', ')', '(', ')', ')', ')', '(', ')', ')', ')', '(', ')', ')', ')', ')', '(', ')', ')', ')', ')', ')', ')', ')', ')', ')', ')', ')', ')', ')', ')', ')', ')', ')', ')', ')', ')', ')', ')', ')', ')', ')']\n",
      "['.start', '(', '(', ')', '(', ')', '(', ')', '(', ')', ')', '(', ')', ')', ')', '(', ')', ')', ')', '(', ')', ')', ')', ')', '(', ')', ')', ')', ')', ')', ')', ')', ')', ')', ')', ')', ')', ')', ')', ')', ')', ')', ')', ')', ')', ')', ')', ')', ')', ')']\n",
      "['.start', '(', '(', ')', '(', ')', '(', ')', '(', ')', ')', '(', ')', ')', ')', '(', ')', ')', ')', '(', ')', ')', ')', ')', '(', ')', ')', ')', ')', ')', ')', ')', ')', ')', ')', ')', ')', ')', ')', ')', ')', ')', ')', ')', ')', ')', ')', ')', ')', ')']\n",
      "['.start', '(', '(', ')', '(', ')', '(', ')', '(', ')', ')', '(', ')', ')', ')', '(', ')', ')', ')', '(', ')', ')', ')', ')', '(', ')', ')', ')', ')', ')', ')', ')', ')', ')', ')', ')', ')', ')', ')', ')', ')', ')', ')', ')', ')', ')', ')', ')', ')', ')']\n",
      "['.start', '(', '(', ')', '(', ')', '(', ')', '(', ')', ')', '(', ')', ')', ')', '(', ')', ')', ')', '(', ')', ')', ')', ')', '(', ')', ')', ')', ')', ')', ')', ')', ')', ')', ')', ')', ')', ')', ')', ')', ')', ')', ')', ')', ')', ')', ')', ')', ')', ')']\n",
      "['.start', '(', '(', ')', '(', ')', '(', ')', '(', ')', ')', '(', ')', ')', ')', '(', ')', ')', ')', '(', ')', ')', ')', ')', '(', ')', ')', ')', ')', ')', ')', ')', ')', ')', ')', ')', ')', ')', ')', ')', ')', ')', ')', ')', ')', ')', ')', ')', ')', ')']\n",
      "['.start', '(', '(', ')', '(', ')', '(', ')', '(', ')', ')', '(', ')', ')', ')', '(', ')', ')', ')', '(', ')', ')', ')', ')', '(', ')', ')', ')', ')', ')', ')', ')', ')', ')', ')', ')', ')', ')', ')', ')', ')', ')', ')', ')', ')', ')', ')', ')', ')', ')']\n",
      "['.start', '(', '(', ')', '(', ')', '(', ')', '(', ')', ')', '(', ')', ')', ')', '(', ')', ')', ')', '(', ')', ')', ')', ')', '(', ')', ')', ')', ')', ')', ')', ')', ')', ')', ')', ')', ')', ')', ')', ')', ')', ')', ')', ')', ')', ')', ')', ')', ')', ')']\n",
      "['.start', '(', '(', ')', '(', ')', '(', ')', '(', ')', ')', '(', ')', ')', ')', '(', ')', ')', ')', '(', ')', ')', ')', ')', '(', ')', ')', ')', ')', ')', ')', ')', ')', ')', ')', ')', ')', ')', ')', ')', ')', ')', ')', ')', ')', ')', ')', ')', ')', ')']\n",
      "['.start', '(', '(', ')', '(', ')', '(', ')', '(', ')', ')', '(', ')', ')', ')', '(', ')', ')', ')', '(', ')', ')', ')', ')', '(', ')', ')', ')', ')', ')', ')', ')', ')', ')', ')', ')', ')', ')', ')', ')', ')', ')', ')', ')', ')', ')', ')', ')', ')', ')']\n",
      "\n",
      "EPOCH 32:\n",
      "['.start', '(', '(', ')', '(', ')', '(', ')', '(', ')', ')', '(', ')', ')', ')', '(', ')', ')', ')', '(', ')', ')', ')', ')', ')', '(', ')', ')', ')', ')', ')', ')', ')', ')', ')', ')', ')', ')', ')', ')', ')', ')', ')', ')', ')', ')', ')', ')', ')', ')']\n",
      "['.start', '(', '(', ')', '(', ')', '(', ')', '(', ')', ')', '(', ')', ')', ')', '(', ')', ')', ')', '(', ')', ')', ')', ')', ')', '(', ')', ')', ')', ')', ')', ')', ')', ')', ')', ')', ')', ')', ')', ')', ')', ')', ')', ')', ')', ')', ')', ')', ')', ')']\n",
      "['.start', '(', '(', ')', '(', ')', '(', ')', '(', ')', ')', '(', ')', ')', ')', '(', ')', ')', ')', '(', ')', ')', ')', ')', ')', '(', ')', ')', ')', ')', ')', ')', ')', ')', ')', ')', ')', ')', ')', ')', ')', ')', ')', ')', ')', ')', ')', ')', ')', ')']\n",
      "['.start', '(', '(', ')', '(', ')', '(', ')', '(', ')', ')', '(', ')', ')', ')', '(', ')', ')', ')', '(', ')', ')', ')', ')', ')', '(', ')', ')', ')', ')', ')', ')', ')', ')', ')', ')', ')', ')', ')', ')', ')', ')', ')', ')', ')', ')', ')', ')', ')', ')']\n",
      "['.start', '(', '(', ')', '(', ')', '(', ')', '(', ')', ')', '(', ')', ')', ')', '(', ')', ')', ')', '(', ')', ')', ')', ')', ')', '(', ')', ')', ')', ')', ')', ')', ')', ')', ')', ')', ')', ')', ')', ')', ')', ')', ')', ')', ')', ')', ')', ')', ')', ')']\n",
      "['.start', '(', '(', ')', '(', ')', '(', ')', '(', ')', ')', '(', ')', ')', ')', '(', ')', ')', ')', '(', ')', ')', ')', ')', ')', '(', ')', ')', ')', ')', ')', ')', ')', ')', ')', ')', ')', ')', ')', ')', ')', ')', ')', ')', ')', ')', ')', ')', ')', ')']\n",
      "['.start', '(', '(', ')', '(', ')', '(', ')', '(', ')', ')', '(', ')', ')', ')', '(', ')', ')', ')', '(', ')', ')', ')', ')', ')', '(', ')', ')', ')', ')', ')', ')', ')', ')', ')', ')', ')', ')', ')', ')', ')', ')', ')', ')', ')', ')', ')', ')', ')', ')']\n",
      "['.start', '(', '(', ')', '(', ')', '(', ')', '(', ')', ')', '(', ')', ')', ')', '(', ')', ')', ')', '(', ')', ')', ')', ')', ')', '(', ')', ')', ')', ')', ')', ')', ')', ')', ')', ')', ')', ')', ')', ')', ')', ')', ')', ')', ')', ')', ')', ')', ')', ')']\n",
      "['.start', '(', '(', ')', '(', ')', '(', ')', '(', ')', ')', '(', ')', ')', ')', '(', ')', ')', ')', '(', ')', ')', ')', ')', ')', '(', ')', ')', ')', ')', ')', ')', ')', ')', ')', ')', ')', ')', ')', ')', ')', ')', ')', ')', ')', ')', ')', ')', ')', ')']\n",
      "['.start', '(', '(', ')', '(', ')', '(', ')', '(', ')', ')', '(', ')', ')', ')', '(', ')', ')', ')', '(', ')', ')', ')', ')', ')', '(', ')', ')', ')', ')', ')', ')', ')', ')', ')', ')', ')', ')', ')', ')', ')', ')', ')', ')', ')', ')', ')', ')', ')', ')']\n",
      "\n",
      "EPOCH 33:\n",
      "['.start', '(', '(', ')', '(', ')', '(', ')', '(', ')', '(', ')', ')', ')', '(', ')', ')', ')', '(', ')', ')', ')', ')', '(', ')', ')', ')', ')', ')', ')', ')', '(', ')', ')', ')', ')', ')', ')', ')', ')', ')', ')', ')', ')', ')', ')', ')', ')', ')', ')']\n",
      "['.start', '(', '(', ')', '(', ')', '(', ')', '(', ')', '(', ')', ')', ')', '(', ')', ')', ')', '(', ')', ')', ')', ')', '(', ')', ')', ')', ')', ')', ')', ')', '(', ')', ')', ')', ')', ')', ')', ')', ')', ')', ')', ')', ')', ')', ')', ')', ')', ')', ')']\n",
      "['.start', '(', '(', ')', '(', ')', '(', ')', '(', ')', '(', ')', ')', ')', '(', ')', ')', ')', '(', ')', ')', ')', ')', '(', ')', ')', ')', ')', ')', ')', ')', '(', ')', ')', ')', ')', ')', ')', ')', ')', ')', ')', ')', ')', ')', ')', ')', ')', ')', ')']\n",
      "['.start', '(', '(', ')', '(', ')', '(', ')', '(', ')', '(', ')', ')', ')', '(', ')', ')', ')', '(', ')', ')', ')', ')', '(', ')', ')', ')', ')', ')', ')', ')', '(', ')', ')', ')', ')', ')', ')', ')', ')', ')', ')', ')', ')', ')', ')', ')', ')', ')', ')']\n",
      "['.start', '(', '(', ')', '(', ')', '(', ')', '(', ')', '(', ')', ')', ')', '(', ')', ')', ')', '(', ')', ')', ')', ')', '(', ')', ')', ')', ')', ')', ')', ')', '(', ')', ')', ')', ')', ')', ')', ')', ')', ')', ')', ')', ')', ')', ')', ')', ')', ')', ')']\n",
      "['.start', '(', '(', ')', '(', ')', '(', ')', '(', ')', '(', ')', ')', ')', '(', ')', ')', ')', '(', ')', ')', ')', ')', '(', ')', ')', ')', ')', ')', ')', ')', '(', ')', ')', ')', ')', ')', ')', ')', ')', ')', ')', ')', ')', ')', ')', ')', ')', ')', ')']\n",
      "['.start', '(', '(', ')', '(', ')', '(', ')', '(', ')', '(', ')', ')', ')', '(', ')', ')', ')', '(', ')', ')', ')', ')', '(', ')', ')', ')', ')', ')', ')', ')', '(', ')', ')', ')', ')', ')', ')', ')', ')', ')', ')', ')', ')', ')', ')', ')', ')', ')', ')']\n",
      "['.start', '(', '(', ')', '(', ')', '(', ')', '(', ')', '(', ')', ')', ')', '(', ')', ')', ')', '(', ')', ')', ')', ')', '(', ')', ')', ')', ')', ')', ')', ')', '(', ')', ')', ')', ')', ')', ')', ')', ')', ')', ')', ')', ')', ')', ')', ')', ')', ')', ')']\n",
      "['.start', '(', '(', ')', '(', ')', '(', ')', '(', ')', '(', ')', ')', ')', '(', ')', ')', ')', '(', ')', ')', ')', ')', '(', ')', ')', ')', ')', ')', ')', ')', '(', ')', ')', ')', ')', ')', ')', ')', ')', ')', ')', ')', ')', ')', ')', ')', ')', ')', ')']\n",
      "['.start', '(', '(', ')', '(', ')', '(', ')', '(', ')', '(', ')', ')', ')', '(', ')', ')', ')', '(', ')', ')', ')', ')', '(', ')', ')', ')', ')', ')', ')', ')', '(', ')', ')', ')', ')', ')', ')', ')', ')', ')', ')', ')', ')', ')', ')', ')', ')', ')', ')']\n",
      "\n",
      "EPOCH 34:\n",
      "['.start', '(', '(', ')', '(', '(', ')', '(', ')', '(', ')', '(', ')', ')', ')', '(', ')', ')', ')', '(', ')', ')', ')', ')', '(', ')', ')', ')', ')', ')', '(', ')', ')', ')', ')', ')', ')', '(', ')', ')', ')', ')', ')', ')', ')', ')', ')', '(', ')', ')']\n",
      "['.start', '(', '(', ')', '(', '(', ')', '(', ')', '(', ')', '(', ')', ')', ')', '(', ')', ')', ')', '(', ')', ')', ')', ')', '(', ')', ')', ')', ')', ')', '(', ')', ')', ')', ')', ')', ')', '(', ')', ')', ')', ')', ')', ')', ')', ')', ')', '(', ')', ')']\n",
      "['.start', '(', '(', ')', '(', '(', ')', '(', ')', '(', ')', '(', ')', ')', ')', '(', ')', ')', ')', '(', ')', ')', ')', ')', '(', ')', ')', ')', ')', ')', '(', ')', ')', ')', ')', ')', ')', '(', ')', ')', ')', ')', ')', ')', ')', ')', ')', '(', ')', ')']\n",
      "['.start', '(', '(', ')', '(', '(', ')', '(', ')', '(', ')', '(', ')', ')', ')', '(', ')', ')', ')', '(', ')', ')', ')', ')', '(', ')', ')', ')', ')', ')', '(', ')', ')', ')', ')', ')', ')', '(', ')', ')', ')', ')', ')', ')', ')', ')', ')', '(', ')', ')']\n",
      "['.start', '(', '(', ')', '(', '(', ')', '(', ')', '(', ')', '(', ')', ')', ')', '(', ')', ')', ')', '(', ')', ')', ')', ')', '(', ')', ')', ')', ')', ')', '(', ')', ')', ')', ')', ')', ')', '(', ')', ')', ')', ')', ')', ')', ')', ')', ')', '(', ')', ')']\n",
      "['.start', '(', '(', ')', '(', '(', ')', '(', ')', '(', ')', '(', ')', ')', ')', '(', ')', ')', ')', '(', ')', ')', ')', ')', '(', ')', ')', ')', ')', ')', '(', ')', ')', ')', ')', ')', ')', '(', ')', ')', ')', ')', ')', ')', ')', ')', ')', '(', ')', ')']\n",
      "['.start', '(', '(', ')', '(', '(', ')', '(', ')', '(', ')', '(', ')', ')', ')', '(', ')', ')', ')', '(', ')', ')', ')', ')', '(', ')', ')', ')', ')', ')', '(', ')', ')', ')', ')', ')', ')', '(', ')', ')', ')', ')', ')', ')', ')', ')', ')', '(', ')', ')']\n",
      "['.start', '(', '(', ')', '(', '(', ')', '(', ')', '(', ')', '(', ')', ')', ')', '(', ')', ')', ')', '(', ')', ')', ')', ')', '(', ')', ')', ')', ')', ')', '(', ')', ')', ')', ')', ')', ')', '(', ')', ')', ')', ')', ')', ')', ')', ')', ')', '(', ')', ')']\n",
      "['.start', '(', '(', ')', '(', '(', ')', '(', ')', '(', ')', '(', ')', ')', ')', '(', ')', ')', ')', '(', ')', ')', ')', ')', '(', ')', ')', ')', ')', ')', '(', ')', ')', ')', ')', ')', ')', '(', ')', ')', ')', ')', ')', ')', ')', ')', ')', '(', ')', ')']\n",
      "['.start', '(', '(', ')', '(', '(', ')', '(', ')', '(', ')', '(', ')', ')', ')', '(', ')', ')', ')', '(', ')', ')', ')', ')', '(', ')', ')', ')', ')', ')', '(', ')', ')', ')', ')', ')', ')', '(', ')', ')', ')', ')', ')', ')', ')', ')', ')', '(', ')', ')']\n",
      "\n",
      "EPOCH 35:\n",
      "['.start', '(', '(', ')', '(', '(', ')', '(', ')', '(', ')', '(', ')', ')', ')', '(', ')', ')', ')', ')', '(', ')', ')', ')', ')', '(', ')', ')', ')', ')', ')', '(', ')', ')', ')', ')', ')', ')', ')', ')', '(', ')', ')', ')', ')', ')', ')', ')', ')', ')']\n",
      "['.start', '(', '(', ')', '(', '(', ')', '(', ')', '(', ')', '(', ')', ')', ')', '(', ')', ')', ')', ')', '(', ')', ')', ')', ')', '(', ')', ')', ')', ')', ')', '(', ')', ')', ')', ')', ')', ')', ')', ')', '(', ')', ')', ')', ')', ')', ')', ')', ')', ')']\n",
      "['.start', '(', '(', ')', '(', '(', ')', '(', ')', '(', ')', '(', ')', ')', ')', '(', ')', ')', ')', ')', '(', ')', ')', ')', ')', '(', ')', ')', ')', ')', ')', '(', ')', ')', ')', ')', ')', ')', ')', ')', '(', ')', ')', ')', ')', ')', ')', ')', ')', ')']\n",
      "['.start', '(', '(', ')', '(', '(', ')', '(', ')', '(', ')', '(', ')', ')', ')', '(', ')', ')', ')', ')', '(', ')', ')', ')', ')', '(', ')', ')', ')', ')', ')', '(', ')', ')', ')', ')', ')', ')', ')', ')', '(', ')', ')', ')', ')', ')', ')', ')', ')', ')']\n",
      "['.start', '(', '(', ')', '(', '(', ')', '(', ')', '(', ')', '(', ')', ')', ')', '(', ')', ')', ')', ')', '(', ')', ')', ')', ')', '(', ')', ')', ')', ')', ')', '(', ')', ')', ')', ')', ')', ')', ')', ')', '(', ')', ')', ')', ')', ')', ')', ')', ')', ')']\n",
      "['.start', '(', '(', ')', '(', '(', ')', '(', ')', '(', ')', '(', ')', ')', ')', '(', ')', ')', ')', ')', '(', ')', ')', ')', ')', '(', ')', ')', ')', ')', ')', '(', ')', ')', ')', ')', ')', ')', ')', ')', '(', ')', ')', ')', ')', ')', ')', ')', ')', ')']\n",
      "['.start', '(', '(', ')', '(', '(', ')', '(', ')', '(', ')', '(', ')', ')', ')', '(', ')', ')', ')', ')', '(', ')', ')', ')', ')', '(', ')', ')', ')', ')', ')', '(', ')', ')', ')', ')', ')', ')', ')', ')', '(', ')', ')', ')', ')', ')', ')', ')', ')', ')']\n",
      "['.start', '(', '(', ')', '(', '(', ')', '(', ')', '(', ')', '(', ')', ')', ')', '(', ')', ')', ')', ')', '(', ')', ')', ')', ')', '(', ')', ')', ')', ')', ')', '(', ')', ')', ')', ')', ')', ')', ')', ')', '(', ')', ')', ')', ')', ')', ')', ')', ')', ')']\n",
      "['.start', '(', '(', ')', '(', '(', ')', '(', ')', '(', ')', '(', ')', ')', ')', '(', ')', ')', ')', ')', '(', ')', ')', ')', ')', '(', ')', ')', ')', ')', ')', '(', ')', ')', ')', ')', ')', ')', ')', ')', '(', ')', ')', ')', ')', ')', ')', ')', ')', ')']\n",
      "['.start', '(', '(', ')', '(', '(', ')', '(', ')', '(', ')', '(', ')', ')', ')', '(', ')', ')', ')', ')', '(', ')', ')', ')', ')', '(', ')', ')', ')', ')', ')', '(', ')', ')', ')', ')', ')', ')', ')', ')', '(', ')', ')', ')', ')', ')', ')', ')', ')', ')']\n",
      "\n",
      "EPOCH 36:\n",
      "['.start', '(', '(', ')', '(', '(', ')', '(', '(', ')', '(', ')', ')', '(', ')', ')', ')', '(', ')', ')', ')', ')', '(', ')', ')', ')', ')', ')', ')', ')', ')', ')', ')', ')', ')', ')', ')', ')', ')', ')', ')', ')', ')', ')', ')', ')', ')', ')', ')', ')']\n",
      "['.start', '(', '(', ')', '(', '(', ')', '(', '(', ')', '(', ')', ')', '(', ')', ')', ')', '(', ')', ')', ')', ')', '(', ')', ')', ')', ')', ')', ')', ')', ')', ')', ')', ')', ')', ')', ')', ')', ')', ')', ')', ')', ')', ')', ')', ')', ')', ')', ')', ')']\n",
      "['.start', '(', '(', ')', '(', '(', ')', '(', '(', ')', '(', ')', ')', '(', ')', ')', ')', '(', ')', ')', ')', ')', '(', ')', ')', ')', ')', ')', ')', ')', ')', ')', ')', ')', ')', ')', ')', ')', ')', ')', ')', ')', ')', ')', ')', ')', ')', ')', ')', ')']\n",
      "['.start', '(', '(', ')', '(', '(', ')', '(', '(', ')', '(', ')', ')', '(', ')', ')', ')', '(', ')', ')', ')', ')', '(', ')', ')', ')', ')', ')', ')', ')', ')', ')', ')', ')', ')', ')', ')', ')', ')', ')', ')', ')', ')', ')', ')', ')', ')', ')', ')', ')']\n",
      "['.start', '(', '(', ')', '(', '(', ')', '(', '(', ')', '(', ')', ')', '(', ')', ')', ')', '(', ')', ')', ')', ')', '(', ')', ')', ')', ')', ')', ')', ')', ')', ')', ')', ')', ')', ')', ')', ')', ')', ')', ')', ')', ')', ')', ')', ')', ')', ')', ')', ')']\n",
      "['.start', '(', '(', ')', '(', '(', ')', '(', '(', ')', '(', ')', ')', '(', ')', ')', ')', '(', ')', ')', ')', ')', '(', ')', ')', ')', ')', ')', ')', ')', ')', ')', ')', ')', ')', ')', ')', ')', ')', ')', ')', ')', ')', ')', ')', ')', ')', ')', ')', ')']\n",
      "['.start', '(', '(', ')', '(', '(', ')', '(', '(', ')', '(', ')', ')', '(', ')', ')', ')', '(', ')', ')', ')', ')', '(', ')', ')', ')', ')', ')', ')', ')', ')', ')', ')', ')', ')', ')', ')', ')', ')', ')', ')', ')', ')', ')', ')', ')', ')', ')', ')', ')']\n",
      "['.start', '(', '(', ')', '(', '(', ')', '(', '(', ')', '(', ')', ')', '(', ')', ')', ')', '(', ')', ')', ')', ')', '(', ')', ')', ')', ')', ')', ')', ')', ')', ')', ')', ')', ')', ')', ')', ')', ')', ')', ')', ')', ')', ')', ')', ')', ')', ')', ')', ')']\n",
      "['.start', '(', '(', ')', '(', '(', ')', '(', '(', ')', '(', ')', ')', '(', ')', ')', ')', '(', ')', ')', ')', ')', '(', ')', ')', ')', ')', ')', ')', ')', ')', ')', ')', ')', ')', ')', ')', ')', ')', ')', ')', ')', ')', ')', ')', ')', ')', ')', ')', ')']\n",
      "['.start', '(', '(', ')', '(', '(', ')', '(', '(', ')', '(', ')', ')', '(', ')', ')', ')', '(', ')', ')', ')', ')', '(', ')', ')', ')', ')', ')', ')', ')', ')', ')', ')', ')', ')', ')', ')', ')', ')', ')', ')', ')', ')', ')', ')', ')', ')', ')', ')', ')']\n",
      "\n",
      "EPOCH 37:\n",
      "['.start', '(', '(', ')', '(', '(', ')', '(', '(', ')', '(', ')', ')', '(', ')', ')', ')', '(', ')', ')', ')', ')', '(', ')', ')', ')', ')', ')', ')', '(', ')', ')', ')', ')', ')', ')', ')', ')', ')', ')', ')', ')', ')', ')', ')', ')', ')', ')', ')', ')']\n",
      "['.start', '(', '(', ')', '(', '(', ')', '(', '(', ')', '(', ')', ')', '(', ')', ')', ')', '(', ')', ')', ')', ')', '(', ')', ')', ')', ')', ')', ')', '(', ')', ')', ')', ')', ')', ')', ')', ')', ')', ')', ')', ')', ')', ')', ')', ')', ')', ')', ')', ')']\n",
      "['.start', '(', '(', ')', '(', '(', ')', '(', '(', ')', '(', ')', ')', '(', ')', ')', ')', '(', ')', ')', ')', ')', '(', ')', ')', ')', ')', ')', ')', '(', ')', ')', ')', ')', ')', ')', ')', ')', ')', ')', ')', ')', ')', ')', ')', ')', ')', ')', ')', ')']\n",
      "['.start', '(', '(', ')', '(', '(', ')', '(', '(', ')', '(', ')', ')', '(', ')', ')', ')', '(', ')', ')', ')', ')', '(', ')', ')', ')', ')', ')', ')', '(', ')', ')', ')', ')', ')', ')', ')', ')', ')', ')', ')', ')', ')', ')', ')', ')', ')', ')', ')', ')']\n",
      "['.start', '(', '(', ')', '(', '(', ')', '(', '(', ')', '(', ')', ')', '(', ')', ')', ')', '(', ')', ')', ')', ')', '(', ')', ')', ')', ')', ')', ')', '(', ')', ')', ')', ')', ')', ')', ')', ')', ')', ')', ')', ')', ')', ')', ')', ')', ')', ')', ')', ')']\n",
      "['.start', '(', '(', ')', '(', '(', ')', '(', '(', ')', '(', ')', ')', '(', ')', ')', ')', '(', ')', ')', ')', ')', '(', ')', ')', ')', ')', ')', ')', '(', ')', ')', ')', ')', ')', ')', ')', ')', ')', ')', ')', ')', ')', ')', ')', ')', ')', ')', ')', ')']\n",
      "['.start', '(', '(', ')', '(', '(', ')', '(', '(', ')', '(', ')', ')', '(', ')', ')', ')', '(', ')', ')', ')', ')', '(', ')', ')', ')', ')', ')', ')', '(', ')', ')', ')', ')', ')', ')', ')', ')', ')', ')', ')', ')', ')', ')', ')', ')', ')', ')', ')', ')']\n",
      "['.start', '(', '(', ')', '(', '(', ')', '(', '(', ')', '(', ')', ')', '(', ')', ')', ')', '(', ')', ')', ')', ')', '(', ')', ')', ')', ')', ')', ')', '(', ')', ')', ')', ')', ')', ')', ')', ')', ')', ')', ')', ')', ')', ')', ')', ')', ')', ')', ')', ')']\n",
      "['.start', '(', '(', ')', '(', '(', ')', '(', '(', ')', '(', ')', ')', '(', ')', ')', ')', '(', ')', ')', ')', ')', '(', ')', ')', ')', ')', ')', ')', '(', ')', ')', ')', ')', ')', ')', ')', ')', ')', ')', ')', ')', ')', ')', ')', ')', ')', ')', ')', ')']\n",
      "['.start', '(', '(', ')', '(', '(', ')', '(', '(', ')', '(', ')', ')', '(', ')', ')', ')', '(', ')', ')', ')', ')', '(', ')', ')', ')', ')', ')', ')', '(', ')', ')', ')', ')', ')', ')', ')', ')', ')', ')', ')', ')', ')', ')', ')', ')', ')', ')', ')', ')']\n",
      "\n",
      "EPOCH 38:\n",
      "['.start', '(', '(', ')', '(', '(', ')', '(', ')', '(', ')', '(', ')', '(', ')', ')', ')', ')', '(', ')', ')', ')', '(', ')', ')', ')', ')', '(', ')', ')', ')', ')', ')', ')', ')', ')', ')', ')', ')', ')', ')', ')', ')', ')', ')', ')', ')', ')', ')', ')']\n",
      "['.start', '(', '(', ')', '(', '(', ')', '(', ')', '(', ')', '(', ')', '(', ')', ')', ')', ')', '(', ')', ')', ')', '(', ')', ')', ')', ')', '(', ')', ')', ')', ')', ')', ')', ')', ')', ')', ')', ')', ')', ')', ')', ')', ')', ')', ')', ')', ')', ')', ')']\n",
      "['.start', '(', '(', ')', '(', '(', ')', '(', ')', '(', ')', '(', ')', '(', ')', ')', ')', ')', '(', ')', ')', ')', '(', ')', ')', ')', ')', '(', ')', ')', ')', ')', ')', ')', ')', ')', ')', ')', ')', ')', ')', ')', ')', ')', ')', ')', ')', ')', ')', ')']\n",
      "['.start', '(', '(', ')', '(', '(', ')', '(', ')', '(', ')', '(', ')', '(', ')', ')', ')', ')', '(', ')', ')', ')', '(', ')', ')', ')', ')', '(', ')', ')', ')', ')', ')', ')', ')', ')', ')', ')', ')', ')', ')', ')', ')', ')', ')', ')', ')', ')', ')', ')']\n",
      "['.start', '(', '(', ')', '(', '(', ')', '(', ')', '(', ')', '(', ')', '(', ')', ')', ')', ')', '(', ')', ')', ')', '(', ')', ')', ')', ')', '(', ')', ')', ')', ')', ')', ')', ')', ')', ')', ')', ')', ')', ')', ')', ')', ')', ')', ')', ')', ')', ')', ')']\n",
      "['.start', '(', '(', ')', '(', '(', ')', '(', ')', '(', ')', '(', ')', '(', ')', ')', ')', ')', '(', ')', ')', ')', '(', ')', ')', ')', ')', '(', ')', ')', ')', ')', ')', ')', ')', ')', ')', ')', ')', ')', ')', ')', ')', ')', ')', ')', ')', ')', ')', ')']\n",
      "['.start', '(', '(', ')', '(', '(', ')', '(', ')', '(', ')', '(', ')', '(', ')', ')', ')', ')', '(', ')', ')', ')', '(', ')', ')', ')', ')', '(', ')', ')', ')', ')', ')', ')', ')', ')', ')', ')', ')', ')', ')', ')', ')', ')', ')', ')', ')', ')', ')', ')']\n",
      "['.start', '(', '(', ')', '(', '(', ')', '(', ')', '(', ')', '(', ')', '(', ')', ')', ')', ')', '(', ')', ')', ')', '(', ')', ')', ')', ')', '(', ')', ')', ')', ')', ')', ')', ')', ')', ')', ')', ')', ')', ')', ')', ')', ')', ')', ')', ')', ')', ')', ')']\n",
      "['.start', '(', '(', ')', '(', '(', ')', '(', ')', '(', ')', '(', ')', '(', ')', ')', ')', ')', '(', ')', ')', ')', '(', ')', ')', ')', ')', '(', ')', ')', ')', ')', ')', ')', ')', ')', ')', ')', ')', ')', ')', ')', ')', ')', ')', ')', ')', ')', ')', ')']\n",
      "['.start', '(', '(', ')', '(', '(', ')', '(', ')', '(', ')', '(', ')', '(', ')', ')', ')', ')', '(', ')', ')', ')', '(', ')', ')', ')', ')', '(', ')', ')', ')', ')', ')', ')', ')', ')', ')', ')', ')', ')', ')', ')', ')', ')', ')', ')', ')', ')', ')', ')']\n",
      "\n",
      "EPOCH 39:\n",
      "['.start', '(', '(', ')', '(', '(', ')', '(', ')', '(', ')', '(', ')', '(', ')', ')', '(', ')', ')', ')', ')', '(', ')', ')', ')', ')', ')', '(', ')', ')', ')', ')', ')', ')', ')', ')', ')', ')', ')', ')', ')', ')', ')', ')', ')', ')', ')', ')', ')', ')']\n",
      "['.start', '(', '(', ')', '(', '(', ')', '(', ')', '(', ')', '(', ')', '(', ')', ')', '(', ')', ')', ')', ')', '(', ')', ')', ')', ')', ')', '(', ')', ')', ')', ')', ')', ')', ')', ')', ')', ')', ')', ')', ')', ')', ')', ')', ')', ')', ')', ')', ')', ')']\n",
      "['.start', '(', '(', ')', '(', '(', ')', '(', ')', '(', ')', '(', ')', '(', ')', ')', '(', ')', ')', ')', ')', '(', ')', ')', ')', ')', ')', '(', ')', ')', ')', ')', ')', ')', ')', ')', ')', ')', ')', ')', ')', ')', ')', ')', ')', ')', ')', ')', ')', ')']\n",
      "['.start', '(', '(', ')', '(', '(', ')', '(', ')', '(', ')', '(', ')', '(', ')', ')', '(', ')', ')', ')', ')', '(', ')', ')', ')', ')', ')', '(', ')', ')', ')', ')', ')', ')', ')', ')', ')', ')', ')', ')', ')', ')', ')', ')', ')', ')', ')', ')', ')', ')']\n",
      "['.start', '(', '(', ')', '(', '(', ')', '(', ')', '(', ')', '(', ')', '(', ')', ')', '(', ')', ')', ')', ')', '(', ')', ')', ')', ')', ')', '(', ')', ')', ')', ')', ')', ')', ')', ')', ')', ')', ')', ')', ')', ')', ')', ')', ')', ')', ')', ')', ')', ')']\n",
      "['.start', '(', '(', ')', '(', '(', ')', '(', ')', '(', ')', '(', ')', '(', ')', ')', '(', ')', ')', ')', ')', '(', ')', ')', ')', ')', ')', '(', ')', ')', ')', ')', ')', ')', ')', ')', ')', ')', ')', ')', ')', ')', ')', ')', ')', ')', ')', ')', ')', ')']\n",
      "['.start', '(', '(', ')', '(', '(', ')', '(', ')', '(', ')', '(', ')', '(', ')', ')', '(', ')', ')', ')', ')', '(', ')', ')', ')', ')', ')', '(', ')', ')', ')', ')', ')', ')', ')', ')', ')', ')', ')', ')', ')', ')', ')', ')', ')', ')', ')', ')', ')', ')']\n",
      "['.start', '(', '(', ')', '(', '(', ')', '(', ')', '(', ')', '(', ')', '(', ')', ')', '(', ')', ')', ')', ')', '(', ')', ')', ')', ')', ')', '(', ')', ')', ')', ')', ')', ')', ')', ')', ')', ')', ')', ')', ')', ')', ')', ')', ')', ')', ')', ')', ')', ')']\n",
      "['.start', '(', '(', ')', '(', '(', ')', '(', ')', '(', ')', '(', ')', '(', ')', ')', '(', ')', ')', ')', ')', '(', ')', ')', ')', ')', ')', '(', ')', ')', ')', ')', ')', ')', ')', ')', ')', ')', ')', ')', ')', ')', ')', ')', ')', ')', ')', ')', ')', ')']\n",
      "['.start', '(', '(', ')', '(', '(', ')', '(', ')', '(', ')', '(', ')', '(', ')', ')', '(', ')', ')', ')', ')', '(', ')', ')', ')', ')', ')', '(', ')', ')', ')', ')', ')', ')', ')', ')', ')', ')', ')', ')', ')', ')', ')', ')', ')', ')', ')', ')', ')', ')']\n",
      "\n",
      "EPOCH 40:\n",
      "['.start', '(', '(', ')', '(', ')', '(', ')', '(', ')', '(', ')', '(', ')', ')', '(', ')', ')', ')', '(', ')', ')', ')', ')', ')', '(', ')', ')', ')', ')', ')', ')', ')', '(', ')', ')', ')', ')', ')', ')', ')', ')', ')', ')', ')', ')', ')', ')', ')', ')']\n",
      "['.start', '(', '(', ')', '(', ')', '(', ')', '(', ')', '(', ')', '(', ')', ')', '(', ')', ')', ')', '(', ')', ')', ')', ')', ')', '(', ')', ')', ')', ')', ')', ')', ')', '(', ')', ')', ')', ')', ')', ')', ')', ')', ')', ')', ')', ')', ')', ')', ')', ')']\n",
      "['.start', '(', '(', ')', '(', ')', '(', ')', '(', ')', '(', ')', '(', ')', ')', '(', ')', ')', ')', '(', ')', ')', ')', ')', ')', '(', ')', ')', ')', ')', ')', ')', ')', '(', ')', ')', ')', ')', ')', ')', ')', ')', ')', ')', ')', ')', ')', ')', ')', ')']\n",
      "['.start', '(', '(', ')', '(', ')', '(', ')', '(', ')', '(', ')', '(', ')', ')', '(', ')', ')', ')', '(', ')', ')', ')', ')', ')', '(', ')', ')', ')', ')', ')', ')', ')', '(', ')', ')', ')', ')', ')', ')', ')', ')', ')', ')', ')', ')', ')', ')', ')', ')']\n",
      "['.start', '(', '(', ')', '(', ')', '(', ')', '(', ')', '(', ')', '(', ')', ')', '(', ')', ')', ')', '(', ')', ')', ')', ')', ')', '(', ')', ')', ')', ')', ')', ')', ')', '(', ')', ')', ')', ')', ')', ')', ')', ')', ')', ')', ')', ')', ')', ')', ')', ')']\n",
      "['.start', '(', '(', ')', '(', ')', '(', ')', '(', ')', '(', ')', '(', ')', ')', '(', ')', ')', ')', '(', ')', ')', ')', ')', ')', '(', ')', ')', ')', ')', ')', ')', ')', '(', ')', ')', ')', ')', ')', ')', ')', ')', ')', ')', ')', ')', ')', ')', ')', ')']\n",
      "['.start', '(', '(', ')', '(', ')', '(', ')', '(', ')', '(', ')', '(', ')', ')', '(', ')', ')', ')', '(', ')', ')', ')', ')', ')', '(', ')', ')', ')', ')', ')', ')', ')', '(', ')', ')', ')', ')', ')', ')', ')', ')', ')', ')', ')', ')', ')', ')', ')', ')']\n",
      "['.start', '(', '(', ')', '(', ')', '(', ')', '(', ')', '(', ')', '(', ')', ')', '(', ')', ')', ')', '(', ')', ')', ')', ')', ')', '(', ')', ')', ')', ')', ')', ')', ')', '(', ')', ')', ')', ')', ')', ')', ')', ')', ')', ')', ')', ')', ')', ')', ')', ')']\n",
      "['.start', '(', '(', ')', '(', ')', '(', ')', '(', ')', '(', ')', '(', ')', ')', '(', ')', ')', ')', '(', ')', ')', ')', ')', ')', '(', ')', ')', ')', ')', ')', ')', ')', '(', ')', ')', ')', ')', ')', ')', ')', ')', ')', ')', ')', ')', ')', ')', ')', ')']\n",
      "['.start', '(', '(', ')', '(', ')', '(', ')', '(', ')', '(', ')', '(', ')', ')', '(', ')', ')', ')', '(', ')', ')', ')', ')', ')', '(', ')', ')', ')', ')', ')', ')', ')', '(', ')', ')', ')', ')', ')', ')', ')', ')', ')', ')', ')', ')', ')', ')', ')', ')']\n",
      "\n",
      "EPOCH 41:\n",
      "['.start', '(', '(', ')', '(', ')', '(', ')', '(', ')', '(', ')', '(', ')', ')', '(', ')', ')', ')', ')', ')', ')', ')', ')', ')', ')', ')', ')', ')', ')', ')', ')', ')', ')', ')', ')', ')', ')', ')', ')', ')', ')', ')', ')', ')', ')', ')', ')', ')', ')']\n",
      "['.start', '(', '(', ')', '(', ')', '(', ')', '(', ')', '(', ')', '(', ')', ')', '(', ')', ')', ')', ')', ')', ')', ')', ')', ')', ')', ')', ')', ')', ')', ')', ')', ')', ')', ')', ')', ')', ')', ')', ')', ')', ')', ')', ')', ')', ')', ')', ')', ')', ')']\n",
      "['.start', '(', '(', ')', '(', ')', '(', ')', '(', ')', '(', ')', '(', ')', ')', '(', ')', ')', ')', ')', ')', ')', ')', ')', ')', ')', ')', ')', ')', ')', ')', ')', ')', ')', ')', ')', ')', ')', ')', ')', ')', ')', ')', ')', ')', ')', ')', ')', ')', ')']\n",
      "['.start', '(', '(', ')', '(', ')', '(', ')', '(', ')', '(', ')', '(', ')', ')', '(', ')', ')', ')', ')', ')', ')', ')', ')', ')', ')', ')', ')', ')', ')', ')', ')', ')', ')', ')', ')', ')', ')', ')', ')', ')', ')', ')', ')', ')', ')', ')', ')', ')', ')']\n",
      "['.start', '(', '(', ')', '(', ')', '(', ')', '(', ')', '(', ')', '(', ')', ')', '(', ')', ')', ')', ')', ')', ')', ')', ')', ')', ')', ')', ')', ')', ')', ')', ')', ')', ')', ')', ')', ')', ')', ')', ')', ')', ')', ')', ')', ')', ')', ')', ')', ')', ')']\n",
      "['.start', '(', '(', ')', '(', ')', '(', ')', '(', ')', '(', ')', '(', ')', ')', '(', ')', ')', ')', ')', ')', ')', ')', ')', ')', ')', ')', ')', ')', ')', ')', ')', ')', ')', ')', ')', ')', ')', ')', ')', ')', ')', ')', ')', ')', ')', ')', ')', ')', ')']\n",
      "['.start', '(', '(', ')', '(', ')', '(', ')', '(', ')', '(', ')', '(', ')', ')', '(', ')', ')', ')', ')', ')', ')', ')', ')', ')', ')', ')', ')', ')', ')', ')', ')', ')', ')', ')', ')', ')', ')', ')', ')', ')', ')', ')', ')', ')', ')', ')', ')', ')', ')']\n",
      "['.start', '(', '(', ')', '(', ')', '(', ')', '(', ')', '(', ')', '(', ')', ')', '(', ')', ')', ')', ')', ')', ')', ')', ')', ')', ')', ')', ')', ')', ')', ')', ')', ')', ')', ')', ')', ')', ')', ')', ')', ')', ')', ')', ')', ')', ')', ')', ')', ')', ')']\n",
      "['.start', '(', '(', ')', '(', ')', '(', ')', '(', ')', '(', ')', '(', ')', ')', '(', ')', ')', ')', ')', ')', ')', ')', ')', ')', ')', ')', ')', ')', ')', ')', ')', ')', ')', ')', ')', ')', ')', ')', ')', ')', ')', ')', ')', ')', ')', ')', ')', ')', ')']\n",
      "['.start', '(', '(', ')', '(', ')', '(', ')', '(', ')', '(', ')', '(', ')', ')', '(', ')', ')', ')', ')', ')', ')', ')', ')', ')', ')', ')', ')', ')', ')', ')', ')', ')', ')', ')', ')', ')', ')', ')', ')', ')', ')', ')', ')', ')', ')', ')', ')', ')', ')']\n",
      "\n",
      "EPOCH 42:\n",
      "['.start', '(', '(', ')', '(', ')', '(', ')', '(', ')', '(', ')', ')', '(', ')', ')', ')', '(', ')', ')', ')', ')', ')', ')', ')', ')', ')', ')', ')', ')', ')', ')', ')', ')', ')', ')', ')', ')', ')', ')', ')', ')', ')', ')', ')', ')', ')', ')', ')', ')']\n",
      "['.start', '(', '(', ')', '(', ')', '(', ')', '(', ')', '(', ')', ')', '(', ')', ')', ')', '(', ')', ')', ')', ')', ')', ')', ')', ')', ')', ')', ')', ')', ')', ')', ')', ')', ')', ')', ')', ')', ')', ')', ')', ')', ')', ')', ')', ')', ')', ')', ')', ')']\n",
      "['.start', '(', '(', ')', '(', ')', '(', ')', '(', ')', '(', ')', ')', '(', ')', ')', ')', '(', ')', ')', ')', ')', ')', ')', ')', ')', ')', ')', ')', ')', ')', ')', ')', ')', ')', ')', ')', ')', ')', ')', ')', ')', ')', ')', ')', ')', ')', ')', ')', ')']\n",
      "['.start', '(', '(', ')', '(', ')', '(', ')', '(', ')', '(', ')', ')', '(', ')', ')', ')', '(', ')', ')', ')', ')', ')', ')', ')', ')', ')', ')', ')', ')', ')', ')', ')', ')', ')', ')', ')', ')', ')', ')', ')', ')', ')', ')', ')', ')', ')', ')', ')', ')']\n",
      "['.start', '(', '(', ')', '(', ')', '(', ')', '(', ')', '(', ')', ')', '(', ')', ')', ')', '(', ')', ')', ')', ')', ')', ')', ')', ')', ')', ')', ')', ')', ')', ')', ')', ')', ')', ')', ')', ')', ')', ')', ')', ')', ')', ')', ')', ')', ')', ')', ')', ')']\n",
      "['.start', '(', '(', ')', '(', ')', '(', ')', '(', ')', '(', ')', ')', '(', ')', ')', ')', '(', ')', ')', ')', ')', ')', ')', ')', ')', ')', ')', ')', ')', ')', ')', ')', ')', ')', ')', ')', ')', ')', ')', ')', ')', ')', ')', ')', ')', ')', ')', ')', ')']\n",
      "['.start', '(', '(', ')', '(', ')', '(', ')', '(', ')', '(', ')', ')', '(', ')', ')', ')', '(', ')', ')', ')', ')', ')', ')', ')', ')', ')', ')', ')', ')', ')', ')', ')', ')', ')', ')', ')', ')', ')', ')', ')', ')', ')', ')', ')', ')', ')', ')', ')', ')']\n",
      "['.start', '(', '(', ')', '(', ')', '(', ')', '(', ')', '(', ')', ')', '(', ')', ')', ')', '(', ')', ')', ')', ')', ')', ')', ')', ')', ')', ')', ')', ')', ')', ')', ')', ')', ')', ')', ')', ')', ')', ')', ')', ')', ')', ')', ')', ')', ')', ')', ')', ')']\n",
      "['.start', '(', '(', ')', '(', ')', '(', ')', '(', ')', '(', ')', ')', '(', ')', ')', ')', '(', ')', ')', ')', ')', ')', ')', ')', ')', ')', ')', ')', ')', ')', ')', ')', ')', ')', ')', ')', ')', ')', ')', ')', ')', ')', ')', ')', ')', ')', ')', ')', ')']\n",
      "['.start', '(', '(', ')', '(', ')', '(', ')', '(', ')', '(', ')', ')', '(', ')', ')', ')', '(', ')', ')', ')', ')', ')', ')', ')', ')', ')', ')', ')', ')', ')', ')', ')', ')', ')', ')', ')', ')', ')', ')', ')', ')', ')', ')', ')', ')', ')', ')', ')', ')']\n",
      "\n",
      "EPOCH 43:\n",
      "['.start', '(', '(', ')', '(', '(', ')', '(', ')', '(', ')', ')', '(', ')', '(', ')', ')', ')', '(', ')', ')', ')', '(', ')', ')', ')', '(', ')', ')', ')', ')', '(', ')', ')', ')', ')', ')', ')', ')', '(', ')', ')', ')', ')', ')', ')', ')', ')', ')', ')']\n",
      "['.start', '(', '(', ')', '(', '(', ')', '(', ')', '(', ')', ')', '(', ')', '(', ')', ')', ')', '(', ')', ')', ')', '(', ')', ')', ')', '(', ')', ')', ')', ')', '(', ')', ')', ')', ')', ')', ')', ')', '(', ')', ')', ')', ')', ')', ')', ')', ')', ')', ')']\n",
      "['.start', '(', '(', ')', '(', '(', ')', '(', ')', '(', ')', ')', '(', ')', '(', ')', ')', ')', '(', ')', ')', ')', '(', ')', ')', ')', '(', ')', ')', ')', ')', '(', ')', ')', ')', ')', ')', ')', ')', '(', ')', ')', ')', ')', ')', ')', ')', ')', ')', ')']\n",
      "['.start', '(', '(', ')', '(', '(', ')', '(', ')', '(', ')', ')', '(', ')', '(', ')', ')', ')', '(', ')', ')', ')', '(', ')', ')', ')', '(', ')', ')', ')', ')', '(', ')', ')', ')', ')', ')', ')', ')', '(', ')', ')', ')', ')', ')', ')', ')', ')', ')', ')']\n",
      "['.start', '(', '(', ')', '(', '(', ')', '(', ')', '(', ')', ')', '(', ')', '(', ')', ')', ')', '(', ')', ')', ')', '(', ')', ')', ')', '(', ')', ')', ')', ')', '(', ')', ')', ')', ')', ')', ')', ')', '(', ')', ')', ')', ')', ')', ')', ')', ')', ')', ')']\n",
      "['.start', '(', '(', ')', '(', '(', ')', '(', ')', '(', ')', ')', '(', ')', '(', ')', ')', ')', '(', ')', ')', ')', '(', ')', ')', ')', '(', ')', ')', ')', ')', '(', ')', ')', ')', ')', ')', ')', ')', '(', ')', ')', ')', ')', ')', ')', ')', ')', ')', ')']\n",
      "['.start', '(', '(', ')', '(', '(', ')', '(', ')', '(', ')', ')', '(', ')', '(', ')', ')', ')', '(', ')', ')', ')', '(', ')', ')', ')', '(', ')', ')', ')', ')', '(', ')', ')', ')', ')', ')', ')', ')', '(', ')', ')', ')', ')', ')', ')', ')', ')', ')', ')']\n",
      "['.start', '(', '(', ')', '(', '(', ')', '(', ')', '(', ')', ')', '(', ')', '(', ')', ')', ')', '(', ')', ')', ')', '(', ')', ')', ')', '(', ')', ')', ')', ')', '(', ')', ')', ')', ')', ')', ')', ')', '(', ')', ')', ')', ')', ')', ')', ')', ')', ')', ')']\n",
      "['.start', '(', '(', ')', '(', '(', ')', '(', ')', '(', ')', ')', '(', ')', '(', ')', ')', ')', '(', ')', ')', ')', '(', ')', ')', ')', '(', ')', ')', ')', ')', '(', ')', ')', ')', ')', ')', ')', ')', '(', ')', ')', ')', ')', ')', ')', ')', ')', ')', ')']\n",
      "['.start', '(', '(', ')', '(', '(', ')', '(', ')', '(', ')', ')', '(', ')', '(', ')', ')', ')', '(', ')', ')', ')', '(', ')', ')', ')', '(', ')', ')', ')', ')', '(', ')', ')', ')', ')', ')', ')', ')', '(', ')', ')', ')', ')', ')', ')', ')', ')', ')', ')']\n",
      "\n",
      "EPOCH 44:\n",
      "['.start', '(', '(', ')', '(', '(', ')', '(', ')', '(', ')', '(', ')', ')', '(', ')', ')', '(', ')', ')', ')', '(', ')', ')', ')', '(', ')', ')', ')', '(', ')', ')', '(', ')', ')', ')', '(', ')', ')', ')', '(', ')', ')', ')', '(', ')', ')', ')', '(', ')']\n",
      "['.start', '(', '(', ')', '(', '(', ')', '(', ')', '(', ')', '(', ')', ')', '(', ')', ')', '(', ')', ')', ')', '(', ')', ')', ')', '(', ')', ')', ')', '(', ')', ')', '(', ')', ')', ')', '(', ')', ')', ')', '(', ')', ')', ')', '(', ')', ')', ')', '(', ')']\n",
      "['.start', '(', '(', ')', '(', '(', ')', '(', ')', '(', ')', '(', ')', ')', '(', ')', ')', '(', ')', ')', ')', '(', ')', ')', ')', '(', ')', ')', ')', '(', ')', ')', '(', ')', ')', ')', '(', ')', ')', ')', '(', ')', ')', ')', '(', ')', ')', ')', '(', ')']\n",
      "['.start', '(', '(', ')', '(', '(', ')', '(', ')', '(', ')', '(', ')', ')', '(', ')', ')', '(', ')', ')', ')', '(', ')', ')', ')', '(', ')', ')', ')', '(', ')', ')', '(', ')', ')', ')', '(', ')', ')', ')', '(', ')', ')', ')', '(', ')', ')', ')', '(', ')']\n",
      "['.start', '(', '(', ')', '(', '(', ')', '(', ')', '(', ')', '(', ')', ')', '(', ')', ')', '(', ')', ')', ')', '(', ')', ')', ')', '(', ')', ')', ')', '(', ')', ')', '(', ')', ')', ')', '(', ')', ')', ')', '(', ')', ')', ')', '(', ')', ')', ')', '(', ')']\n",
      "['.start', '(', '(', ')', '(', '(', ')', '(', ')', '(', ')', '(', ')', ')', '(', ')', ')', '(', ')', ')', ')', '(', ')', ')', ')', '(', ')', ')', ')', '(', ')', ')', '(', ')', ')', ')', '(', ')', ')', ')', '(', ')', ')', ')', '(', ')', ')', ')', '(', ')']\n",
      "['.start', '(', '(', ')', '(', '(', ')', '(', ')', '(', ')', '(', ')', ')', '(', ')', ')', '(', ')', ')', ')', '(', ')', ')', ')', '(', ')', ')', ')', '(', ')', ')', '(', ')', ')', ')', '(', ')', ')', ')', '(', ')', ')', ')', '(', ')', ')', ')', '(', ')']\n",
      "['.start', '(', '(', ')', '(', '(', ')', '(', ')', '(', ')', '(', ')', ')', '(', ')', ')', '(', ')', ')', ')', '(', ')', ')', ')', '(', ')', ')', ')', '(', ')', ')', '(', ')', ')', ')', '(', ')', ')', ')', '(', ')', ')', ')', '(', ')', ')', ')', '(', ')']\n",
      "['.start', '(', '(', ')', '(', '(', ')', '(', ')', '(', ')', '(', ')', ')', '(', ')', ')', '(', ')', ')', ')', '(', ')', ')', ')', '(', ')', ')', ')', '(', ')', ')', '(', ')', ')', ')', '(', ')', ')', ')', '(', ')', ')', ')', '(', ')', ')', ')', '(', ')']\n",
      "['.start', '(', '(', ')', '(', '(', ')', '(', ')', '(', ')', '(', ')', ')', '(', ')', ')', '(', ')', ')', ')', '(', ')', ')', ')', '(', ')', ')', ')', '(', ')', ')', '(', ')', ')', ')', '(', ')', ')', ')', '(', ')', ')', ')', '(', ')', ')', ')', '(', ')']\n",
      "\n",
      "EPOCH 45:\n",
      "['.start', '(', '(', ')', '(', '(', ')', '(', ')', '(', ')', '(', ')', ')', '(', ')', ')', '(', ')', ')', ')', '(', ')', ')', '(', ')', ')', '(', ')', ')', ')', '(', ')', ')', ')', '(', ')', ')', '(', ')', ')', ')', ')', '(', ')', ')', ')', '(', ')', ')']\n",
      "['.start', '(', '(', ')', '(', '(', ')', '(', ')', '(', ')', '(', ')', ')', '(', ')', ')', '(', ')', ')', ')', '(', ')', ')', '(', ')', ')', '(', ')', ')', ')', '(', ')', ')', ')', '(', ')', ')', '(', ')', ')', ')', ')', '(', ')', ')', ')', '(', ')', ')']\n",
      "['.start', '(', '(', ')', '(', '(', ')', '(', ')', '(', ')', '(', ')', ')', '(', ')', ')', '(', ')', ')', ')', '(', ')', ')', '(', ')', ')', '(', ')', ')', ')', '(', ')', ')', ')', '(', ')', ')', '(', ')', ')', ')', ')', '(', ')', ')', ')', '(', ')', ')']\n",
      "['.start', '(', '(', ')', '(', '(', ')', '(', ')', '(', ')', '(', ')', ')', '(', ')', ')', '(', ')', ')', ')', '(', ')', ')', '(', ')', ')', '(', ')', ')', ')', '(', ')', ')', ')', '(', ')', ')', '(', ')', ')', ')', ')', '(', ')', ')', ')', '(', ')', ')']\n",
      "['.start', '(', '(', ')', '(', '(', ')', '(', ')', '(', ')', '(', ')', ')', '(', ')', ')', '(', ')', ')', ')', '(', ')', ')', '(', ')', ')', '(', ')', ')', ')', '(', ')', ')', ')', '(', ')', ')', '(', ')', ')', ')', ')', '(', ')', ')', ')', '(', ')', ')']\n",
      "['.start', '(', '(', ')', '(', '(', ')', '(', ')', '(', ')', '(', ')', ')', '(', ')', ')', '(', ')', ')', ')', '(', ')', ')', '(', ')', ')', '(', ')', ')', ')', '(', ')', ')', ')', '(', ')', ')', '(', ')', ')', ')', ')', '(', ')', ')', ')', '(', ')', ')']\n",
      "['.start', '(', '(', ')', '(', '(', ')', '(', ')', '(', ')', '(', ')', ')', '(', ')', ')', '(', ')', ')', ')', '(', ')', ')', '(', ')', ')', '(', ')', ')', ')', '(', ')', ')', ')', '(', ')', ')', '(', ')', ')', ')', ')', '(', ')', ')', ')', '(', ')', ')']\n",
      "['.start', '(', '(', ')', '(', '(', ')', '(', ')', '(', ')', '(', ')', ')', '(', ')', ')', '(', ')', ')', ')', '(', ')', ')', '(', ')', ')', '(', ')', ')', ')', '(', ')', ')', ')', '(', ')', ')', '(', ')', ')', ')', ')', '(', ')', ')', ')', '(', ')', ')']\n",
      "['.start', '(', '(', ')', '(', '(', ')', '(', ')', '(', ')', '(', ')', ')', '(', ')', ')', '(', ')', ')', ')', '(', ')', ')', '(', ')', ')', '(', ')', ')', ')', '(', ')', ')', ')', '(', ')', ')', '(', ')', ')', ')', ')', '(', ')', ')', ')', '(', ')', ')']\n",
      "['.start', '(', '(', ')', '(', '(', ')', '(', ')', '(', ')', '(', ')', ')', '(', ')', ')', '(', ')', ')', ')', '(', ')', ')', '(', ')', ')', '(', ')', ')', ')', '(', ')', ')', ')', '(', ')', ')', '(', ')', ')', ')', ')', '(', ')', ')', ')', '(', ')', ')']\n",
      "\n",
      "EPOCH 46:\n",
      "['.start', '(', '(', ')', '(', '(', ')', '(', ')', '(', ')', '(', ')', ')', '(', ')', '(', ')', ')', ')', '(', ')', ')', ')', '(', ')', ')', ')', '(', ')', ')', ')', ')', '(', ')', ')', ')', '(', ')', ')', ')', '(', ')', ')', '(', ')', ')', ')', '(', ')']\n",
      "['.start', '(', '(', ')', '(', '(', ')', '(', ')', '(', ')', '(', ')', ')', '(', ')', '(', ')', ')', ')', '(', ')', ')', ')', '(', ')', ')', ')', '(', ')', ')', ')', ')', '(', ')', ')', ')', '(', ')', ')', ')', '(', ')', ')', '(', ')', ')', ')', '(', ')']\n",
      "['.start', '(', '(', ')', '(', '(', ')', '(', ')', '(', ')', '(', ')', ')', '(', ')', '(', ')', ')', ')', '(', ')', ')', ')', '(', ')', ')', ')', '(', ')', ')', ')', ')', '(', ')', ')', ')', '(', ')', ')', ')', '(', ')', ')', '(', ')', ')', ')', '(', ')']\n",
      "['.start', '(', '(', ')', '(', '(', ')', '(', ')', '(', ')', '(', ')', ')', '(', ')', '(', ')', ')', ')', '(', ')', ')', ')', '(', ')', ')', ')', '(', ')', ')', ')', ')', '(', ')', ')', ')', '(', ')', ')', ')', '(', ')', ')', '(', ')', ')', ')', '(', ')']\n",
      "['.start', '(', '(', ')', '(', '(', ')', '(', ')', '(', ')', '(', ')', ')', '(', ')', '(', ')', ')', ')', '(', ')', ')', ')', '(', ')', ')', ')', '(', ')', ')', ')', ')', '(', ')', ')', ')', '(', ')', ')', ')', '(', ')', ')', '(', ')', ')', ')', '(', ')']\n",
      "['.start', '(', '(', ')', '(', '(', ')', '(', ')', '(', ')', '(', ')', ')', '(', ')', '(', ')', ')', ')', '(', ')', ')', ')', '(', ')', ')', ')', '(', ')', ')', ')', ')', '(', ')', ')', ')', '(', ')', ')', ')', '(', ')', ')', '(', ')', ')', ')', '(', ')']\n",
      "['.start', '(', '(', ')', '(', '(', ')', '(', ')', '(', ')', '(', ')', ')', '(', ')', '(', ')', ')', ')', '(', ')', ')', ')', '(', ')', ')', ')', '(', ')', ')', ')', ')', '(', ')', ')', ')', '(', ')', ')', ')', '(', ')', ')', '(', ')', ')', ')', '(', ')']\n",
      "['.start', '(', '(', ')', '(', '(', ')', '(', ')', '(', ')', '(', ')', ')', '(', ')', '(', ')', ')', ')', '(', ')', ')', ')', '(', ')', ')', ')', '(', ')', ')', ')', ')', '(', ')', ')', ')', '(', ')', ')', ')', '(', ')', ')', '(', ')', ')', ')', '(', ')']\n",
      "['.start', '(', '(', ')', '(', '(', ')', '(', ')', '(', ')', '(', ')', ')', '(', ')', '(', ')', ')', ')', '(', ')', ')', ')', '(', ')', ')', ')', '(', ')', ')', ')', ')', '(', ')', ')', ')', '(', ')', ')', ')', '(', ')', ')', '(', ')', ')', ')', '(', ')']\n",
      "['.start', '(', '(', ')', '(', '(', ')', '(', ')', '(', ')', '(', ')', ')', '(', ')', '(', ')', ')', ')', '(', ')', ')', ')', '(', ')', ')', ')', '(', ')', ')', ')', ')', '(', ')', ')', ')', '(', ')', ')', ')', '(', ')', ')', '(', ')', ')', ')', '(', ')']\n",
      "\n",
      "EPOCH 47:\n",
      "['.start', '(', '(', ')', '(', '(', ')', '(', ')', '(', ')', '(', ')', ')', '(', ')', '(', ')', ')', ')', '(', ')', ')', ')', '(', ')', ')', ')', '(', ')', ')', ')', ')', '(', ')', ')', ')', '(', ')', ')', '(', ')', ')', ')', '(', ')', ')', ')', '(', ')']\n",
      "['.start', '(', '(', ')', '(', '(', ')', '(', ')', '(', ')', '(', ')', ')', '(', ')', '(', ')', ')', ')', '(', ')', ')', ')', '(', ')', ')', ')', '(', ')', ')', ')', ')', '(', ')', ')', ')', '(', ')', ')', '(', ')', ')', ')', '(', ')', ')', ')', '(', ')']\n",
      "['.start', '(', '(', ')', '(', '(', ')', '(', ')', '(', ')', '(', ')', ')', '(', ')', '(', ')', ')', ')', '(', ')', ')', ')', '(', ')', ')', ')', '(', ')', ')', ')', ')', '(', ')', ')', ')', '(', ')', ')', '(', ')', ')', ')', '(', ')', ')', ')', '(', ')']\n",
      "['.start', '(', '(', ')', '(', '(', ')', '(', ')', '(', ')', '(', ')', ')', '(', ')', '(', ')', ')', ')', '(', ')', ')', ')', '(', ')', ')', ')', '(', ')', ')', ')', ')', '(', ')', ')', ')', '(', ')', ')', '(', ')', ')', ')', '(', ')', ')', ')', '(', ')']\n",
      "['.start', '(', '(', ')', '(', '(', ')', '(', ')', '(', ')', '(', ')', ')', '(', ')', '(', ')', ')', ')', '(', ')', ')', ')', '(', ')', ')', ')', '(', ')', ')', ')', ')', '(', ')', ')', ')', '(', ')', ')', '(', ')', ')', ')', '(', ')', ')', ')', '(', ')']\n",
      "['.start', '(', '(', ')', '(', '(', ')', '(', ')', '(', ')', '(', ')', ')', '(', ')', '(', ')', ')', ')', '(', ')', ')', ')', '(', ')', ')', ')', '(', ')', ')', ')', ')', '(', ')', ')', ')', '(', ')', ')', '(', ')', ')', ')', '(', ')', ')', ')', '(', ')']\n",
      "['.start', '(', '(', ')', '(', '(', ')', '(', ')', '(', ')', '(', ')', ')', '(', ')', '(', ')', ')', ')', '(', ')', ')', ')', '(', ')', ')', ')', '(', ')', ')', ')', ')', '(', ')', ')', ')', '(', ')', ')', '(', ')', ')', ')', '(', ')', ')', ')', '(', ')']\n",
      "['.start', '(', '(', ')', '(', '(', ')', '(', ')', '(', ')', '(', ')', ')', '(', ')', '(', ')', ')', ')', '(', ')', ')', ')', '(', ')', ')', ')', '(', ')', ')', ')', ')', '(', ')', ')', ')', '(', ')', ')', '(', ')', ')', ')', '(', ')', ')', ')', '(', ')']\n",
      "['.start', '(', '(', ')', '(', '(', ')', '(', ')', '(', ')', '(', ')', ')', '(', ')', '(', ')', ')', ')', '(', ')', ')', ')', '(', ')', ')', ')', '(', ')', ')', ')', ')', '(', ')', ')', ')', '(', ')', ')', '(', ')', ')', ')', '(', ')', ')', ')', '(', ')']\n",
      "['.start', '(', '(', ')', '(', '(', ')', '(', ')', '(', ')', '(', ')', ')', '(', ')', '(', ')', ')', ')', '(', ')', ')', ')', '(', ')', ')', ')', '(', ')', ')', ')', ')', '(', ')', ')', ')', '(', ')', ')', '(', ')', ')', ')', '(', ')', ')', ')', '(', ')']\n",
      "\n",
      "EPOCH 48:\n",
      "['.start', '(', '(', ')', '(', '(', ')', '(', ')', '(', ')', '(', ')', ')', '(', ')', ')', '(', ')', ')', '(', ')', ')', ')', '(', ')', ')', ')', '(', ')', ')', '(', ')', ')', ')', '(', ')', ')', ')', '(', ')', ')', ')', '(', ')', ')', ')', '(', ')', ')']\n",
      "['.start', '(', '(', ')', '(', '(', ')', '(', ')', '(', ')', '(', ')', ')', '(', ')', ')', '(', ')', ')', '(', ')', ')', ')', '(', ')', ')', ')', '(', ')', ')', '(', ')', ')', ')', '(', ')', ')', ')', '(', ')', ')', ')', '(', ')', ')', ')', '(', ')', ')']\n",
      "['.start', '(', '(', ')', '(', '(', ')', '(', ')', '(', ')', '(', ')', ')', '(', ')', ')', '(', ')', ')', '(', ')', ')', ')', '(', ')', ')', ')', '(', ')', ')', '(', ')', ')', ')', '(', ')', ')', ')', '(', ')', ')', ')', '(', ')', ')', ')', '(', ')', ')']\n",
      "['.start', '(', '(', ')', '(', '(', ')', '(', ')', '(', ')', '(', ')', ')', '(', ')', ')', '(', ')', ')', '(', ')', ')', ')', '(', ')', ')', ')', '(', ')', ')', '(', ')', ')', ')', '(', ')', ')', ')', '(', ')', ')', ')', '(', ')', ')', ')', '(', ')', ')']\n",
      "['.start', '(', '(', ')', '(', '(', ')', '(', ')', '(', ')', '(', ')', ')', '(', ')', ')', '(', ')', ')', '(', ')', ')', ')', '(', ')', ')', ')', '(', ')', ')', '(', ')', ')', ')', '(', ')', ')', ')', '(', ')', ')', ')', '(', ')', ')', ')', '(', ')', ')']\n",
      "['.start', '(', '(', ')', '(', '(', ')', '(', ')', '(', ')', '(', ')', ')', '(', ')', ')', '(', ')', ')', '(', ')', ')', ')', '(', ')', ')', ')', '(', ')', ')', '(', ')', ')', ')', '(', ')', ')', ')', '(', ')', ')', ')', '(', ')', ')', ')', '(', ')', ')']\n",
      "['.start', '(', '(', ')', '(', '(', ')', '(', ')', '(', ')', '(', ')', ')', '(', ')', ')', '(', ')', ')', '(', ')', ')', ')', '(', ')', ')', ')', '(', ')', ')', '(', ')', ')', ')', '(', ')', ')', ')', '(', ')', ')', ')', '(', ')', ')', ')', '(', ')', ')']\n",
      "['.start', '(', '(', ')', '(', '(', ')', '(', ')', '(', ')', '(', ')', ')', '(', ')', ')', '(', ')', ')', '(', ')', ')', ')', '(', ')', ')', ')', '(', ')', ')', '(', ')', ')', ')', '(', ')', ')', ')', '(', ')', ')', ')', '(', ')', ')', ')', '(', ')', ')']\n",
      "['.start', '(', '(', ')', '(', '(', ')', '(', ')', '(', ')', '(', ')', ')', '(', ')', ')', '(', ')', ')', '(', ')', ')', ')', '(', ')', ')', ')', '(', ')', ')', '(', ')', ')', ')', '(', ')', ')', ')', '(', ')', ')', ')', '(', ')', ')', ')', '(', ')', ')']\n",
      "['.start', '(', '(', ')', '(', '(', ')', '(', ')', '(', ')', '(', ')', ')', '(', ')', ')', '(', ')', ')', '(', ')', ')', ')', '(', ')', ')', ')', '(', ')', ')', '(', ')', ')', ')', '(', ')', ')', ')', '(', ')', ')', ')', '(', ')', ')', ')', '(', ')', ')']\n",
      "\n",
      "EPOCH 49:\n",
      "['.start', '(', '(', ')', '(', '(', ')', '(', ')', '(', ')', '(', ')', ')', '(', ')', ')', '(', ')', ')', ')', '(', ')', ')', '(', ')', ')', '(', ')', ')', ')', '(', ')', ')', ')', '(', ')', ')', ')', '(', ')', ')', '(', ')', ')', ')', ')', '(', ')', ')']\n",
      "['.start', '(', '(', ')', '(', '(', ')', '(', ')', '(', ')', '(', ')', ')', '(', ')', ')', '(', ')', ')', ')', '(', ')', ')', '(', ')', ')', '(', ')', ')', ')', '(', ')', ')', ')', '(', ')', ')', ')', '(', ')', ')', '(', ')', ')', ')', ')', '(', ')', ')']\n",
      "['.start', '(', '(', ')', '(', '(', ')', '(', ')', '(', ')', '(', ')', ')', '(', ')', ')', '(', ')', ')', ')', '(', ')', ')', '(', ')', ')', '(', ')', ')', ')', '(', ')', ')', ')', '(', ')', ')', ')', '(', ')', ')', '(', ')', ')', ')', ')', '(', ')', ')']\n",
      "['.start', '(', '(', ')', '(', '(', ')', '(', ')', '(', ')', '(', ')', ')', '(', ')', ')', '(', ')', ')', ')', '(', ')', ')', '(', ')', ')', '(', ')', ')', ')', '(', ')', ')', ')', '(', ')', ')', ')', '(', ')', ')', '(', ')', ')', ')', ')', '(', ')', ')']\n",
      "['.start', '(', '(', ')', '(', '(', ')', '(', ')', '(', ')', '(', ')', ')', '(', ')', ')', '(', ')', ')', ')', '(', ')', ')', '(', ')', ')', '(', ')', ')', ')', '(', ')', ')', ')', '(', ')', ')', ')', '(', ')', ')', '(', ')', ')', ')', ')', '(', ')', ')']\n",
      "['.start', '(', '(', ')', '(', '(', ')', '(', ')', '(', ')', '(', ')', ')', '(', ')', ')', '(', ')', ')', ')', '(', ')', ')', '(', ')', ')', '(', ')', ')', ')', '(', ')', ')', ')', '(', ')', ')', ')', '(', ')', ')', '(', ')', ')', ')', ')', '(', ')', ')']\n",
      "['.start', '(', '(', ')', '(', '(', ')', '(', ')', '(', ')', '(', ')', ')', '(', ')', ')', '(', ')', ')', ')', '(', ')', ')', '(', ')', ')', '(', ')', ')', ')', '(', ')', ')', ')', '(', ')', ')', ')', '(', ')', ')', '(', ')', ')', ')', ')', '(', ')', ')']\n",
      "['.start', '(', '(', ')', '(', '(', ')', '(', ')', '(', ')', '(', ')', ')', '(', ')', ')', '(', ')', ')', ')', '(', ')', ')', '(', ')', ')', '(', ')', ')', ')', '(', ')', ')', ')', '(', ')', ')', ')', '(', ')', ')', '(', ')', ')', ')', ')', '(', ')', ')']\n",
      "['.start', '(', '(', ')', '(', '(', ')', '(', ')', '(', ')', '(', ')', ')', '(', ')', ')', '(', ')', ')', ')', '(', ')', ')', '(', ')', ')', '(', ')', ')', ')', '(', ')', ')', ')', '(', ')', ')', ')', '(', ')', ')', '(', ')', ')', ')', ')', '(', ')', ')']\n",
      "['.start', '(', '(', ')', '(', '(', ')', '(', ')', '(', ')', '(', ')', ')', '(', ')', ')', '(', ')', ')', ')', '(', ')', ')', '(', ')', ')', '(', ')', ')', ')', '(', ')', ')', ')', '(', ')', ')', ')', '(', ')', ')', '(', ')', ')', ')', ')', '(', ')', ')']\n",
      "\n",
      "EPOCH 50:\n",
      "['.start', '(', '(', ')', '(', '(', ')', '(', ')', '(', ')', '(', ')', ')', '(', ')', ')', '(', ')', ')', ')', '(', ')', ')', '(', ')', ')', '(', ')', ')', ')', '(', ')', '(', ')', ')', ')', '(', ')', ')', ')', '(', ')', ')', '(', ')', ')', '(', ')', ')']\n",
      "['.start', '(', '(', ')', '(', '(', ')', '(', ')', '(', ')', '(', ')', ')', '(', ')', ')', '(', ')', ')', ')', '(', ')', ')', '(', ')', ')', '(', ')', ')', ')', '(', ')', '(', ')', ')', ')', '(', ')', ')', ')', '(', ')', ')', '(', ')', ')', '(', ')', ')']\n",
      "['.start', '(', '(', ')', '(', '(', ')', '(', ')', '(', ')', '(', ')', ')', '(', ')', ')', '(', ')', ')', ')', '(', ')', ')', '(', ')', ')', '(', ')', ')', ')', '(', ')', '(', ')', ')', ')', '(', ')', ')', ')', '(', ')', ')', '(', ')', ')', '(', ')', ')']\n",
      "['.start', '(', '(', ')', '(', '(', ')', '(', ')', '(', ')', '(', ')', ')', '(', ')', ')', '(', ')', ')', ')', '(', ')', ')', '(', ')', ')', '(', ')', ')', ')', '(', ')', '(', ')', ')', ')', '(', ')', ')', ')', '(', ')', ')', '(', ')', ')', '(', ')', ')']\n",
      "['.start', '(', '(', ')', '(', '(', ')', '(', ')', '(', ')', '(', ')', ')', '(', ')', ')', '(', ')', ')', ')', '(', ')', ')', '(', ')', ')', '(', ')', ')', ')', '(', ')', '(', ')', ')', ')', '(', ')', ')', ')', '(', ')', ')', '(', ')', ')', '(', ')', ')']\n",
      "['.start', '(', '(', ')', '(', '(', ')', '(', ')', '(', ')', '(', ')', ')', '(', ')', ')', '(', ')', ')', ')', '(', ')', ')', '(', ')', ')', '(', ')', ')', ')', '(', ')', '(', ')', ')', ')', '(', ')', ')', ')', '(', ')', ')', '(', ')', ')', '(', ')', ')']\n",
      "['.start', '(', '(', ')', '(', '(', ')', '(', ')', '(', ')', '(', ')', ')', '(', ')', ')', '(', ')', ')', ')', '(', ')', ')', '(', ')', ')', '(', ')', ')', ')', '(', ')', '(', ')', ')', ')', '(', ')', ')', ')', '(', ')', ')', '(', ')', ')', '(', ')', ')']\n",
      "['.start', '(', '(', ')', '(', '(', ')', '(', ')', '(', ')', '(', ')', ')', '(', ')', ')', '(', ')', ')', ')', '(', ')', ')', '(', ')', ')', '(', ')', ')', ')', '(', ')', '(', ')', ')', ')', '(', ')', ')', ')', '(', ')', ')', '(', ')', ')', '(', ')', ')']\n",
      "['.start', '(', '(', ')', '(', '(', ')', '(', ')', '(', ')', '(', ')', ')', '(', ')', ')', '(', ')', ')', ')', '(', ')', ')', '(', ')', ')', '(', ')', ')', ')', '(', ')', '(', ')', ')', ')', '(', ')', ')', ')', '(', ')', ')', '(', ')', ')', '(', ')', ')']\n",
      "['.start', '(', '(', ')', '(', '(', ')', '(', ')', '(', ')', '(', ')', ')', '(', ')', ')', '(', ')', ')', ')', '(', ')', ')', '(', ')', ')', '(', ')', ')', ')', '(', ')', '(', ')', ')', ')', '(', ')', ')', ')', '(', ')', ')', '(', ')', ')', '(', ')', ')']\n",
      "\n"
     ]
    }
   ],
   "source": [
    "i = 1\n",
    "start_seq = [[w2i['.start'], w2i['('], w2i['('], w2i[')']]]\n",
    "print(f'start sequence: {start_seq}')\n",
    "for single_epoch in generated_samples_list:\n",
    "    print(f'EPOCH {i}:')\n",
    "    for x in single_epoch:\n",
    "      print(x)\n",
    "    print()\n",
    "    i +=1\n"
   ]
  },
  {
   "cell_type": "code",
   "execution_count": 16,
   "metadata": {
    "colab": {
     "base_uri": "https://localhost:8080/",
     "height": 1000
    },
    "id": "ZEdX9J7E4m7o",
    "outputId": "6a665742-cde8-4c11-f804-c1e4b79f862b"
   },
   "outputs": [
    {
     "data": {
      "image/png": "[encoded data removed]",
      "text/plain": [
       "<Figure size 1000x400 with 1 Axes>"
      ]
     },
     "metadata": {},
     "output_type": "display_data"
    },
    {
     "data": {
      "image/png": "[encoded data removed]",
      "text/plain": [
       "<Figure size 1000x400 with 1 Axes>"
      ]
     },
     "metadata": {},
     "output_type": "display_data"
    },
    {
     "data": {
      "image/png": "[encoded data removed]",
      "text/plain": [
       "<Figure size 1000x400 with 1 Axes>"
      ]
     },
     "metadata": {},
     "output_type": "display_data"
    }
   ],
   "source": [
    "import matplotlib.pyplot as plt\n",
    "\n",
    "# Plotting loss per token for each epoch\n",
    "plt.figure(figsize=(10, 4))\n",
    "plt.plot(loss_per_token_epoch, label='Loss per Token - Epoch')\n",
    "plt.xlabel('Epoch')\n",
    "plt.ylabel('Loss per Token')\n",
    "plt.title('Loss per Token for Each Epoch')\n",
    "\n",
    "plt.legend()\n",
    "plt.show()\n",
    "\n",
    "# Plotting loss per token for each iteration\n",
    "plt.figure(figsize=(10, 4))\n",
    "plt.plot(loss_per_token_iter, label='Loss per Token - Iteration')\n",
    "plt.xlabel('Iteration')\n",
    "plt.ylabel('Loss per Token')\n",
    "plt.title('Loss per Token for Each Iteration')\n",
    "plt.legend()\n",
    "plt.show()\n",
    "\n",
    "#plotting the gradient norms per epoch\n",
    "plt.figure(figsize=(10, 4))\n",
    "plt.plot(gradient_norms_list , label='Gradient Norms')#bunu degisitr\n",
    "plt.xlabel('Iteration')\n",
    "plt.ylabel('Gradient Norm')\n",
    "plt.title('Gradient Norms During Training')\n",
    "plt.legend()\n",
    "plt.show()"
   ]
  },
  {
   "cell_type": "code",
   "execution_count": null,
   "metadata": {
    "id": "sj9pm3PT4m7o"
   },
   "outputs": [],
   "source": []
  },
  {
   "cell_type": "code",
   "execution_count": null,
   "metadata": {
    "id": "t4kQIM5K4m7o"
   },
   "outputs": [],
   "source": []
  }
 ],
 "metadata": {
  "accelerator": "GPU",
  "colab": {
   "provenance": []
  },
  "kernelspec": {
   "display_name": "Python 3 (ipykernel)",
   "language": "python",
   "name": "python3"
  },
  "language_info": {
   "codemirror_mode": {
    "name": "ipython",
    "version": 3
   },
   "file_extension": ".py",
   "mimetype": "text/x-python",
   "name": "python",
   "nbconvert_exporter": "python",
   "pygments_lexer": "ipython3",
   "version": "3.9.13"
  }
 },
 "nbformat": 4,
 "nbformat_minor": 1
}
